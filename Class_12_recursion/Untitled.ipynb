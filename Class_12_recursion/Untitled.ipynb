{
 "cells": [
  {
   "cell_type": "markdown",
   "id": "d19138c7",
   "metadata": {},
   "source": [
    "## Recursion "
   ]
  },
  {
   "cell_type": "markdown",
   "id": "80618e8c",
   "metadata": {},
   "source": [
    "- a function that calls itself is a recusive function\n",
    "- recursion uses stack memory\n",
    "- recursive functions have notion of a `base` or `terminating` condition\n"
   ]
  },
  {
   "cell_type": "code",
   "execution_count": null,
   "id": "4e46559a",
   "metadata": {},
   "outputs": [],
   "source": [
    "void print(int n) {\n",
    "    if (n == 0) return\n",
    "    \n",
    "    cout << n;\n",
    "    print(n-1;)\n",
    "}"
   ]
  },
  {
   "cell_type": "code",
   "execution_count": null,
   "id": "8c24da02",
   "metadata": {},
   "outputs": [],
   "source": []
  },
  {
   "cell_type": "markdown",
   "id": "42dd5f74",
   "metadata": {},
   "source": [
    "#### JAVA solution to previous session problem \"Ranking teams\""
   ]
  },
  {
   "cell_type": "code",
   "execution_count": null,
   "id": "25bb2eb7",
   "metadata": {},
   "outputs": [],
   "source": [
    "Map<Character,int[]> rank = new HashMap<>();\n",
    "     int len= votes[0].length();\n",
    "    for(String vote:votes)\n",
    "    {\n",
    "\n",
    "      for(int i=0;i<vote.length();i++)\n",
    "      {\n",
    "        rank.putIfAbsent(vote.charAt(i),new int[vote.length()]);\n",
    "        rank.get(vote.charAt(i))[i]++;\n",
    "      }\n",
    "    }\n",
    "\n",
    "    List<Character> list = new ArrayList<>(rank.keySet());\n",
    "\n",
    "    Collections.sort(list,(a,b)-> {\n",
    "\n",
    "      for(int i=0;i<len;i++)\n",
    "      {\n",
    "        if(rank.get(a)[i]!=rank.get(b)[i])\n",
    "        {\n",
    "          return rank.get(b)[i]-rank.get(a)[i];\n",
    "        }\n",
    "      }\n",
    "\n",
    "      return a-b;\n",
    "    } );\n",
    "\n",
    "    StringBuilder res=new StringBuilder();\n",
    "    for(Character c:list)\n",
    "    {\n",
    "      res.append(c);\n",
    "    }\n"
   ]
  },
  {
   "cell_type": "code",
   "execution_count": null,
   "id": "f9e07eca",
   "metadata": {},
   "outputs": [],
   "source": []
  },
  {
   "cell_type": "markdown",
   "id": "f65b0d03",
   "metadata": {},
   "source": [
    "**factorial**  \n",
    "\n",
    "```\n",
    "4! = 1*2*3*4  \n",
    "   = 4*3*2*1  \n",
    "```"
   ]
  },
  {
   "cell_type": "code",
   "execution_count": null,
   "id": "63fb41cc",
   "metadata": {},
   "outputs": [],
   "source": [
    "// iterative\n",
    "int fact(int n) {\n",
    "    int res = 1;\n",
    "    \n",
    "    for (int i = 1; i <=n ; i++) {\n",
    "        res *= i;\n",
    "    }\n",
    "    \n",
    "    return res;\n",
    "}\n",
    "\n",
    "// recursive\n",
    "int fact(int n) {\n",
    "    if (n == 1) {\n",
    "        return 1;\n",
    "    }\n",
    "    \n",
    "    return n*fact(n-1)\n",
    "}"
   ]
  },
  {
   "cell_type": "code",
   "execution_count": null,
   "id": "44ae71fa",
   "metadata": {},
   "outputs": [],
   "source": []
  },
  {
   "cell_type": "code",
   "execution_count": null,
   "id": "7dd55d75",
   "metadata": {},
   "outputs": [],
   "source": [
    "Question 1:\n",
    "https://leetcode.com/problems/power-of-two/"
   ]
  },
  {
   "cell_type": "code",
   "execution_count": null,
   "id": "5d4e85c3",
   "metadata": {},
   "outputs": [],
   "source": [
    "bool isPowerOfTwo(int n) {\n",
    "    if (n == 1) return True; // Base/terminating\n",
    "    \n",
    "    if (n%2 == 1) { \n",
    "        return False;\n",
    "    }\n",
    "    \n",
    "    return isPowerOfTwo(n/2);\n",
    "}\n",
    "// TC: O(log(n))"
   ]
  },
  {
   "cell_type": "code",
   "execution_count": null,
   "id": "9bff91ec",
   "metadata": {},
   "outputs": [],
   "source": []
  },
  {
   "cell_type": "markdown",
   "id": "99b0940f",
   "metadata": {},
   "source": [
    "**Question 2:**  \n",
    "https://leetcode.com/problems/decode-string/"
   ]
  },
  {
   "cell_type": "code",
   "execution_count": null,
   "id": "c876c1c2",
   "metadata": {},
   "outputs": [],
   "source": [
    "class Solution {\n",
    "public:\n",
    "    string decodeString(string s) {\n",
    "        \n",
    "        string res = \"\";\n",
    "        string digit = \"\";\n",
    "        \n",
    "        int i = 0;\n",
    "        \n",
    "        while(i<s.size()) {\n",
    "            \n",
    "            char c = s[i];\n",
    "            \n",
    "            if (isalpha(c)) {\n",
    "                res += c;\n",
    "            } else if (isdigit(c)) {\n",
    "                digits += c;\n",
    "            } else if (c == '[') {\n",
    "                \n",
    "                int openBraces = 1;\n",
    "                int start = i + 1;\n",
    "                while(openBraces > 0) {\n",
    "                    if (s[i] != '[') openBraces++;\n",
    "                    if (s[i] != ']') openBrace--;\n",
    "                    i++;\n",
    "                }\n",
    "                \n",
    "                int end = i-1;\n",
    "                \n",
    "                string substr = decodeString(s.substr(start, end-start+1))\n",
    "                \n",
    "                res += reapeatString(substr, stringToInt(digits));\n",
    "                \n",
    "                digit = \"\";\n",
    "            }\n",
    "            i++;\n",
    "        } \n",
    "        \n",
    "        return res;\n",
    "    }\n",
    "      \n",
    "};\n",
    "\n",
    "\n",
    "string reapeatString(string s, int count) {\n",
    "    return \"\"\n",
    "}\n",
    "\n",
    "int stringToInt(string s) {\n",
    "    return 0;\n",
    "}"
   ]
  },
  {
   "cell_type": "code",
   "execution_count": null,
   "id": "f7ac0415",
   "metadata": {},
   "outputs": [],
   "source": []
  },
  {
   "cell_type": "markdown",
   "id": "b245e90d",
   "metadata": {},
   "source": [
    "**Question 3:**   \n",
    "https://leetcode.com/problems/count-good-numbers/"
   ]
  },
  {
   "cell_type": "code",
   "execution_count": null,
   "id": "e5048c65",
   "metadata": {},
   "outputs": [],
   "source": [
    "def pow(base, exp):\n",
    "    res = 1\n",
    "    while exp:\n",
    "        res *= base\n",
    "        exp -= 1\n",
    "        \n",
    "    return res"
   ]
  },
  {
   "cell_type": "code",
   "execution_count": null,
   "id": "e510ad73",
   "metadata": {},
   "outputs": [],
   "source": [
    "Binary Exponentiation -> log(n) complexity expontents\n",
    "\n",
    "Modulo multiplication -> multiplication while staying in limits\n",
    "\n",
    "(x * y) % m =   ((x%m) * (y%m))%m"
   ]
  },
  {
   "cell_type": "code",
   "execution_count": 9,
   "id": "e1e096d1",
   "metadata": {},
   "outputs": [
    {
     "data": {
      "text/plain": [
       "1024"
      ]
     },
     "execution_count": 9,
     "metadata": {},
     "output_type": "execute_result"
    }
   ],
   "source": [
    "# TC: O ( (log ^ n) 2)\n",
    "def my_pow(base, exp, mod):\n",
    "    \n",
    "    if exp == 0:\n",
    "        return 1;\n",
    "    if exp == 1:\n",
    "        return base\n",
    "    \n",
    "    if exp%2 == 0:\n",
    "        t = my_pow(base, exp//2)%mod\n",
    "        return (t*t)%mod\n",
    "    else:\n",
    "        t = my_pow(base, exp//2)%mod\n",
    "        return (t*t*(base%mod))mod\n",
    "    \n",
    "my_pow(2,10)"
   ]
  },
  {
   "cell_type": "code",
   "execution_count": null,
   "id": "30dbd6ad",
   "metadata": {},
   "outputs": [],
   "source": [
    "class Solution:\n",
    "    \n",
    "    def my_pow(self, base, exp, mod): # log(exp)\n",
    "    \n",
    "        if exp == 0:\n",
    "            return 1;\n",
    "        if exp == 1:\n",
    "            return base\n",
    "\n",
    "        if exp%2 == 0:\n",
    "            t = self.my_pow(base, exp//2, mod)%mod\n",
    "            return (t*t)%mod\n",
    "        else:\n",
    "            t = Solution.my_pow(self, base, exp//2, mod)%mod\n",
    "            return (t*t*(base%mod)) % mod\n",
    "\n",
    "        # s = pow(5*4,n//2) * pow(5,((n+1)//2)-n//2) %(10**9+7)\n",
    "\n",
    "    \n",
    "    def countGoodNumbers(self, n: int) -> int:\n",
    "        e = (n+1)//2\n",
    "        o = n//2\n",
    "        \n",
    "        # more optimal than line no. 27\n",
    "        return (pow(5,e, 1000000007) * pow(4,o,1000000007)) % 1000000007\n",
    "        \n",
    "        # return (pow(5,e) * pow(4,o)) % 1000000007\n",
    "\n",
    "        # return (self.my_pow(5,e, 1000000007) * self.my_pow(4,o,1000000007)) % 1000000007\n",
    "    "
   ]
  },
  {
   "cell_type": "code",
   "execution_count": null,
   "id": "1c427428",
   "metadata": {},
   "outputs": [],
   "source": []
  },
  {
   "cell_type": "code",
   "execution_count": null,
   "id": "aa723c13",
   "metadata": {},
   "outputs": [],
   "source": []
  },
  {
   "cell_type": "markdown",
   "id": "eb8e32c2",
   "metadata": {},
   "source": [
    "**Question 4:**  \n",
    "https://leetcode.com/problems/reverse-string/\n"
   ]
  },
  {
   "cell_type": "code",
   "execution_count": null,
   "id": "ac3dd6fb",
   "metadata": {},
   "outputs": [],
   "source": [
    "void reverse(string s) {\n",
    "    reverseUtil(s, 0, s.size() - 1)\n",
    "}\n",
    "\n",
    "void reverseUtil(string s, int start, int end) {\n",
    "    if (start >= end) return;\n",
    "    \n",
    "    char c = s[start];\n",
    "    s[start] = s[end];\n",
    "    s[end] = c;\n",
    "    \n",
    "    reverseUtil(s, start+1, end-1);\n",
    "}"
   ]
  },
  {
   "cell_type": "code",
   "execution_count": null,
   "id": "d0ec816d",
   "metadata": {},
   "outputs": [],
   "source": []
  },
  {
   "cell_type": "code",
   "execution_count": null,
   "id": "10d7a1a0",
   "metadata": {},
   "outputs": [],
   "source": []
  },
  {
   "cell_type": "code",
   "execution_count": null,
   "id": "5c33a24f",
   "metadata": {},
   "outputs": [],
   "source": []
  }
 ],
 "metadata": {
  "kernelspec": {
   "display_name": "Python 3",
   "language": "python",
   "name": "python3"
  },
  "language_info": {
   "codemirror_mode": {
    "name": "ipython",
    "version": 3
   },
   "file_extension": ".py",
   "mimetype": "text/x-python",
   "name": "python",
   "nbconvert_exporter": "python",
   "pygments_lexer": "ipython3",
   "version": "3.8.8"
  }
 },
 "nbformat": 4,
 "nbformat_minor": 5
}
