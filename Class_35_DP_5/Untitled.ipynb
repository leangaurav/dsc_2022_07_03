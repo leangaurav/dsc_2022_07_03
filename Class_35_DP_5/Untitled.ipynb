{
 "cells": [
  {
   "cell_type": "code",
   "execution_count": null,
   "id": "3a1375f8",
   "metadata": {},
   "outputs": [],
   "source": [
    "# LCS: Longest common sub sequence\n",
    "# LIS: Longest increasing sub sequence"
   ]
  },
  {
   "cell_type": "code",
   "execution_count": null,
   "id": "7f15281e",
   "metadata": {},
   "outputs": [],
   "source": [
    "a = 1,3,5,2,9\n",
    "\n",
    "s = 1,9,5\n",
    "\n",
    "s = 1,5,9\n",
    "\n",
    "Sub Sequence:\n",
    "Subset:"
   ]
  },
  {
   "cell_type": "markdown",
   "id": "14d19b81",
   "metadata": {},
   "source": [
    "# Longest common sub sequence\n",
    "https://leetcode.com/problems/longest-common-subsequence/"
   ]
  },
  {
   "cell_type": "code",
   "execution_count": null,
   "id": "3cdda412",
   "metadata": {},
   "outputs": [],
   "source": [
    "\n",
    "\n",
    "recursive\n",
    "#JAVA\n",
    "public int lcs(String text1,int idx1, String text2,int idx2) {\n",
    "    if(idx1<0 || idx2<0) return 0;\n",
    "\n",
    "    if(text1.charAt(idx1)==text2.charAt(idx2)) return 1+lcs(text1,idx1-1,text2,idx2-1);\n",
    "    else return Math.max(lcs(text1,idx1,text2,idx2-1),lcs(text1,idx1-1,text2,idx2));\n",
    "}\n"
   ]
  },
  {
   "cell_type": "code",
   "execution_count": null,
   "id": "df451081",
   "metadata": {},
   "outputs": [],
   "source": [
    "public int longcomSubSeq(String text1, String text2,int n, int m){\n",
    "    if(n==0 || m == 0)\n",
    "        return 0;\n",
    "    if(text1.charAt(n-1) == text2.charAt(m-1))\n",
    "        return 1+longcomSubSeq(text1,text2,n-1,m-1);\n",
    "\n",
    "    return Math.max(longcomSubSeq(text1,text2,n-1,m),longcomSubSeq(text1,text2,n,m-1));\n",
    "}"
   ]
  },
  {
   "cell_type": "code",
   "execution_count": null,
   "id": "a54e0f98",
   "metadata": {},
   "outputs": [],
   "source": [
    "# text1 = \"abcde\", text2 = \"adce\" \n",
    "#          01234            0123\n",
    "#   i j\n",
    "#   0 0"
   ]
  },
  {
   "cell_type": "code",
   "execution_count": null,
   "id": "efd595a8",
   "metadata": {},
   "outputs": [],
   "source": [
    "\n",
    "func longestCommonSubsequence(_ text1: String, _ text2: String) -> Int {\n",
    "        var arr1 = Array(text1)\n",
    "        var arr2 = Array(text2)\n",
    "\n",
    "        return longest(arr1, arr1.count - 1, arr2, arr2.count - 1)\n",
    "    }\n",
    "\n",
    "    func longest(_ arr1: [Character], _ firstInd: Int, _ arr2: [Character], _ secInd: Int) -> Int {\n",
    "        if firstInd < 0 || secInd < 0 { return 0 }\n",
    "\n",
    "        if arr1[firstInd].lowercased() == arr2[secInd].lowercased() {\n",
    "            return 1 + longest(arr1, firstInd - 1, arr2, secInd - 1)\n",
    "        } else {\n",
    "            return max(longest(arr1, firstInd - 1, arr2, secInd),\n",
    "                       longest(arr1, firstInd, arr2, secInd - 1))\n",
    "        }\n",
    "    }\n"
   ]
  },
  {
   "cell_type": "code",
   "execution_count": null,
   "id": "e6eb52a9",
   "metadata": {},
   "outputs": [],
   "source": []
  },
  {
   "cell_type": "code",
   "execution_count": null,
   "id": "43f79141",
   "metadata": {},
   "outputs": [],
   "source": [
    "class Solution:\n",
    "    def longestCommonSubsequence(self, text1: str, text2: str) -> int:\n",
    "        \n",
    "        # concept from leetcode , modified for my ease\n",
    "        dp = [[0 for j in range(len(text2)+1)] for i in range(len(text1)+1)]\n",
    "        \n",
    "        for i in range(1,len(text1)+1):\n",
    "            for j in range(1,len(text2)+1):\n",
    "                if text1[i-1]==text2[j-1]:\n",
    "                    dp[i][j] = 1 + dp[i-1][j-1]\n",
    "                else:\n",
    "                    dp[i][j] = max(dp[i-1][j], dp[i][j-1])\n",
    "        # print(dp)\n",
    "        return dp[len(text1)][len(text2)]\n"
   ]
  },
  {
   "cell_type": "code",
   "execution_count": null,
   "id": "ef660f07",
   "metadata": {},
   "outputs": [],
   "source": []
  },
  {
   "cell_type": "code",
   "execution_count": null,
   "id": "6c740a8c",
   "metadata": {},
   "outputs": [],
   "source": []
  },
  {
   "cell_type": "code",
   "execution_count": null,
   "id": "49cf66dd",
   "metadata": {},
   "outputs": [],
   "source": [
    "class Solution {\n",
    "public:\n",
    "    int dp[1002][1002];\n",
    "    int longestCommonSubsequence(string text1, string text2) {\n",
    "        int n1=text1.size();\n",
    "        int n2=text2.size();\n",
    "        memset(dp,-1,sizeof(dp));\n",
    "        int ans = lcs(text1,text2,n1,n2);\n",
    "        return ans;\n",
    "    }\n",
    "    \n",
    "    int lcs(string &text1, string &text2,int n1,int n2){\n",
    "        if(n1==0 || n2==0) return 0;\n",
    "\n",
    "        if(dp[n1][n2]!=-1) return dp[n1][n2];\n",
    "        \n",
    "        if(text1[n1-1]==text2[n2-1]){\n",
    "            return dp[n1][n2]=1+lcs(text1,text2,n1-1,n2-1);\n",
    "        }\n",
    "        \n",
    "        return dp[n1][n2]=max(lcs(text1,text2,n1-1,n2),lcs(text1,text2,n1,n2-1));\n",
    "    }\n",
    "};\n"
   ]
  },
  {
   "cell_type": "code",
   "execution_count": null,
   "id": "e8e8e91f",
   "metadata": {},
   "outputs": [],
   "source": []
  },
  {
   "cell_type": "code",
   "execution_count": null,
   "id": "5de1c984",
   "metadata": {},
   "outputs": [],
   "source": []
  },
  {
   "cell_type": "markdown",
   "id": "2e3a4d3f",
   "metadata": {},
   "source": [
    "# LIS: Longest increasing sub sequence\n",
    "https://leetcode.com/problems/longest-increasing-subsequence/"
   ]
  },
  {
   "cell_type": "code",
   "execution_count": null,
   "id": "1eb90ec0",
   "metadata": {},
   "outputs": [],
   "source": [
    "func lengthOfLIS(_ nums: [Int]) -> Int {\n",
    "    guard !nums.isEmpty else {\n",
    "        return 0\n",
    "    }\n",
    "\n",
    "    var dp = Array(repeating: 1, count: nums.count)\n",
    "\n",
    "    for i in 1..<nums.count {\n",
    "        for j in 0..<i {\n",
    "            if nums[i] > nums[j] {\n",
    "                dp[i] = max(dp[i], 1 + dp[j])\n",
    "            }\n",
    "        }\n",
    "    }\n",
    "\n",
    "    return dp.sorted().last!\n",
    "}\n"
   ]
  },
  {
   "cell_type": "code",
   "execution_count": null,
   "id": "01042b76",
   "metadata": {},
   "outputs": [],
   "source": []
  },
  {
   "cell_type": "code",
   "execution_count": null,
   "id": "d234be96",
   "metadata": {},
   "outputs": [],
   "source": []
  },
  {
   "cell_type": "code",
   "execution_count": null,
   "id": "5188e5e2",
   "metadata": {},
   "outputs": [],
   "source": [
    "[10,9,2,5,3,7,101,18, 4]\n",
    "[1  1 1 2 2 3  4   4, 3]\n",
    "\n",
    "[2 9 10]\n",
    " 1 1  1\n",
    "\n",
    "[10] = 1\n",
    "\n",
    "\n",
    " \n",
    "\n",
    "class Solution:\n",
    "    def lengthOfLIS(self, nums: List[int]) -> int:\n",
    "        l = len(nums)\n",
    "        dp= [1]*l\n",
    "        mm = 1\n",
    "        for i in range(l-1,-1,-1):\n",
    "            j = i+1\n",
    "            while j < l:\n",
    "                if nums[i] < nums[j]:\n",
    "                    dp[i] = max(dp[i],dp[j]+1)\n",
    "                j+=1\n",
    "            mm=max(dp[i],mm)\n",
    "\n",
    "        return mm\n"
   ]
  },
  {
   "cell_type": "code",
   "execution_count": null,
   "id": "574b5fc0",
   "metadata": {},
   "outputs": [],
   "source": []
  },
  {
   "cell_type": "code",
   "execution_count": null,
   "id": "e1774e12",
   "metadata": {},
   "outputs": [],
   "source": [
    "   def lengthOfLIS(self, nums: List[int]) -> int:\n",
    "        if len(nums) == 0:\n",
    "            return 0\n",
    "\n",
    "        return lisUtil(nums, 0)\n",
    "\n",
    "    def lisUtil(self, nums, idx):\n",
    "        if idx >= len(nums):\n",
    "            return 0\n",
    "\n",
    "        res = 0\n",
    "        for i in range(idx, len(nums)):\n",
    "            curr = i\n",
    "\n",
    "            for j in range(i + 1, len(nums)):\n",
    "                if nums[j] > nums[curr]:\n",
    "                    r = 1 + lisUtil(nums, j + 1)\n",
    "                if r > res:\n",
    "                    res = r\n",
    "\n",
    "        return res\n",
    "    \n",
    "[10,9,2,5,3,7,101,18, 4]\n",
    " 0  1 2 3 4 5  6   7  8\n",
    "\n",
    "                                       util(0)\n",
    "                             0   1  2  3   4   5   6   7   8\n",
    "                          \n",
    "    \n"
   ]
  },
  {
   "cell_type": "code",
   "execution_count": null,
   "id": "03cb7ab2",
   "metadata": {},
   "outputs": [],
   "source": [
    "\n",
    "    sub = []\n",
    "    for x in nums:\n",
    "        if len(sub) == 0 or sub[-1] < x:\n",
    "            sub.append(x)\n",
    "        else:\n",
    "            idx = bisect_left(sub, x)  # Find the index of the smallest number >= x\n",
    "            sub[idx] = x  # Replace that number with x\n",
    "    return len(sub)\n",
    "\n",
    "[10,9,2,5,3,7,101,18, 4]\n",
    "\n",
    "\n",
    "[10] -> 1\n",
    "[9, 10] -> 1\n",
    "[2, 9, 10] -> 1\n",
    "[2, 5, 9, 10] -> 2\n",
    "[2, 3, 5, 9, 10] -> 3\n",
    "[2, 3, 5, 9, 10] -> 3\n",
    "\n",
    "[2,3,4,18]"
   ]
  },
  {
   "cell_type": "code",
   "execution_count": null,
   "id": "cfa9b35c",
   "metadata": {},
   "outputs": [],
   "source": []
  },
  {
   "cell_type": "code",
   "execution_count": null,
   "id": "504c5f33",
   "metadata": {},
   "outputs": [],
   "source": [
    "https://www.geeksforgeeks.org/dynamic-programming-building-bridges/"
   ]
  }
 ],
 "metadata": {
  "kernelspec": {
   "display_name": "Python 3",
   "language": "python",
   "name": "python3"
  },
  "language_info": {
   "codemirror_mode": {
    "name": "ipython",
    "version": 3
   },
   "file_extension": ".py",
   "mimetype": "text/x-python",
   "name": "python",
   "nbconvert_exporter": "python",
   "pygments_lexer": "ipython3",
   "version": "3.8.8"
  }
 },
 "nbformat": 4,
 "nbformat_minor": 5
}
