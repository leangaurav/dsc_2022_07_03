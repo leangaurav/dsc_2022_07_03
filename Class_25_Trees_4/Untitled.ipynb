{
 "cells": [
  {
   "cell_type": "markdown",
   "id": "3f344ff1",
   "metadata": {},
   "source": [
    "# Trees - 5"
   ]
  },
  {
   "cell_type": "code",
   "execution_count": null,
   "id": "777c07f5",
   "metadata": {},
   "outputs": [],
   "source": []
  },
  {
   "cell_type": "markdown",
   "id": "54165477",
   "metadata": {},
   "source": [
    "Find largest value less than or equal to k\n",
    "\n",
    "**Solution-1**  \n",
    "- Use inorder traversal\n",
    "- Store the previous value\n",
    "- Return previous value when current value is greater than k\n",
    "\n",
    "TC: O(N)  \n",
    "SC:O(log N)\n",
    "\n",
    "\n",
    "**Solution-2**  \n",
    "**C++**  \n",
    "```\n",
    "int findMaxforK(TreeNode* root, int k) {\n",
    "    if (root == NULL) return INT_MIN;\n",
    "    \n",
    "    if (root->val >  k)\n",
    "        return findMaxforK(root->left, k);\n",
    "        \n",
    "    if (root->val == k || root->right == NULL)\n",
    "        return root->val;\n",
    "        \n",
    "    return findMaxforK(root->right, k);\n",
    "}\n",
    "\n",
    "```\n",
    "\n",
    "TC: O(log N)   \n",
    "SC: O(log N)"
   ]
  },
  {
   "cell_type": "code",
   "execution_count": null,
   "id": "eec2b3e5",
   "metadata": {},
   "outputs": [],
   "source": [
    "\n"
   ]
  },
  {
   "cell_type": "markdown",
   "id": "7d29f948",
   "metadata": {},
   "source": [
    "Check if tree is balanced  \n",
    "https://leetcode.com/problems/balanced-binary-tree/"
   ]
  },
  {
   "cell_type": "markdown",
   "id": "2dfb1026",
   "metadata": {},
   "source": [
    "Solution-1  \n",
    "```\n",
    "public boolean isBalanced(TreeNode root) {\n",
    "        \n",
    "        \n",
    "        int depthLeft=maxDepth(root.left);\n",
    "        int dethRight=maxDepth(root.right);\n",
    "    \n",
    "        if (abs(depthLeft - depthRight) > 1) return false;\n",
    "    \n",
    "        return isBalanced(root.left) && isBalanced(root.right);\n",
    "        \n",
    "    }\n",
    "    \n",
    "    // TC: O(N)\n",
    "    public int maxDepth(TreeNode root) {\n",
    "        if (root==null)\n",
    "            return 0;\n",
    "        return 1 + max(maxDepth(root.left), maxDepth(root.right));\n",
    "    }\n",
    "}\n",
    "```\n",
    "\n",
    "\n",
    "**python**  \n",
    "```\n",
    "class Solution:\n",
    "    def isBalanced(self, root: Optional[TreeNode]) -> bool:\n",
    "        if root is None:\n",
    "            return True\n",
    "        \n",
    "        lh = self.heightCheck(root.left)\n",
    "        rh = self.heightCheck(root.right)\n",
    "        \n",
    "        if abs(lh-rh) > 1:\n",
    "            return False\n",
    "        \n",
    "        return self.isBalanced(root.left) and self.isBalanced(root.right)\n",
    "        \n",
    "        \n",
    "    \n",
    "    def heightCheck(self, root) -> int:\n",
    "        if root is None:\n",
    "            return 0 \n",
    "        \n",
    "        return 1 + max(self.heightCheck(root.left) , self.heightCheck(root.right))\n",
    "```\n",
    "\n",
    "TC: O(N^2)"
   ]
  },
  {
   "cell_type": "markdown",
   "id": "15c52836",
   "metadata": {},
   "source": [
    "Solution-2  \n",
    "Since heights are always positive, we use the return value of height to represent two state:\n",
    "1. When subtree is not balanced => -1\n",
    "2. When subtree is balanced => a positive height [0, +inf)\n",
    "\n",
    "```\n",
    "def isBalanced(self, root) -> int:\n",
    "    return self.isBalancedUtil(root) != -1\n",
    "\n",
    "def isBalancedUtil(self, root) -> int:\n",
    "        if root is None:\n",
    "            return 0 \n",
    "\n",
    "        lh = self.isBalancedUtil(root.left)\n",
    "        if lh == -1:\n",
    "            return -1\n",
    "        \n",
    "        rh = self.isBalancedUtil(root.right)\n",
    "        if rh == -1:\n",
    "            return -1\n",
    "\n",
    "        if abs(lh - rh) > 1:\n",
    "            return -1\n",
    "        \n",
    "        return 1 + max(lh, rh)\n",
    "    \n",
    "\n",
    "      A\n",
    "    /    \\\n",
    "   B(2,0) P\n",
    "  /        \\\n",
    " c (1,0)    Q\n",
    "/\n",
    "D(0,0)\n",
    "\n",
    "\n",
    "TC: O(N)\n",
    "```  \n"
   ]
  },
  {
   "cell_type": "code",
   "execution_count": null,
   "id": "7a0f00de",
   "metadata": {},
   "outputs": [],
   "source": []
  },
  {
   "cell_type": "code",
   "execution_count": null,
   "id": "ebe4fdcc",
   "metadata": {},
   "outputs": [],
   "source": []
  },
  {
   "cell_type": "code",
   "execution_count": null,
   "id": "edcf1910",
   "metadata": {},
   "outputs": [],
   "source": []
  }
 ],
 "metadata": {
  "kernelspec": {
   "display_name": "Python 3",
   "language": "python",
   "name": "python3"
  },
  "language_info": {
   "codemirror_mode": {
    "name": "ipython",
    "version": 3
   },
   "file_extension": ".py",
   "mimetype": "text/x-python",
   "name": "python",
   "nbconvert_exporter": "python",
   "pygments_lexer": "ipython3",
   "version": "3.8.8"
  }
 },
 "nbformat": 4,
 "nbformat_minor": 5
}
