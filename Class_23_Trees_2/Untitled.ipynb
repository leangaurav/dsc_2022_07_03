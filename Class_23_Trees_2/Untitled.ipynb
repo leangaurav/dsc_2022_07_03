{
 "cells": [
  {
   "cell_type": "markdown",
   "id": "cee75c85",
   "metadata": {},
   "source": [
    "# Trees: BST"
   ]
  },
  {
   "cell_type": "code",
   "execution_count": null,
   "id": "bb5af9dd",
   "metadata": {},
   "outputs": [],
   "source": []
  },
  {
   "cell_type": "markdown",
   "id": "e8865483",
   "metadata": {},
   "source": [
    "## Binary Tree"
   ]
  },
  {
   "cell_type": "markdown",
   "id": "a3f8d931",
   "metadata": {},
   "source": [
    "https://leetcode.com/problems/symmetric-tree/"
   ]
  },
  {
   "cell_type": "markdown",
   "id": "a6862f10",
   "metadata": {},
   "source": [
    "C#\n",
    "```\n",
    "    public bool IsSymmetric(TreeNode root) {\n",
    "        \n",
    "        return IsMirror(root,root);\n",
    "    }\n",
    "    public bool IsMirror(TreeNode node1, TreeNode node2)\n",
    "    {\n",
    "        if(node1 == null && node2 == null)\n",
    "            return true;\n",
    "        \n",
    "        if(node1 != null && node2 != null && node1.val == node2.val)\n",
    "        {\n",
    "            return IsMirror(node1.left,node2.right) && IsMirror(node1.right, node2.left);\n",
    "        }\n",
    "        \n",
    "        return false;\n",
    "        \n",
    "    }\n",
    "    \n",
    "    \n",
    "    \n",
    "    public bool IsSymmetric(TreeNode root) {\n",
    "        \n",
    "        return IsMirror(root,root);\n",
    "    }\n",
    "    public bool IsMirror(TreeNode node1, TreeNode node2)\n",
    "    {\n",
    "        if(node1 == null && node2 == null)\n",
    "            return true;\n",
    "            \n",
    "        if (node1 != null && node2 == null) || (node1 == null && node2 != null) return false;\n",
    "        \n",
    "        if (node1.val != node2.val) return false;\n",
    "        \n",
    "        return IsMirror(node1.left,node2.right) && IsMirror(node1.right, node2.left);        \n",
    "    }\n",
    "```"
   ]
  },
  {
   "cell_type": "code",
   "execution_count": null,
   "id": "0e35d1e4",
   "metadata": {},
   "outputs": [],
   "source": []
  },
  {
   "cell_type": "markdown",
   "id": "3030ad04",
   "metadata": {},
   "source": [
    "Find the min depth of tree  \n",
    "https://leetcode.com/problems/minimum-depth-of-binary-tree/\n",
    "\n",
    "```\n",
    "class Solution {\n",
    "    public int minDepth(TreeNode root) {\n",
    "\n",
    "        if(root==null)\n",
    "            return 0;\n",
    "\n",
    "        int d1 = minDepth(root.left);\n",
    "        int d2 = minDepth(root.right);\n",
    "        \n",
    "        int min = Math.min(d1,d2);\n",
    "        if (min == 0) {\n",
    "            min = Math.max(d1,d2);\n",
    "        }\n",
    "        \n",
    "        return 1+min;\n",
    "    }\n",
    "}\n",
    "```"
   ]
  },
  {
   "cell_type": "code",
   "execution_count": null,
   "id": "f12d7f9d",
   "metadata": {},
   "outputs": [],
   "source": []
  },
  {
   "cell_type": "markdown",
   "id": "7a88700d",
   "metadata": {},
   "source": [
    "Right view:  \n",
    "https://leetcode.com/problems/binary-tree-right-side-view/\n",
    "    \n",
    "Solution-1\n",
    "BFS:\n",
    "1. In BFS solution keep additional Node pointer\n",
    "2. Update the pointer each time we pop from queue (update when not null)\n",
    "3. When we get the level change marker i.e. NULL, update the result with the value in pointer.\n",
    "\n",
    "\n",
    "Solution-2\n",
    "DFS:\n",
    "    1. Preorder\n",
    "    2. Inorder\n",
    "    3. PostOrder\n",
    "    \n",
    "rRL\n",
    "\n",
    "\n",
    "C#\n",
    "```\n",
    "    public int maxLevel =0;\n",
    "    public IList<int> RightSideView(TreeNode root) {\n",
    "        IList<int> list = new List<int>();\n",
    "        RightSideView(root,list,1);\n",
    "        \n",
    "        return list;\n",
    "        \n",
    "    }\n",
    "    \n",
    "    public void RightSideView(TreeNode root,IList<int> list,int level)\n",
    "    {\n",
    "        if(root == null)\n",
    "        {\n",
    "            return;\n",
    "        }\n",
    "        if(maxLevel < level)\n",
    "        {\n",
    "            list.Add(root.val);\n",
    "            maxLevel = level;\n",
    "        }\n",
    "        \n",
    "        RightSideView(root.right,list,level+1);\n",
    "        RightSideView(root.left,list,level+1);       \n",
    "        \n",
    "    }\n",
    "```\n",
    "\n",
    "\n",
    "JAVA\n",
    "```\n",
    "    public List<Integer> rightSideView(TreeNode root) {\n",
    "        List<Integer> list=new ArrayList<>();\n",
    "        rightSideViewHelper(root,list,0);\n",
    "        return list;\n",
    "    }\n",
    "\n",
    "    void rightSideViewHelper(TreeNode root,List list,int level){\n",
    "        if(root==null)\n",
    "            return;\n",
    "        \n",
    "        if(list.size()==level) {\n",
    "            list.add(root.val);\n",
    "        }\n",
    "        \n",
    "        rightSideViewHelper(root.right,list,level+1);\n",
    "        rightSideViewHelper(root.left,list,level+1);\n",
    "    }\n",
    "```\n",
    "\n",
    "Explanation\n",
    "```\n",
    "     1\n",
    "   /   \\\n",
    "  2     3\n",
    " /  \\   \n",
    "4   5 \n",
    "    /\n",
    "   6\n",
    "\n",
    "f(1, [], 0)\n",
    "        f(3, [1], 1)                         f(2, [1,3], 1) \n",
    "            f(-, [1,3], 2)  f(-, [1,3], 2)         f(5, [1,3], 2)                                               f(-, [1,3,5,6], 2)\n",
    "                                                       f(-, [1,3,5], 3)  f(6, [1,3,5], 3)\n",
    "                                                                     f(-, [1,3,5,6], 4)  f(-, [1,3,5,6], 4)\n",
    "```"
   ]
  },
  {
   "cell_type": "code",
   "execution_count": null,
   "id": "4f88e339",
   "metadata": {},
   "outputs": [],
   "source": []
  },
  {
   "cell_type": "code",
   "execution_count": null,
   "id": "64db4d8e",
   "metadata": {},
   "outputs": [],
   "source": []
  },
  {
   "cell_type": "code",
   "execution_count": null,
   "id": "7ce9d837",
   "metadata": {},
   "outputs": [],
   "source": []
  },
  {
   "cell_type": "markdown",
   "id": "12ad7bb3",
   "metadata": {},
   "source": [
    "Sum of All nodes in binary tree"
   ]
  },
  {
   "cell_type": "code",
   "execution_count": null,
   "id": "4f99a2b1",
   "metadata": {},
   "outputs": [],
   "source": []
  },
  {
   "cell_type": "code",
   "execution_count": null,
   "id": "dd7ddaef",
   "metadata": {},
   "outputs": [],
   "source": []
  },
  {
   "cell_type": "code",
   "execution_count": null,
   "id": "35b601a6",
   "metadata": {},
   "outputs": [],
   "source": []
  },
  {
   "cell_type": "markdown",
   "id": "2c982fd9",
   "metadata": {},
   "source": [
    "## BST"
   ]
  },
  {
   "cell_type": "code",
   "execution_count": null,
   "id": "8b2e2c92",
   "metadata": {},
   "outputs": [],
   "source": []
  },
  {
   "cell_type": "code",
   "execution_count": null,
   "id": "a0628dc2",
   "metadata": {},
   "outputs": [],
   "source": []
  },
  {
   "cell_type": "code",
   "execution_count": null,
   "id": "19c2c300",
   "metadata": {},
   "outputs": [],
   "source": []
  },
  {
   "cell_type": "code",
   "execution_count": null,
   "id": "ad65351e",
   "metadata": {},
   "outputs": [],
   "source": []
  },
  {
   "cell_type": "code",
   "execution_count": null,
   "id": "4828f23c",
   "metadata": {},
   "outputs": [],
   "source": []
  },
  {
   "cell_type": "code",
   "execution_count": null,
   "id": "b900223a",
   "metadata": {},
   "outputs": [],
   "source": []
  },
  {
   "cell_type": "code",
   "execution_count": null,
   "id": "d6d10af8",
   "metadata": {},
   "outputs": [],
   "source": []
  },
  {
   "cell_type": "code",
   "execution_count": null,
   "id": "4600b2b2",
   "metadata": {},
   "outputs": [],
   "source": []
  },
  {
   "cell_type": "code",
   "execution_count": null,
   "id": "37654799",
   "metadata": {},
   "outputs": [],
   "source": []
  },
  {
   "cell_type": "code",
   "execution_count": null,
   "id": "bde7cc74",
   "metadata": {},
   "outputs": [],
   "source": []
  },
  {
   "cell_type": "code",
   "execution_count": null,
   "id": "4db76a47",
   "metadata": {},
   "outputs": [],
   "source": []
  },
  {
   "cell_type": "code",
   "execution_count": null,
   "id": "a9a8f9ee",
   "metadata": {},
   "outputs": [],
   "source": []
  },
  {
   "cell_type": "code",
   "execution_count": null,
   "id": "58209b42",
   "metadata": {},
   "outputs": [],
   "source": []
  },
  {
   "cell_type": "markdown",
   "id": "1a10bda5",
   "metadata": {},
   "source": [
    "HW:\n",
    "1. Find width of tree https://leetcode.com/problems/maximum-width-of-binary-tree/  \n",
    "1. Top View  https://www.hackerrank.com/challenges/tree-top-view/problemhttps://www.hackerrank.com/challenges/tree-top-view/problem\n",
    "1. Bottom view https://practice.geeksforgeeks.org/problems/bottom-view-of-binary-tree/1\n",
    "```\n",
    "class Solution {\n",
    "\n",
    "    unorderd_map< int, pair<int, int> > result;\n",
    "    int minLeft = 0;\n",
    "     \n",
    "    vector<int> bottomView(TreeNode *node) {\n",
    "    \n",
    "        bottomViewUtil(node, 0, 0);\n",
    "        \n",
    "        vector<int> out;\n",
    "        while(result.count(minLeft) ) {\n",
    "            out.append(result[minLeft].first);\n",
    "            minLeft ++; \n",
    "        }\n",
    "        \n",
    "        return out;\n",
    "    }\n",
    "    \n",
    "    void bottomViewUtil(TreeNode *node, hPos, vPos) {\n",
    "        if (node == NULL) return\n",
    "        \n",
    "        if (result.count(hPos) == 0) {\n",
    "            result[hPos] = make_pair(node.val, vPos);\n",
    "        } else {\n",
    "            if (result[hpos].second <= vPos) {\n",
    "                result[hPos] = make_pair(node.val, vPos)\n",
    "            }\n",
    "        }\n",
    "        \n",
    "        if (hPos < minLeft) {\n",
    "          minLeft = hPos;\n",
    "        }\n",
    "        \n",
    "        bottomViewUtil(node->left, hPos-1, vPos+1);\n",
    "        bottomViewUtil(node->right, hPos+1, vPos+1);\n",
    "    }   \n",
    "}\n",
    "``` \n",
    "1. https://leetcode.com/problems/vertical-order-traversal-of-a-binary-tree/\n",
    "1. Trees are mirror   https://leetcode.com/problems/same-tree/"
   ]
  },
  {
   "cell_type": "code",
   "execution_count": null,
   "id": "9315d171",
   "metadata": {},
   "outputs": [],
   "source": []
  },
  {
   "cell_type": "code",
   "execution_count": null,
   "id": "2c4e67e4",
   "metadata": {},
   "outputs": [],
   "source": []
  }
 ],
 "metadata": {
  "kernelspec": {
   "display_name": "Python 3",
   "language": "python",
   "name": "python3"
  },
  "language_info": {
   "codemirror_mode": {
    "name": "ipython",
    "version": 3
   },
   "file_extension": ".py",
   "mimetype": "text/x-python",
   "name": "python",
   "nbconvert_exporter": "python",
   "pygments_lexer": "ipython3",
   "version": "3.8.8"
  }
 },
 "nbformat": 4,
 "nbformat_minor": 5
}
