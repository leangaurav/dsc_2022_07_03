{
 "cells": [
  {
   "cell_type": "markdown",
   "id": "7ede1c33",
   "metadata": {},
   "source": [
    "Given a matrix in form of 0 and 1's where 1 denotes land and 0 denotes water  \n",
    "1. count the number of islands.  \n",
    "2. return the size of biggest island.  \n",
    "\n",
    "```\n",
    "0 0 0 0 0 0 0 0\n",
    "0 1 0 1 0 0 0 0\n",
    "0 1 1 1 1 0 0 0\n",
    "0 0 0 0 0 0 0 0\n",
    "0 0 0 0 1 0 0 0\n",
    "0 0 0 1 1 1 0 0\n",
    "0 0 0 0 1 0 0 0\n",
    "0 0 0 0 0 1 1 1\n",
    "\n",
    "4 neighbourhood\n",
    "0 y 0\n",
    "y x y\n",
    "0 y 0\n",
    "  \n",
    "  r c\n",
    " (3,4) -> (3,3), (3,5), (2,4), (4,4)\n",
    "\n",
    "8 neighbourhood\n",
    "1 1 1\n",
    "1 x 1\n",
    "1 1 1\n",
    "\n",
    "  r c\n",
    " (3,4) -> (3,3), (3,5), (2,4), (4,4), (2,3), (2,5), (4,3), (4,5)\n",
    "```"
   ]
  },
  {
   "cell_type": "code",
   "execution_count": null,
   "id": "70db6216",
   "metadata": {},
   "outputs": [],
   "source": [
    "matrix = [\n",
    "    [0, 0, 0, 0, 0, 0, 0, 0],\n",
    "    [0, 1, 0, 1, 0, 0, 0, 0],\n",
    "    [0, 1, 1, 1, 1, 0, 0, 0],\n",
    "    [0, 0, 0, 0, 0, 0, 0, 0],\n",
    "    [0, 0, 0, 0, 1, 0, 0, 0],\n",
    "    [0, 0, 0, 1, 1, 1, 0, 0],\n",
    "    [0, 0, 0, 0, 1, 0, 0, 0],\n",
    "    [0, 0, 0, 0, 0, 1, 1, 1],\n",
    "]"
   ]
  },
  {
   "cell_type": "code",
   "execution_count": null,
   "id": "b9f4bb30",
   "metadata": {},
   "outputs": [],
   "source": [
    "https://leetcode.com/problems/number-of-islands/"
   ]
  },
  {
   "cell_type": "code",
   "execution_count": 6,
   "id": "76e3806f",
   "metadata": {},
   "outputs": [
    {
     "name": "stdout",
     "output_type": "stream",
     "text": [
      "4\n"
     ]
    }
   ],
   "source": [
    "def explore(matrix, visited, r, c):# r: row index c: col index\n",
    "    # boundary condition\n",
    "    if r < 0 or c < 0 or r >= len(matrix) or c >= len(matrix[0]):\n",
    "        return False\n",
    "    \n",
    "    if matrix[r][c] == 0:\n",
    "        return False\n",
    "    \n",
    "    # check if already explored\n",
    "    if visited[r][c]:\n",
    "        return False\n",
    "    \n",
    "    visited[r][c] = True\n",
    "    # 4 neighbors\n",
    "    explore(matrix, visited, r-1, c)\n",
    "    explore(matrix, visited, r+1, c)\n",
    "    explore(matrix, visited, r, c-1)\n",
    "    explore(matrix, visited, r, c+1)\n",
    "#     options = [(-1,0),(1, 0), (0,-1), (0,1)]\n",
    "#     for opt in options:\n",
    "#         explore(matrix, r+opt[0], c+opt[1])\n",
    "    \n",
    "    # 8 neighbors\n",
    "#     for i in range(-1,2) : # -1,0,1\n",
    "#         for j in range(-1,2) : # -1,0,1\n",
    "#             if (i != 0 and j != 0):\n",
    "#                 explore(matrix, r+i,j+i)\n",
    "\n",
    "    return True\n",
    "\n",
    "def count_islands(matrix):\n",
    "    if len(matrix) == 0:\n",
    "        return 0\n",
    "    if len(matrix[0]) == 0:\n",
    "        return 0  # [[],[],[],[]]\n",
    "\n",
    "    rows = len(matrix)\n",
    "    cols = len(matrix[0])\n",
    "    \n",
    "    visited = [[False for _ in range(cols)] for _ in range(rows)]\n",
    "    count = 0\n",
    "    for i in range(rows): # 0.. (row-1)\n",
    "        for j in range(cols): # 0.. (col-1)\n",
    "            count += explore(matrix, visited, i,j)\n",
    "            \n",
    "    return count\n",
    "\n",
    "matrix = [\n",
    "    [1, 0, 0, 0, 0, 0, 0, 0],\n",
    "    [0, 1, 0, 1, 0, 0, 0, 0],\n",
    "    [0, 1, 1, 1, 1, 0, 0, 0],\n",
    "    [0, 0, 0, 0, 0, 0, 0, 0],\n",
    "    [0, 0, 0, 0, 1, 0, 0, 0],\n",
    "    [0, 0, 0, 1, 1, 1, 0, 0],\n",
    "    [0, 0, 0, 0, 1, 0, 0, 0],\n",
    "    [0, 0, 0, 0, 0, 1, 1, 1],\n",
    "]\n",
    "print(count_islands(matrix))"
   ]
  },
  {
   "cell_type": "code",
   "execution_count": 2,
   "id": "242ed4db",
   "metadata": {},
   "outputs": [
    {
     "name": "stdout",
     "output_type": "stream",
     "text": [
      "[[False, False, False, False], [False, False, False, False]]\n"
     ]
    }
   ],
   "source": [
    "\n",
    "rows = 2\n",
    "cols = 4\n",
    "\n",
    "visited = [[False for _ in range(cols)] for _ in range(rows)]\n",
    "print(visited)"
   ]
  },
  {
   "cell_type": "code",
   "execution_count": null,
   "id": "845f61c5",
   "metadata": {},
   "outputs": [],
   "source": []
  },
  {
   "cell_type": "code",
   "execution_count": null,
   "id": "7667570a",
   "metadata": {},
   "outputs": [],
   "source": [
    "https://leetcode.com/problems/max-area-of-island/"
   ]
  },
  {
   "cell_type": "code",
   "execution_count": 11,
   "id": "e22499b3",
   "metadata": {},
   "outputs": [
    {
     "name": "stdout",
     "output_type": "stream",
     "text": [
      "6\n"
     ]
    }
   ],
   "source": [
    "def explore(matrix, visited, r, c):# r: row index c: col index\n",
    "    # boundary condition\n",
    "    if r < 0 or c < 0 or r >= len(matrix) or c >= len(matrix[0]):\n",
    "        return 0\n",
    "    \n",
    "    if matrix[r][c] == 0:\n",
    "        return 0\n",
    "    \n",
    "    # check if already explored\n",
    "    if visited[r][c]:\n",
    "        return 0\n",
    "    \n",
    "    visited[r][c] = True\n",
    "    size = 1\n",
    "    # 4 neighbors\n",
    "#     size += explore(matrix, visited, r-1, c)\n",
    "#     size += explore(matrix, visited, r+1, c)\n",
    "#     size += explore(matrix, visited, r, c-1)\n",
    "#     size += explore(matrix, visited, r, c+1)\n",
    "    options = [(-1,0),(1, 0), (0,-1), (0,1)]\n",
    "    for opt in options:\n",
    "        size += explore(matrix, visited, r+opt[0], c+opt[1])\n",
    "    \n",
    "    # 8 neighbors\n",
    "#     for i in range(-1,2) : # -1,0,1\n",
    "#         for j in range(-1,2) : # -1,0,1\n",
    "#             if (i != 0 and j != 0):\n",
    "#                 explore(matrix, r+i,j+i)\n",
    "\n",
    "    return size\n",
    "\n",
    "def count_islands(matrix):\n",
    "    if len(matrix) == 0:\n",
    "        return 0\n",
    "    if len(matrix[0]) == 0:\n",
    "        return 0  # [[],[],[],[]]\n",
    "\n",
    "    rows = len(matrix)\n",
    "    cols = len(matrix[0])\n",
    "    \n",
    "    max_size = 0\n",
    "    visited = [[False for _ in range(cols)] for _ in range(rows)]\n",
    "    for i in range(rows): # 0.. (row-1)\n",
    "        for j in range(cols): # 0.. (col-1)\n",
    "            size = explore(matrix, visited, i,j)\n",
    "            if size > max_size:\n",
    "                max_size = size\n",
    "    return max_size\n",
    "\n",
    "matrix = [\n",
    "    [1, 0, 0, 0, 0, 0, 0, 0],\n",
    "    [0, 1, 0, 1, 0, 0, 0, 0],\n",
    "    [0, 1, 1, 1, 1, 0, 0, 0],\n",
    "    [0, 0, 0, 0, 0, 0, 0, 0],\n",
    "    [0, 0, 0, 0, 1, 0, 0, 0],\n",
    "    [0, 0, 0, 1, 1, 1, 0, 0],\n",
    "    [0, 0, 0, 0, 1, 0, 0, 0],\n",
    "    [0, 0, 0, 0, 0, 1, 1, 1],\n",
    "]\n",
    "print(count_islands(matrix))"
   ]
  },
  {
   "cell_type": "code",
   "execution_count": null,
   "id": "2e5352ea",
   "metadata": {},
   "outputs": [],
   "source": []
  },
  {
   "cell_type": "code",
   "execution_count": 40,
   "id": "bac43596",
   "metadata": {},
   "outputs": [
    {
     "name": "stdout",
     "output_type": "stream",
     "text": [
      "A [('B', 4), ('C', 5)]\n",
      "B []\n",
      "C [('B', 6)]\n",
      "dict_keys(['A', 'B', 'C'])\n",
      "shortest path distance 4\n"
     ]
    }
   ],
   "source": [
    "# Shortest Path algorithm: Djikstra's algo\n",
    "\n",
    "# Adj List repr\n",
    "class AdjDirectedGraph\n",
    "\n",
    "    def __init__(self):\n",
    "        self.adj_list = dict() # hashmap<str, pair<str, int> > = map< src, <dest, weight> >\n",
    "    \n",
    "    # add edge from a->b\n",
    "    def add(self, a, b, w): # a: src, b: dest, w: weight\n",
    "        \n",
    "        if a not in self.adj_list:\n",
    "            self.adj_list[a] = []\n",
    "        \n",
    "        if b not in self.adj_list:\n",
    "            self.adj_list[b] = []\n",
    "\n",
    "        self.adj_list[a].append( (b, w) )\n",
    "\n",
    "    def print(self):\n",
    "        for k,v in self.adj_list.items():\n",
    "            print(k, v)\n",
    "            \n",
    "    def get_adj(self, key):\n",
    "        return self.adj_list[key]\n",
    "            \n",
    "    def vertices(self):\n",
    "        return self.adj_list.keys() # return list of keys only/vertices\n",
    "\n",
    "\n",
    "def get_min_weight_vertex(distances, visited):\n",
    "    \n",
    "    res = None\n",
    "    # iterate over all vertices\n",
    "    for v,d in distances.items(): # list of <vertex, distance> key,value pairs\n",
    "        if v not in visited:\n",
    "            if res is None:\n",
    "                res = v\n",
    "            elif distances[v] < distances[res]:\n",
    "                res = v\n",
    "    return res\n",
    "\n",
    "def find_shortest_path(graph, src, dest):\n",
    "    distances = {} # hashmap<str, int> => <vertex, weight/distance from src>\n",
    "    visited = set() # empty set of visited nodes\n",
    "    \n",
    "    for v in graph.vertices():\n",
    "        distances[v] = float('inf') # set to big value\n",
    "        \n",
    "    distances[src] = 0\n",
    "\n",
    "    while True:\n",
    "        v = get_min_weight_vertex(distances, visited)\n",
    "        if v is None:\n",
    "            break\n",
    "            \n",
    "        visited.add(v)\n",
    "        # get all neighbours\n",
    "        neighbors = graph.get_adj(v)\n",
    "        curr_dist = distances[v]\n",
    "        \n",
    "        for neighbor in neighbors:\n",
    "            d = neighbor[0]\n",
    "            wt = neighbor[1]\n",
    "                \n",
    "            if d not in visited:\n",
    "                if curr_dist + wt < distances[d]:\n",
    "                    distances[d] = curr_dist + wt\n",
    "    \n",
    "    return distances[dest]\n",
    "\n",
    "g = AdjDirectedGraph()\n",
    "g.add(\"A\", \"B\", 4)\n",
    "g.add(\"A\", \"C\", 5)\n",
    "g.add(\"C\", \"B\", 6)\n",
    "g.print()\n",
    "print(g.vertices())\n",
    "print(\"shortest path distance\", find_shortest_path(g, \"A\", \"B\"))\n",
    "\n"
   ]
  },
  {
   "cell_type": "code",
   "execution_count": 26,
   "id": "0f1a991f",
   "metadata": {},
   "outputs": [
    {
     "name": "stdout",
     "output_type": "stream",
     "text": [
      "1 [(2, 4), (3, 5)]\n",
      "2 []\n",
      "3 [(2, 6)]\n",
      "dict_keys([1, 2, 3])\n",
      "4\n"
     ]
    }
   ],
   "source": [
    "\n",
    "g = AdjDirectedGraph()\n",
    "g.add(1, 2, 4)\n",
    "g.add(1, 3, 5)\n",
    "g.add(3, 2, 6)\n",
    "g.print()\n",
    "print(g.vertices())\n",
    "print(\"shortest path distance\",find_shortest_path(g, 1, 2))\n",
    "\n"
   ]
  },
  {
   "cell_type": "code",
   "execution_count": 24,
   "id": "c4f80867",
   "metadata": {},
   "outputs": [
    {
     "name": "stdout",
     "output_type": "stream",
     "text": [
      "A [('B', 4), ('C', 1)]\n",
      "B []\n",
      "C [('B', 2)]\n",
      "dict_keys(['A', 'B', 'C'])\n",
      "3\n"
     ]
    }
   ],
   "source": [
    "g = AdjDirectedGraph()\n",
    "g.add(\"A\", \"B\", 4)\n",
    "g.add(\"A\", \"C\", 1)\n",
    "g.add(\"C\", \"B\", 2)\n",
    "g.print()\n",
    "print(g.vertices())\n",
    "print(\"shortest path distance\", find_shortest_path(g, \"A\", \"B\"))"
   ]
  },
  {
   "cell_type": "code",
   "execution_count": 16,
   "id": "fc29e3ec",
   "metadata": {},
   "outputs": [
    {
     "data": {
      "text/plain": [
       "inf"
      ]
     },
     "execution_count": 16,
     "metadata": {},
     "output_type": "execute_result"
    }
   ],
   "source": [
    "float('inf')"
   ]
  },
  {
   "cell_type": "code",
   "execution_count": null,
   "id": "7ee8e857",
   "metadata": {},
   "outputs": [],
   "source": []
  },
  {
   "cell_type": "code",
   "execution_count": 47,
   "id": "26e21baf",
   "metadata": {},
   "outputs": [
    {
     "name": "stdout",
     "output_type": "stream",
     "text": [
      "A [('B', 4), ('E', 3), ('D', 2)]\n",
      "B [('C', 8), ('E', 2)]\n",
      "C []\n",
      "E [('C', 1)]\n",
      "D [('E', 5)]\n",
      "dict_keys(['A', 'B', 'C', 'E', 'D'])\n",
      "{'A': 0, 'B': inf, 'C': inf, 'E': inf, 'D': inf}\n",
      "removed A\n",
      "removed D\n",
      "removed E\n",
      "removed B\n",
      "removed C\n",
      "shortest path distance 4\n"
     ]
    }
   ],
   "source": [
    "# Shortest Path algorithm: Djikstra's algo\n",
    "\n",
    "# Adj List repr\n",
    "class AdjDirectedGraph:\n",
    "    def __init__(self):\n",
    "        self.adj_list = dict() # hashmap<str, pair<str, int> > = map< src, <dest, weight> >\n",
    "    \n",
    "    # add edge from a->b\n",
    "    def add(self, a, b, w): # a: src, b: dest, w: weight\n",
    "        \n",
    "        if a not in self.adj_list:\n",
    "            self.adj_list[a] = []\n",
    "        \n",
    "        if b not in self.adj_list:\n",
    "            self.adj_list[b] = []\n",
    "\n",
    "        self.adj_list[a].append( (b, w) )\n",
    "\n",
    "    def print(self):\n",
    "        for k,v in self.adj_list.items():\n",
    "            print(k, v)\n",
    "            \n",
    "    def get_adj(self, key):\n",
    "        return self.adj_list[key]\n",
    "            \n",
    "    def vertices(self):\n",
    "        return self.adj_list.keys() # return list of keys only/vertices\n",
    "\n",
    "def find_shortest_path(graph, src, dest):\n",
    "    distances = DummyHeap()\n",
    "    visited = set() # empty set of visited nodes\n",
    "    \n",
    "    for v in graph.vertices():\n",
    "        if v == src:\n",
    "            distances.add_key( [v, 0])\n",
    "        else:\n",
    "            distances.add_key( [v, float('inf')] ) # set to big value\n",
    "        \n",
    "    distances.print()\n",
    "    \n",
    "    results = {}\n",
    "        \n",
    "    while not distances.empty():\n",
    "            \n",
    "        v, curr_dist = distances.remove_min()\n",
    "        print(\"removed\", v)\n",
    "        results[v] = curr_dist\n",
    "    \n",
    "        visited.add(v)\n",
    "        # get all neighbours\n",
    "        neighbors = graph.get_adj(v)\n",
    "        \n",
    "        for neighbor in neighbors:\n",
    "            d = neighbor[0]\n",
    "            wt = neighbor[1]\n",
    "                \n",
    "            if d not in visited:\n",
    "                if curr_dist + wt < distances.get_key(d):\n",
    "                    distances.decrease_key(d, curr_dist + wt)\n",
    "    \n",
    "    return results[dest]\n",
    "\n",
    "class DummyHeap:\n",
    "    def __init__(self):\n",
    "        self.distances= {}\n",
    "    \n",
    "    def print(self):\n",
    "        print(self.distances)\n",
    "        \n",
    "    def add_key(self, key): #key = (dest, weight)\n",
    "        self.distances[key[0]] = key[1]\n",
    "        \n",
    "    def empty(self):\n",
    "        return len(self.distances) == 0\n",
    "        \n",
    "    def remove_min(self):\n",
    "        if self.empty():\n",
    "            return None\n",
    "        \n",
    "        res = None\n",
    "        # iterate over all vertices\n",
    "        for v,d in self.distances.items(): # list of <vertex, distance> key,value pairs\n",
    "            if res is None:\n",
    "                res = v\n",
    "            elif self.distances[v] < self.distances[res]:\n",
    "                res = v\n",
    "                    \n",
    "        value = self.distances.pop(res)\n",
    "        return (res, value)\n",
    "    \n",
    "    def decrease_key(self, key, value):\n",
    "        self.distances[key] = value\n",
    "        \n",
    "    def get_key(self, key):\n",
    "        return self.distances[key]\n",
    "        \n",
    "\n",
    "g = AdjDirectedGraph()\n",
    "g.add(\"A\", \"B\", 4)\n",
    "g.add(\"B\", \"C\", 8)\n",
    "g.add(\"A\", \"E\", 3)\n",
    "g.add(\"A\", \"D\", 2)\n",
    "g.add(\"D\", \"E\", 5)\n",
    "g.add(\"B\", \"E\", 2)\n",
    "g.add(\"E\", \"C\", 1)\n",
    "g.print()\n",
    "print(g.vertices())\n",
    "print(\"shortest path distance\", find_shortest_path(g, \"A\", \"B\"))\n",
    "\n"
   ]
  },
  {
   "cell_type": "code",
   "execution_count": 35,
   "id": "c6b10605",
   "metadata": {},
   "outputs": [
    {
     "data": {
      "text/plain": [
       "'A'"
      ]
     },
     "execution_count": 35,
     "metadata": {},
     "output_type": "execute_result"
    }
   ],
   "source": [
    "d = {1:\"A\"}\n",
    "d.pop(1)"
   ]
  }
 ],
 "metadata": {
  "kernelspec": {
   "display_name": "Python 3",
   "language": "python",
   "name": "python3"
  },
  "language_info": {
   "codemirror_mode": {
    "name": "ipython",
    "version": 3
   },
   "file_extension": ".py",
   "mimetype": "text/x-python",
   "name": "python",
   "nbconvert_exporter": "python",
   "pygments_lexer": "ipython3",
   "version": "3.8.8"
  }
 },
 "nbformat": 4,
 "nbformat_minor": 5
}
