{
 "cells": [
  {
   "cell_type": "markdown",
   "id": "8c63a17d",
   "metadata": {},
   "source": [
    "# Time Complexity"
   ]
  },
  {
   "cell_type": "code",
   "execution_count": null,
   "id": "648bda30",
   "metadata": {},
   "outputs": [],
   "source": []
  },
  {
   "cell_type": "markdown",
   "id": "fcc73da9",
   "metadata": {},
   "source": [
    "- CPU\n",
    "- adding arrays\n",
    "- GPU\n",
    "- and Notion of time"
   ]
  },
  {
   "cell_type": "code",
   "execution_count": null,
   "id": "f32a4239",
   "metadata": {},
   "outputs": [],
   "source": []
  },
  {
   "cell_type": "markdown",
   "id": "448dcbbf",
   "metadata": {},
   "source": [
    "**What is algorithm**  \n",
    "\n",
    "Finding first duplicate in an array\n",
    "- Simple approach\n",
    "- Approach with a constraint that number of elements is limited to range 1-100"
   ]
  },
  {
   "cell_type": "code",
   "execution_count": null,
   "id": "ab427acd",
   "metadata": {},
   "outputs": [],
   "source": []
  },
  {
   "cell_type": "markdown",
   "id": "878ae38b",
   "metadata": {},
   "source": [
    "**Time complexity**  \n",
    "\n",
    "In computer science, the time complexity is the computational complexity that describes the amount of **computer time** it takes to run an algorithm. Time complexity is commonly estimated by counting the number of elementary operations performed by the algorithm, supposing that each elementary operation takes a fixed amount of time to perform. Thus, the amount of time taken and the number of elementary operations performed by the algorithm are taken to be related by a constant factor.  \n",
    "\n",
    "Source: https://en.wikipedia.org/wiki/Time_complexity\n"
   ]
  },
  {
   "cell_type": "code",
   "execution_count": null,
   "id": "e61b663a",
   "metadata": {},
   "outputs": [],
   "source": []
  },
  {
   "cell_type": "markdown",
   "id": "abf88e3e",
   "metadata": {},
   "source": [
    "**Why Complexity Analysis** \n",
    "\n",
    "Figure out an estimate of how the execution time gets impacted as the size of input data increases.  \n",
    "Rate of growth"
   ]
  },
  {
   "cell_type": "code",
   "execution_count": null,
   "id": "0088549d",
   "metadata": {},
   "outputs": [],
   "source": []
  },
  {
   "cell_type": "markdown",
   "id": "8042e368",
   "metadata": {},
   "source": [
    "**Types of notations / Type of analysis**\n",
    "\n",
    "- **Minimum Time:** Omega ${\\Omega}$  \n",
    "- **Maximum Time:** Big O ${O}$     \n",
    "- **Average Time:** Theta ${\\theta}$  "
   ]
  },
  {
   "cell_type": "code",
   "execution_count": null,
   "id": "005143c3",
   "metadata": {},
   "outputs": [],
   "source": []
  },
  {
   "cell_type": "markdown",
   "id": "44e7570f",
   "metadata": {},
   "source": [
    "**Type of complexity**\n"
   ]
  },
  {
   "cell_type": "markdown",
   "id": "187d1640",
   "metadata": {},
   "source": [
    "- O(1)\n",
    "- O(log N)\n",
    "- O(N)\n",
    "- O(N log N) => O(N * log N)\n",
    "- O(N^2)\n",
    "- O(2^N)\n",
    "- O(N!)\n",
    "\n",
    "where N is the size of input/data"
   ]
  },
  {
   "cell_type": "code",
   "execution_count": null,
   "id": "9ae04e69",
   "metadata": {},
   "outputs": [],
   "source": []
  },
  {
   "cell_type": "markdown",
   "id": "311b64e5",
   "metadata": {},
   "source": [
    "Finding any duplicate in an array\n",
    "- Simple approach\n",
    "- Approach with a constraint that number of elements is limited to range 1-100\n",
    "\n",
    "[10,20,5,15,200,100,1,50]"
   ]
  },
  {
   "cell_type": "code",
   "execution_count": null,
   "id": "862f2b2b",
   "metadata": {},
   "outputs": [],
   "source": [
    "\n",
    "bool checkDuplicate(int array[], int size) {\n",
    "    \n",
    "    for (i = 0; i < size ; i ++) {\n",
    "        value = array[i];\n",
    "        \n",
    "        for (j = i + 1; j < size; j++) {\n",
    "                if (value == array[j]) {\n",
    "                    return true;\n",
    "                }\n",
    "        }\n",
    "    }\n",
    "    \n",
    "    return false;\n",
    "}\n",
    "\n",
    "\n",
    "[1, 2, 3, 4, 5]"
   ]
  },
  {
   "cell_type": "code",
   "execution_count": null,
   "id": "e03801a6",
   "metadata": {},
   "outputs": [],
   "source": [
    "n = 5\n",
    "\n",
    "for (i = 0; i < n; i++) { // N\n",
    "                         \n",
    "    for(j = 0; j < n; j++) { // N\n",
    "        // some op\n",
    "    }\n",
    "}\n",
    "\n",
    "\n",
    "# N + N + n + .... N => N*N\n",
    "# N*N\n",
    "# O(N^2)\n",
    "\n",
    "for (i = 0; i < n; i++) { // N\n",
    "                         \n",
    "    for(j = i+1; j < n; j++) { \n",
    "        // some op\n",
    "    }\n",
    "}\n",
    "\n",
    "(n-1) + (n-2) + (n-3) ... 1\n",
    "\n",
    "=> 0.5 * (n^2) + n + 1\n",
    "=> Remove constants (n^2) + n\n",
    "=> Keep only the lartest factors => (n^2)\n",
    "\n",
    "\n",
    "for (i = 0; i < n; i++) { // N\n",
    "                         \n",
    "    for(j = 0; j < n; j++) { // N\n",
    "                            \n",
    "        for (k = 0; k < n; k++) { // N\n",
    "                // some op\n",
    "        }\n",
    "        \n",
    "    }\n",
    "}\n",
    "O(n^3)\n",
    "\n",
    "\n",
    "for (i = 0; i < n; i++) { // N\n",
    "                         \n",
    "    for(j = 0; j < n; j++) { // N\n",
    "        // some op1                       \n",
    "    }\n",
    "                         \n",
    "    for (k = 0; k < n; k++) { // N\n",
    "        // some op2\n",
    "    }\n",
    " \n",
    "}\n",
    "=> N * (N + N) => 2N^2 => N^2\n",
    "\n",
    "for (i = 0; i < n; i++) { // N\n",
    "                         \n",
    "    for(j = 0; j < n; j++) { // N\n",
    "            for (k = 0; k < n; k++) { // N\n",
    "                // some op1\n",
    "            }                      \n",
    "    }\n",
    "                         \n",
    "    for (k = 0; k < n; k++) { // N\n",
    "        // some op2\n",
    "    }\n",
    " \n",
    "}\n",
    "\n",
    "N*(TC op1 + TC op2)\n",
    "N *(N^2 + N)\n",
    "N^3 + N^2\n",
    "O(N^3)\n",
    "\n",
    "\n",
    "is (5*n) better than (n log n)\n",
    "is O(n) better than O(n log n)"
   ]
  },
  {
   "cell_type": "code",
   "execution_count": 21,
   "id": "b2949c5b",
   "metadata": {},
   "outputs": [
    {
     "name": "stdout",
     "output_type": "stream",
     "text": [
      "     1 5n=5.0        n log n=0         \n",
      "     2 5n=10.0       n log n=2         \n",
      "     8 5n=40.0       n log n=24        \n",
      "    16 5n=80.0       n log n=64        \n",
      "    32 5n=160.0      n log n=160       \n",
      "    64 5n=320.0      n log n=384       \n",
      "   128 5n=640.0      n log n=896       \n",
      "  1000 5n=5000.0     n log n=9966      \n",
      " 10000 5n=50000.0    n log n=132877    \n",
      "100000 5n=500000.0   n log n=1660964   \n"
     ]
    }
   ],
   "source": [
    "import math\n",
    "def n5(n):\n",
    "    return 5*n\n",
    "\n",
    "def nlogn(n):\n",
    "    return n* math.log2(n)\n",
    "\n",
    "for n in [1, 2, 8, 16, 32 , 64, 128, 1000, 10000, 100000]:\n",
    "    print(\"%6d 5n=%-10.1f n log n=%-10.0f\" % (n, n5(n), nlogn(n)))\n",
    "    \n",
    "# O(n^2) -> O n square"
   ]
  },
  {
   "cell_type": "code",
   "execution_count": 16,
   "id": "f004d7b4",
   "metadata": {},
   "outputs": [
    {
     "name": "stdout",
     "output_type": "stream",
     "text": [
      "     1 total=3          n^2=0.5        n=1          const=1.5       \n",
      "    10 total=62         n^2=50.0       n=10         const=1.5       \n",
      "   100 total=5102       n^2=5000.0     n=100        const=1.5       \n",
      "  1000 total=501002     n^2=500000.0   n=1000       const=1.5       \n",
      " 10000 total=50010002   n^2=50000000.0 n=10000      const=1.5       \n",
      "100000 total=5000100002 n^2=5000000000.0 n=100000     const=1.5       \n"
     ]
    }
   ],
   "source": [
    "def n_square(n):\n",
    "    return n*n*0.5\n",
    "\n",
    "def n_(n):\n",
    "    return n\n",
    "\n",
    "def const():\n",
    "    return 3/2\n",
    "\n",
    "def tc(n):\n",
    "    return n_square(n) + n_(n) + const()\n",
    "\n",
    "for n in [1, 10, 100, 1000, 10000, 100000]:\n",
    "    print(\"%6d total=%-10.0f n^2=%-10.1f n=%-10.0f const=%-10.1f\" % (n, tc(n), n_square(n), n_(n), const()))\n",
    "    \n",
    "O(n^2) -> O n square"
   ]
  },
  {
   "cell_type": "markdown",
   "id": "8d8728f5",
   "metadata": {},
   "source": [
    "**Calculating time complexity**  \n",
    "\n",
    "- why to drop off smaller terms ?"
   ]
  },
  {
   "cell_type": "markdown",
   "id": "d0757b3a",
   "metadata": {},
   "source": [
    "![Complexity Comparision](BigOCommplexityComparison.png)\n",
    "\n",
    "Source: [Big-O Cheetsheet](https://www.bigocheatsheet.com/)"
   ]
  },
  {
   "cell_type": "markdown",
   "id": "71526ff5",
   "metadata": {},
   "source": [
    "![Sorting](SortingComplexity.png)"
   ]
  },
  {
   "cell_type": "code",
   "execution_count": null,
   "id": "42e77f14",
   "metadata": {},
   "outputs": [],
   "source": []
  },
  {
   "cell_type": "markdown",
   "id": "68a4d659",
   "metadata": {},
   "source": [
    "**What is a data structure** \n",
    "\n",
    "Data structure defines the way data is organized in the system/program memory.  \n",
    "DS provides interfaces for insertion, deletion and updation of data.  \n",
    "DS defines the way data is going to be arranged in memory and hence it also defines how the above operations are going to be implemented.  \n",
    "Example: Array, Stack, Queue, Tree, Graph, Hashmap etc.  \n",
    "\n"
   ]
  },
  {
   "cell_type": "code",
   "execution_count": null,
   "id": "a85ae86b",
   "metadata": {},
   "outputs": [],
   "source": []
  },
  {
   "cell_type": "markdown",
   "id": "4c070e1b",
   "metadata": {},
   "source": [
    "**Types of data structure**  "
   ]
  },
  {
   "cell_type": "markdown",
   "id": "46d4549d",
   "metadata": {},
   "source": [
    "![](DataStructuresComplexity.png)"
   ]
  },
  {
   "cell_type": "code",
   "execution_count": null,
   "id": "cc05c12c",
   "metadata": {},
   "outputs": [],
   "source": []
  }
 ],
 "metadata": {
  "kernelspec": {
   "display_name": "Python 3",
   "language": "python",
   "name": "python3"
  },
  "language_info": {
   "codemirror_mode": {
    "name": "ipython",
    "version": 3
   },
   "file_extension": ".py",
   "mimetype": "text/x-python",
   "name": "python",
   "nbconvert_exporter": "python",
   "pygments_lexer": "ipython3",
   "version": "3.8.8"
  }
 },
 "nbformat": 4,
 "nbformat_minor": 5
}
