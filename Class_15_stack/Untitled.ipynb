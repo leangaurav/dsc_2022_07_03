{
 "cells": [
  {
   "cell_type": "markdown",
   "id": "b2f28762",
   "metadata": {},
   "source": [
    "## Stack and Queue"
   ]
  },
  {
   "cell_type": "markdown",
   "id": "3a6b1805",
   "metadata": {},
   "source": [
    "- Stack of plates\n",
    "- LIFO: Last in First out\n",
    "- Stack trace\n",
    "- Stack overflow\n",
    "- Stack undeflow"
   ]
  },
  {
   "cell_type": "markdown",
   "id": "435a6d00",
   "metadata": {},
   "source": [
    "```\n",
    "Operations:\n",
    "    - push(): Add Data at the end/top\n",
    "    - pop(): Remove data from the end/top\n",
    "    - peek(): Look at the element at the top without removing it\n",
    "    - empty()\n",
    "\n",
    "Vector:\n",
    "    - push(): push_back\n",
    "    - pop(): pop_back\n",
    "    - peek(): back\n",
    "    - empty(): empty\n",
    "```"
   ]
  },
  {
   "cell_type": "code",
   "execution_count": null,
   "id": "950464dc",
   "metadata": {},
   "outputs": [],
   "source": [
    "template <type T>\n",
    "class Stack {\n",
    "    \n",
    "    public:\n",
    "        void push_back(); # O(1)\n",
    "        void pop(); # O(1)\n",
    "        T peek(); # O(1)\n",
    "        bool empty(); # O(1)\n",
    "}"
   ]
  },
  {
   "cell_type": "markdown",
   "id": "f9d59e56",
   "metadata": {},
   "source": [
    "```\n",
    "Queue\n",
    "- Circular Queue\n",
    "- FIFO: First in First out\n",
    "```"
   ]
  },
  {
   "cell_type": "markdown",
   "id": "6a4f410e",
   "metadata": {},
   "source": [
    "```\n",
    "Queue:\n",
    "- Enqueue: Insert/ Add /Push: O(1)\n",
    "- Dequeue: Remove/ Delete/ Pop: O(1)\n",
    "- Peek(): O(1)\n",
    "- Empty(): O(1)\n",
    "```"
   ]
  },
  {
   "cell_type": "code",
   "execution_count": null,
   "id": "0c89b934",
   "metadata": {},
   "outputs": [],
   "source": []
  },
  {
   "cell_type": "markdown",
   "id": "659fe42b",
   "metadata": {},
   "source": [
    "Balanced Parenthesis  \n",
    "https://leetcode.com/problems/valid-parentheses/  \n",
    "TC: O(N) SC: O(N) \n",
    "```\n",
    "([)]\n",
    "\n",
    "L->R\n",
    "\n",
    "Curr   (  [   )\n",
    "Stack  (  ([  False  \n",
    "```\n",
    "\n",
    "\n",
    "```\n",
    "())[]\n",
    "\n",
    "L->R\n",
    "\n",
    "Curr   (  [   )\n",
    "Stack  (  ([  False  \n",
    "```\n",
    "\n",
    "\n",
    "\n",
    "```\n",
    "([][{}])\n",
    "L->R\n",
    "\n",
    "Curr   (  [   ]  [   {     }  ]   )\n",
    "Stack  (  ([  (  ([  ([{  ([  (   -\n",
    "\n",
    "isValid(s string) {\n",
    "    stack = \n",
    "\n",
    "    for (i = 0; i < s.size(); i++ )\n",
    "    {\n",
    "        curr = s[i];\n",
    "        if isOpening(curr) {\n",
    "            stack.push(curr)\n",
    "        } else {\n",
    "            if stack.empty() : return False\n",
    "\n",
    "            if isMatch(stack.top(), curr) {\n",
    "                stack.pop()\n",
    "            } else {\n",
    "                return False\n",
    "            }\n",
    "        }\n",
    "     }\n",
    "\n",
    "    return  stack.size() == 0\n",
    "}\n",
    "\n",
    "isOpening(sym) {\n",
    "    return sym == '(' || sym == '[' || sym == '{'\n",
    "}\n",
    "\n",
    "ismatch(open, close) {\n",
    "    switch open {\n",
    "        case '(': return close == ')'\n",
    "        case '[': return close == '}'\n",
    "        case '{': return close == '}'\n",
    "    }\n",
    "    return False\n",
    "}\n",
    "```"
   ]
  },
  {
   "cell_type": "code",
   "execution_count": null,
   "id": "83131b27",
   "metadata": {},
   "outputs": [],
   "source": []
  },
  {
   "cell_type": "code",
   "execution_count": null,
   "id": "5afd81c9",
   "metadata": {},
   "outputs": [],
   "source": []
  },
  {
   "cell_type": "markdown",
   "id": "d9dd0ca6",
   "metadata": {},
   "source": [
    "Next Greater Element-1\n",
    "- Given an array replace it with the next larger element on the right"
   ]
  },
  {
   "cell_type": "code",
   "execution_count": null,
   "id": "180d0d86",
   "metadata": {},
   "outputs": [],
   "source": []
  },
  {
   "cell_type": "code",
   "execution_count": null,
   "id": "cced2b46",
   "metadata": {},
   "outputs": [],
   "source": []
  },
  {
   "cell_type": "markdown",
   "id": "0d3504c1",
   "metadata": {},
   "source": [
    "Min add to make balanced\n",
    "    https://leetcode.com/problems/minimum-add-to-make-parentheses-valid/"
   ]
  },
  {
   "cell_type": "markdown",
   "id": "537d5741",
   "metadata": {},
   "source": [
    "```\n",
    "{\n",
    "count = 0\n",
    "stack;\n",
    "for(i=0; i < n; i++){\n",
    "    c = s[i];\n",
    "    if c == '(' {\n",
    "        stack.push('(')\n",
    "    } else {\n",
    "        if (stack.size() == 0)\n",
    "            count++\n",
    "        else\n",
    "            stack.pop()\n",
    "    }\n",
    "}\n",
    "return stack.size() + count\n",
    "\n",
    "Ex-0\n",
    "))\n",
    "\n",
    "sym   ) )   \n",
    "stack - -\n",
    "count 1 2\n",
    "\n",
    "Ex-1\n",
    "())\n",
    "\n",
    "sym   ( ) (\n",
    "stack ( - (\n",
    "\n",
    "Ex-2\n",
    "())((\n",
    "\n",
    "sym   ( ) ) (  ( \n",
    "stack ( - - ( ((\n",
    "count 0 0 1 1 1\n",
    "\n",
    "\n",
    "TC:O(N)\n",
    "SC:O(N)\n",
    "```\n"
   ]
  },
  {
   "cell_type": "code",
   "execution_count": null,
   "id": "4f805727",
   "metadata": {},
   "outputs": [],
   "source": []
  },
  {
   "cell_type": "markdown",
   "id": "2431fa04",
   "metadata": {},
   "source": [
    "TC: O(N)\n",
    "SC: O(1)\n",
    "```\n",
    "int open = 0;\n",
    "int ans = 0;\n",
    "for(i=0; i < n; i++){\n",
    "    c = s[i];\n",
    "    if (c == '(') open++; \n",
    "    else if (c == ')'): open--\n",
    "    \n",
    "    if open == -1;\n",
    "        ans++;\n",
    "        open=0;\n",
    "}\n",
    "\n",
    "return ans\n",
    "\n",
    "\n",
    "())((\n",
    "\n",
    "sym   ( ) ) (  ( \n",
    "stack ( - - ( ((\n",
    "count 0 0 1 1 1\n",
    "\n",
    "\n",
    "\n",
    "```\n",
    "\n",
    "#### Shubham\n",
    "```\n",
    "class Solution {\n",
    "    public int minAddToMakeValid(String s) {\n",
    "        \n",
    "        int open = 0;\n",
    "        int ans = 0;\n",
    "        for(int i=0;i<s.length();i++){\n",
    "            char ch = s.charAt(i);\n",
    "            if(ch == '(') {\n",
    "                open++;\n",
    "            }\n",
    "            else open--;\n",
    "            if(open<0) {\n",
    "                open =0;\n",
    "                ans++;}\n",
    "        }\n",
    "        return ans+open;\n",
    "    }\n",
    "}\n",
    "\n",
    "```"
   ]
  },
  {
   "cell_type": "code",
   "execution_count": null,
   "id": "b6c65d47",
   "metadata": {},
   "outputs": [],
   "source": []
  },
  {
   "cell_type": "markdown",
   "id": "a578700d",
   "metadata": {},
   "source": [
    "Next Greater Element 2  \n",
    "    https://leetcode.com/problems/next-greater-element-ii/  \n",
    "- Find Max element and traverse from Max to begining, traverse from end towards max : TC: O(N) : SC: O(N)\n",
    "- Traverse like Next Greater Element-1 but 2 times : TC: O(N) : SC: O(N)"
   ]
  },
  {
   "cell_type": "code",
   "execution_count": null,
   "id": "2b83e042",
   "metadata": {},
   "outputs": [],
   "source": []
  },
  {
   "cell_type": "code",
   "execution_count": null,
   "id": "14533990",
   "metadata": {},
   "outputs": [],
   "source": []
  },
  {
   "cell_type": "markdown",
   "id": "c7518095",
   "metadata": {},
   "source": [
    "Daily Temperature\n",
    "\n",
    "```\n",
    "Next larger element\n",
    "Instead of maintaining values, maintain indexes in stack\n",
    "\n",
    "R->L\n",
    " [73,80,75,71,69,72,76,73]\n",
    "  0  1  2  3  4  5  6  7\n",
    "\n",
    "num     73 76 72    69      71     75     80\n",
    "stack - 7  6  6,5   6,5,4   6,5    6,2    -, 1\n",
    "ans     0  0 (6-5)1 (5-4)1 (5-3)2 (6-2)4  0\n",
    "```"
   ]
  },
  {
   "cell_type": "code",
   "execution_count": null,
   "id": "f493c2de",
   "metadata": {},
   "outputs": [],
   "source": []
  },
  {
   "cell_type": "markdown",
   "id": "744f3e7d",
   "metadata": {},
   "source": [
    "Max Chunks to Make Sorted- 2  \n",
    "    https://leetcode.com/problems/max-chunks-to-make-sorted-ii/\n",
    "\n",
    "[5,4,3,2,1]\n",
    "[5] [4] [3] [2] [1]\n",
    " 1   1   1   1   1\n",
    " [4,5]  [2,3]  [1]\n",
    "   1       1    1\n",
    "   [2,3,4,5] [1]\n",
    "       1      1\n",
    "    [1,2,3,4,5]\n",
    "           1\n",
    "\n",
    "N =5\n",
    "Chunking [5] [4] [3] [2] [1]\n",
    "Sort  [5] [4] [3] [2] [1]\n",
    "Joining [5,4,3,2,1]\n",
    "\n",
    "N = 4\n",
    "Chunking [5, 4] [3] [2] [1]\n",
    "Sort  [4, 5] [3] [2] [1]\n",
    "Joining [4,5,3,2,1]\n",
    "\n",
    "N = 1\n",
    "Chunkin [5,4,3,2,1]\n",
    "Sort [1,2,3,4,5]\n",
    "Join [1,2,3,4,5]"
   ]
  },
  {
   "cell_type": "code",
   "execution_count": null,
   "id": "d4ebed20",
   "metadata": {},
   "outputs": [],
   "source": [
    " [2,1,3,4,4]\n",
    "    \n",
    "[2][1][3][4][4]\n",
    "[1,2] [3,4][4] \n",
    "   1   2    1\n",
    "[1,2 3,4][4]\n",
    "    3     1\n",
    "[1,2 3,4][4]\n",
    "    4\n",
    "\n",
    "N = 2\n",
    "Chunking [2,1,3] [4,4]  \n",
    "Sort      [1,2,3] [4,4]\n",
    "Joining [1,2,3,4,4] :possible\n",
    "\n",
    "Chunking [2] [1,3] [4] [4]\n",
    "Sort     [2] [1,3] [4] [4]\n",
    "Joining  [2,1,3,4,4]: wrong\n",
    "\n",
    "N = 4\n",
    "Chunking [2,1] [3] [4] [4]\n",
    "Sort     [1,2] [3] [4] [4]\n",
    "Joining  [1,2,3,4,4]\n",
    "\n",
    "Ans = 4"
   ]
  },
  {
   "cell_type": "code",
   "execution_count": null,
   "id": "12806a09",
   "metadata": {},
   "outputs": [],
   "source": [
    "[2,1,3,4,4]\n"
   ]
  },
  {
   "cell_type": "code",
   "execution_count": null,
   "id": "f5eba18a",
   "metadata": {},
   "outputs": [],
   "source": [
    "- Merge sort: LC\n",
    "- Find min on left or find max on right: Trapping rain water\n",
    "- Next Greater Element - 1: keep smaller elements in stack, pop if you see larger element, return length of stack"
   ]
  },
  {
   "cell_type": "code",
   "execution_count": null,
   "id": "63983d51",
   "metadata": {},
   "outputs": [],
   "source": [
    "[2,1,3, 4, 4]\n",
    "[3,3,4,-1,-1]\n",
    " 0 1 2  3  4\n",
    "\n",
    "count = 1 1 2 3 4\n",
    "index   0 1 2 3 4"
   ]
  },
  {
   "cell_type": "code",
   "execution_count": null,
   "id": "7063fbb9",
   "metadata": {},
   "outputs": [],
   "source": [
    "[5,  4, 3, 2, 1]\n",
    "[-1,-1,-1,-1,-1]\n",
    "\n"
   ]
  },
  {
   "cell_type": "code",
   "execution_count": null,
   "id": "a4b44dc4",
   "metadata": {},
   "outputs": [],
   "source": [
    "[4, 5, 1, 2, 3]\n",
    "[4, 5] [1, 2, 3]"
   ]
  },
  {
   "cell_type": "code",
   "execution_count": null,
   "id": "2ff21558",
   "metadata": {},
   "outputs": [],
   "source": [
    "[4, 5, 1, 2, 3]\n",
    " 1  2  3  4  5\n",
    "\n",
    "[4, 2, 5, 1, 3]\n",
    "\n",
    "for (i=0; i < n ; i++){\n",
    "        if (orig[i] <= sorted[i]) {\n",
    "            count += 1;\n",
    "        }\n",
    "}\n"
   ]
  }
 ],
 "metadata": {
  "kernelspec": {
   "display_name": "Python 3",
   "language": "python",
   "name": "python3"
  },
  "language_info": {
   "codemirror_mode": {
    "name": "ipython",
    "version": 3
   },
   "file_extension": ".py",
   "mimetype": "text/x-python",
   "name": "python",
   "nbconvert_exporter": "python",
   "pygments_lexer": "ipython3",
   "version": "3.8.8"
  }
 },
 "nbformat": 4,
 "nbformat_minor": 5
}
