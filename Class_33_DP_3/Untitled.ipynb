{
 "cells": [
  {
   "cell_type": "markdown",
   "id": "7d867969",
   "metadata": {},
   "source": [
    "- Knapsack problem\n",
    "- Subset Sum  \n",
    "https://leetcode.com/problems/coin-change/"
   ]
  },
  {
   "cell_type": "code",
   "execution_count": null,
   "id": "4f957097",
   "metadata": {},
   "outputs": [],
   "source": []
  },
  {
   "cell_type": "code",
   "execution_count": null,
   "id": "9999a0ba",
   "metadata": {},
   "outputs": [],
   "source": [
    "Knapsack problem\n",
    "- Given max weight W\n",
    "- array of weights and values\n",
    "- optimize for max value, staying within the limit of max weight\n",
    "\n",
    "Return max value that can be put in knapsack\n",
    "\n",
    "def knapsack(w, values, weights):\n",
    "    pass\n",
    "\n",
    "s = (1,2,3)\n",
    "// generate all combinations\n",
    "\n",
    "\n",
    "         (1)\n",
    "      /         \\     \n",
    "    1(2)         (2)\n",
    "  /      \\        / \\\n",
    " 12(3)   1(3)   2(3) (3) \n",
    "/   \\    /  \\    \n",
    "123 12  13    1\n",
    "\n"
   ]
  },
  {
   "cell_type": "code",
   "execution_count": 3,
   "id": "5a143f87",
   "metadata": {},
   "outputs": [
    {
     "name": "stdout",
     "output_type": "stream",
     "text": [
      "180\n"
     ]
    }
   ],
   "source": [
    "# recursive: not optimized\n",
    "def knapsack(w, values, weights):\n",
    "    return knapsack_solver(w, values, weights, len(values) - 1)\n",
    "\n",
    "def knapsack_solver(w, values, weights, i):\n",
    "    if w == 0 or i < 0:\n",
    "        return 0\n",
    "    \n",
    "    if w < weights[i]:\n",
    "        return knapsack_solver(w, values, weights, i - 1)\n",
    "\n",
    "    include = values[i] + knapsack_solver(w-weights[i], values, weights, i - 1)\n",
    "    exclude = knapsack_solver(w, values, weights, i - 1)\n",
    "    return max( [include, exclude])\n",
    "\n",
    "\n",
    "v = [60,100,120]\n",
    "w = [10,30,40]\n",
    "max_w = 50\n",
    "print(knapsack(max_w, v, w))\n",
    "\n",
    "# TC: O(2^n)\n",
    "# SC: O(n)\n",
    "# n = number of weights\n",
    "    "
   ]
  },
  {
   "cell_type": "code",
   "execution_count": 5,
   "id": "82c60999",
   "metadata": {},
   "outputs": [
    {
     "name": "stdout",
     "output_type": "stream",
     "text": [
      "180\n"
     ]
    }
   ],
   "source": [
    "# recursive: top-down with hash  map as a cache\n",
    "def knapsack(w, values, weights):\n",
    "    dp = {}\n",
    "    return knapsack_solver(w, values, weights, len(values) - 1, dp)\n",
    "\n",
    "def knapsack_solver(w, values, weights, i, dp):\n",
    "    if w == 0 or i < 0:\n",
    "        return 0\n",
    "    \n",
    "    if (w,i) in dp:\n",
    "        return dp[(w,i)]\n",
    "    \n",
    "    if w < weights[i]:\n",
    "        res = knapsack_solver(w, values, weights, i - 1, dp)\n",
    "    else:\n",
    "        include = values[i] + knapsack_solver(w-weights[i], values, weights, i - 1, dp)\n",
    "        exclude = knapsack_solver(w, values, weights, i - 1, dp)\n",
    "        res =  max( [include, exclude])\n",
    "    \n",
    "    dp[(w,i)] =  res\n",
    "    return res\n",
    "\n",
    "\n",
    "v = [60,100,120]\n",
    "w = [10,30,40]\n",
    "max_w = 50\n",
    "print(knapsack(max_w, v, w))\n",
    "    "
   ]
  },
  {
   "cell_type": "code",
   "execution_count": 7,
   "id": "b4224b94",
   "metadata": {},
   "outputs": [
    {
     "name": "stdout",
     "output_type": "stream",
     "text": [
      "180\n"
     ]
    }
   ],
   "source": [
    "# recursive: top-down with a dp matrix as a cache\n",
    "def knapsack(w, values, weights):\n",
    "    # notice (w+1)\n",
    "    dp = [[-1 for _ in range(w + 1)] for _ in range(len(values))]\n",
    "    \n",
    "    return knapsack_solver(w, values, weights, len(values) - 1, dp)\n",
    "\n",
    "def knapsack_solver(w, values, weights, i, dp):\n",
    "    if w == 0 or i < 0: # weight=0, number of elements in subset=0\n",
    "        return 0\n",
    "    \n",
    "    if dp[i][w] != -1:\n",
    "        return dp[i][w]\n",
    "    \n",
    "    if w < weights[i]:\n",
    "        res = knapsack_solver(w, values, weights, i - 1, dp)\n",
    "    else:\n",
    "        include = values[i] + knapsack_solver(w-weights[i], values, weights, i - 1, dp)\n",
    "        exclude = knapsack_solver(w, values, weights, i - 1, dp)\n",
    "        res =  max( [include, exclude])\n",
    "    \n",
    "    dp[i][w] =  res\n",
    "    return res\n",
    "\n",
    "\n",
    "v = [60,100,120]\n",
    "w = [10,30,40]\n",
    "max_w = 50\n",
    "print(knapsack(max_w, v, w))\n",
    "\n",
    "# TC, SC: O(n*w): n=length(weights) w = max weight\n"
   ]
  },
  {
   "cell_type": "code",
   "execution_count": null,
   "id": "9b8d8da4",
   "metadata": {},
   "outputs": [],
   "source": []
  },
  {
   "cell_type": "code",
   "execution_count": 11,
   "id": "3e0dca69",
   "metadata": {},
   "outputs": [
    {
     "name": "stdout",
     "output_type": "stream",
     "text": [
      "180\n"
     ]
    }
   ],
   "source": [
    "# recursive: top-down with a dp matrix as a cache\n",
    "def knapsack(w, values, weights):\n",
    "    # notice (w+1) and len(values) + 1\n",
    "    dp = [[-1 for _ in range(w + 1)] for _ in range(len(values) + 1)]\n",
    "\n",
    "    for i in range(w+1):\n",
    "        dp[0][i] = 0\n",
    "        \n",
    "    for i in range(len(values) + 1):\n",
    "        dp[i][0] = 0\n",
    "        \n",
    "    for i in range(1, len(values) + 1):\n",
    "        for curr_w in range(1, w + 1):\n",
    "            if weights[i - 1] > curr_w:\n",
    "                dp[i][curr_w] = dp[i-1][curr_w]\n",
    "            else:\n",
    "                include = values[i - 1] + dp[i-1][curr_w - weights[i - 1]]\n",
    "                exclude = dp[i-1][curr_w]\n",
    "                dp[i][curr_w] = max( [include, exclude] )\n",
    "    \n",
    "    return dp[-1][-1]\n",
    "\n",
    "\n",
    "v = [60,100,120]\n",
    "w = [10,30,40]\n",
    "max_w = 50\n",
    "print(knapsack(max_w, v, w))\n",
    "\n",
    "\n",
    "v = [20,10,30,50]\n",
    "w = [2,4,3,6]\n",
    "max_w = 8\n",
    "print(knapsack(max_w, v, w))\n",
    "\n",
    "# TC, SC: O(n*w): n=length(weights) w = max weight\n"
   ]
  },
  {
   "cell_type": "code",
   "execution_count": null,
   "id": "4d0d64d2",
   "metadata": {},
   "outputs": [],
   "source": []
  }
 ],
 "metadata": {
  "kernelspec": {
   "display_name": "Python 3",
   "language": "python",
   "name": "python3"
  },
  "language_info": {
   "codemirror_mode": {
    "name": "ipython",
    "version": 3
   },
   "file_extension": ".py",
   "mimetype": "text/x-python",
   "name": "python",
   "nbconvert_exporter": "python",
   "pygments_lexer": "ipython3",
   "version": "3.8.8"
  }
 },
 "nbformat": 4,
 "nbformat_minor": 5
}
