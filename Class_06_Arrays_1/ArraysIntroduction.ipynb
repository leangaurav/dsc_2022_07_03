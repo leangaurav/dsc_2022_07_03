{
 "cells": [
  {
   "cell_type": "markdown",
   "id": "6e97ba54",
   "metadata": {},
   "source": [
    "# Arrays-1"
   ]
  },
  {
   "cell_type": "markdown",
   "id": "8b9565f4",
   "metadata": {},
   "source": [
    "- continuous memory blocks"
   ]
  },
  {
   "cell_type": "code",
   "execution_count": null,
   "id": "3064727b",
   "metadata": {},
   "outputs": [],
   "source": []
  },
  {
   "cell_type": "code",
   "execution_count": null,
   "id": "939869a3",
   "metadata": {},
   "outputs": [],
   "source": []
  },
  {
   "cell_type": "markdown",
   "id": "fadd6037",
   "metadata": {},
   "source": [
    "**Hash Map**\n",
    "- Hash\n",
    "- Map"
   ]
  },
  {
   "cell_type": "code",
   "execution_count": null,
   "id": "7c938478",
   "metadata": {},
   "outputs": [],
   "source": [
    "void printFreqOfChars(string s) {\n",
    "    \n",
    "    unordered_map<string, int> freq;\n",
    "    \n",
    "    for(auto c: s) {\n",
    "        \n",
    "        // check if c is not present\n",
    "        if (freq.find(c) == freq.end()) {\n",
    "            freq[c] = 0;\n",
    "        }\n",
    "        \n",
    "        freq[c] += 1;\n",
    "        \n",
    "    }\n",
    "    \n",
    "    for (auto it: freq) {\n",
    "        cout << it->first() << \" \" << it->second();\n",
    "    }\n",
    "}"
   ]
  },
  {
   "cell_type": "code",
   "execution_count": null,
   "id": "494dba00",
   "metadata": {},
   "outputs": [],
   "source": []
  },
  {
   "cell_type": "code",
   "execution_count": null,
   "id": "16f8e8f9",
   "metadata": {},
   "outputs": [],
   "source": []
  },
  {
   "cell_type": "markdown",
   "id": "707a2eb8",
   "metadata": {},
   "source": [
    "**0. Two Sum**\n"
   ]
  },
  {
   "cell_type": "code",
   "execution_count": 7,
   "id": "90746c8e",
   "metadata": {},
   "outputs": [
    {
     "name": "stdout",
     "output_type": "stream",
     "text": [
      "(0, 4)\n",
      "(0, 4)\n"
     ]
    }
   ],
   "source": [
    "# Optimal\n",
    "# TC: O(N)\n",
    "# SC: O(N)\n",
    "\n",
    "def twoSum(nums, target):\n",
    "    \n",
    "    m = {} # hash map    \n",
    "    \n",
    "    for i, num in enumerate(nums):\n",
    "            \n",
    "            d = target - num\n",
    "            if d in m:\n",
    "                return m[d], i\n",
    "            \n",
    "            m[num] = i\n",
    "        \n",
    "    return None\n",
    "        \n",
    "print(twoSum([1,2,4,6,1,0,9],2))\n",
    "\n",
    "\n",
    "def twoSum(nums, target):\n",
    "    \n",
    "    m = {} # hash map    \n",
    "    \n",
    "    for i, num in enumerate(nums):\n",
    "            \n",
    "            d = target - num\n",
    "            if num in m:\n",
    "                return m[num], i\n",
    "            \n",
    "            m[d] = i\n",
    "        \n",
    "    return None\n",
    "        \n",
    "print(twoSum([1,2,4,6,1,0,9],2))\n",
    "\n"
   ]
  },
  {
   "cell_type": "code",
   "execution_count": null,
   "id": "d85bd5f7",
   "metadata": {},
   "outputs": [],
   "source": []
  },
  {
   "cell_type": "code",
   "execution_count": null,
   "id": "d6324ca8",
   "metadata": {},
   "outputs": [],
   "source": [
    "// this can also be written in \n",
    "# Optimal\n",
    "# TC: O(N)\n",
    "# SC: O(N)\n",
    "class Solution {\n",
    "public:\n",
    "    vector<int> twoSum(vector<int>& nums, int target) {\n",
    "        std::unordered_map<int, int> mapping;\n",
    "        vector<int> res;\n",
    "        \n",
    "        for(int i = 0; i < nums.size(); i++) {\n",
    "            mapping[nums[i]] = i;\n",
    "        }\n",
    "        \n",
    "        for(int i = 0; i < nums.size(); i++) {\n",
    "            auto it = mapping.find(target-nums[i]);\n",
    "            if (it != mapping.end() && it->second != i) {\n",
    "                res.push_back(i);\n",
    "                res.push_back(it->second);\n",
    "                break;\n",
    "            }\n",
    "        }\n",
    "        \n",
    "        return res;\n",
    "    }\n",
    "};"
   ]
  },
  {
   "cell_type": "code",
   "execution_count": null,
   "id": "d884fa93",
   "metadata": {},
   "outputs": [],
   "source": []
  },
  {
   "cell_type": "markdown",
   "id": "67877e6d",
   "metadata": {},
   "source": [
    "**1. In an array replace every element with a greater element on the right side**  \n",
    "(not including the current element) \n",
    "\n",
    "### Variations\n",
    "1. **In an array replace every element with a greatest element on the right side**  what additional DS do you need (var, array)\n",
    "1. https://leetcode.com/problems/next-greater-element-i/\n"
   ]
  },
  {
   "cell_type": "code",
   "execution_count": 8,
   "id": "ff71eb6e",
   "metadata": {},
   "outputs": [
    {
     "ename": "SyntaxError",
     "evalue": "invalid syntax (Temp/ipykernel_29268/606805304.py, line 1)",
     "output_type": "error",
     "traceback": [
      "\u001b[1;36m  File \u001b[1;32m\"C:\\Users\\LEANGA~1\\AppData\\Local\\Temp/ipykernel_29268/606805304.py\"\u001b[1;36m, line \u001b[1;32m1\u001b[0m\n\u001b[1;33m    void replaceWithGreater(vector<int> nums) {\u001b[0m\n\u001b[1;37m         ^\u001b[0m\n\u001b[1;31mSyntaxError\u001b[0m\u001b[1;31m:\u001b[0m invalid syntax\n"
     ]
    }
   ],
   "source": [
    "// TC: O(n^2)\n",
    "// SC: O(1)\n",
    "\n",
    "void replaceWithGreater(vector<int> nums) {\n",
    "    vector<int> buf;\n",
    "    \n",
    "    for(int i = 0; i < nums.size(); i++) {\n",
    "        \n",
    "        int curr = nums[i];\n",
    "        int value = -1;\n",
    "        \n",
    "        for (int j = i + 1; j < nums.size(); j ++) {\n",
    "            if (nums[j] > curr){\n",
    "                value = nums[j];\n",
    "                break;\n",
    "            }\n",
    "        }\n",
    "        \n",
    "        nums[i] = value;\n",
    "    }\n",
    "}\n",
    "\n",
    "\n",
    "// TC: O(n)\n",
    "// SC: O(n)\n",
    "\n",
    "void replaceWithGreater(vector<int> nums) {\n",
    "    vector<int> buf;\n",
    "    \n",
    "    for(int i = 0; i < nums.size(); i++) {\n",
    "        \n",
    "        while(buf.size() > 0) {\n",
    "            if (buf[size() - 1] > nums[i]) {\n",
    "                break;\n",
    "            }\n",
    "            buf.pop_back();\n",
    "        }\n",
    "        \n",
    "        int value = -1;\n",
    "        if (buf.size() > 0){\n",
    "            value = buf[buf.size() - 1]\n",
    "        }\n",
    "        \n",
    "        buf.push_back(nums[i]);\n",
    "        nums[i] = value;\n",
    "    }\n",
    "}\n",
    "\n",
    "\n",
    "void replaceWithGreater(vector<int> nums) {\n",
    "    vector<int> buf;\n",
    "    \n",
    "    for(int i = nums.size() - 1; i > 0; i--) {\n",
    "        \n",
    "        int value = -1\n",
    "        while(buf.size() > 0) {\n",
    "            if (buf[buf.size() - 1] > nums[i]) {\n",
    "                value = buf[buf.size() - 1]\n",
    "                break;\n",
    "            }\n",
    "            buf.pop_back();\n",
    "        }\n",
    "        \n",
    "        buf.push_back(nums[i]);\n",
    "        nums[i] = value;\n",
    "    }\n",
    "}\n",
    "\n"
   ]
  },
  {
   "cell_type": "code",
   "execution_count": null,
   "id": "9d9639c0",
   "metadata": {},
   "outputs": [],
   "source": []
  },
  {
   "cell_type": "markdown",
   "id": "241a257c",
   "metadata": {},
   "source": [
    "**2. Given an array replace every element with a greater element on the left side**  \n",
    "(not including the element)"
   ]
  },
  {
   "cell_type": "code",
   "execution_count": null,
   "id": "fb94ba62",
   "metadata": {},
   "outputs": [],
   "source": []
  },
  {
   "cell_type": "code",
   "execution_count": null,
   "id": "ca33fdc0",
   "metadata": {},
   "outputs": [],
   "source": []
  },
  {
   "cell_type": "markdown",
   "id": "4db6bb65",
   "metadata": {},
   "source": [
    "**3. Majority Element**  \n",
    "https://leetcode.com/problems/majority-element"
   ]
  },
  {
   "cell_type": "code",
   "execution_count": 12,
   "id": "75019b35",
   "metadata": {},
   "outputs": [],
   "source": [
    "class Solution:\n",
    "    \n",
    "    # TC and SC: O(N)\n",
    "    def majorityElement(self, nums) -> int:\n",
    "        # store <values,count> in hashmap\n",
    "        # loop to figure out the value which has the largest count\n",
    "        counts = {}\n",
    "        res =  None\n",
    "        for v in nums:\n",
    "            if v not in counts:\n",
    "                counts[v] = 0\n",
    "                \n",
    "            counts[v] += 1\n",
    "            \n",
    "            if res is None:\n",
    "                res = v\n",
    "            else:\n",
    "                if counts[v] > counts[res]:\n",
    "                    res = v\n",
    "                    \n",
    "        return res\n",
    "    \n",
    "    # ANother solution using: sort and get the middle value\n",
    "    # TC: O(n log n)\n",
    "    # SC: O(1)\n",
    "    "
   ]
  },
  {
   "cell_type": "code",
   "execution_count": 10,
   "id": "9c173ed2",
   "metadata": {},
   "outputs": [],
   "source": [
    "# O(N^2)\n",
    "def majorityElement(nums) -> int:\n",
    "    for i in set(nums):\n",
    "        if len(nums) %2 ==0:\n",
    "            n=len(nums)//2\n",
    "        else:\n",
    "            n=len(nums)//2+1\n",
    "        if nums.count(i) >= n: # O(N)\n",
    "            return i\n"
   ]
  },
  {
   "cell_type": "code",
   "execution_count": null,
   "id": "ec62176b",
   "metadata": {},
   "outputs": [],
   "source": []
  }
 ],
 "metadata": {
  "kernelspec": {
   "display_name": "Python 3",
   "language": "python",
   "name": "python3"
  },
  "language_info": {
   "codemirror_mode": {
    "name": "ipython",
    "version": 3
   },
   "file_extension": ".py",
   "mimetype": "text/x-python",
   "name": "python",
   "nbconvert_exporter": "python",
   "pygments_lexer": "ipython3",
   "version": "3.8.8"
  }
 },
 "nbformat": 4,
 "nbformat_minor": 5
}
