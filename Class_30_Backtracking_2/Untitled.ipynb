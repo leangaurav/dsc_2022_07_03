{
 "cells": [
  {
   "cell_type": "markdown",
   "id": "dcde9563",
   "metadata": {},
   "source": [
    "# Problem-1"
   ]
  },
  {
   "cell_type": "code",
   "execution_count": null,
   "id": "8abee080",
   "metadata": {},
   "outputs": [],
   "source": [
    "https://leetcode.com/problems/combination-sum/"
   ]
  },
  {
   "cell_type": "markdown",
   "id": "5b2f0fe8",
   "metadata": {},
   "source": [
    "```Swift\n",
    "func combinationSum(_ candidates: [Int], _ target: Int) -> [[Int]] {\n",
    "    var resultSet = Set<[Int]>()\n",
    "    travel(path: [], sum: 0, candidates: candidates, target: target, result: &resultSet)\n",
    "    return Array(resultSet)\n",
    "}\n",
    "\n",
    "func travel(path: [Int], sum: Int, candidates: [Int], target: Int, result: inout Set<[Int]>) {\n",
    "    guard sum != target else { result.insert(path.sorted()); return }\n",
    "    guard sum < target else { return }\n",
    "    candidates.forEach {\n",
    "        travel(path: path + [$0], sum: sum + $0, candidates: candidates, target: target, result: &result)\n",
    "    }\n",
    "}\n",
    "```"
   ]
  },
  {
   "cell_type": "markdown",
   "id": "42d3e2c3",
   "metadata": {},
   "source": [
    "```Python\n",
    "def combinationSum(self, candidates: List[int], target: int) -> List[List[int]]:\n",
    "    res = []\n",
    "    def solve(i, cur, tot):\n",
    "        if target==tot:\n",
    "            res.append(cur.copy())\n",
    "            return\n",
    "        if i>=len(candidates) or tot>target:\n",
    "            return\n",
    "        solve(i+1, cur, tot)\n",
    "        solve(i,cur+[candidates[i]], tot+candidates[i])\n",
    "\n",
    "    solve(0, [], 0)    \n",
    "    return res\n",
    "```"
   ]
  },
  {
   "cell_type": "markdown",
   "id": "b60f23e1",
   "metadata": {},
   "source": [
    "```JAVA\n",
    "class Solution {\n",
    "    private List<List<Integer>> output = new LinkedList<>();\n",
    "    public List<List<Integer>> combinationSum(int[] candidates, int target) {\n",
    "        combinationSum(0,candidates,new LinkedList<>(),target,0);\n",
    "        return output;\n",
    "    }\n",
    "    public void combinationSum(int start,int[] candidates,List<Integer> set, int target,int sum) {\n",
    "        if(sum > target) return;\n",
    "        if(sum==target){\n",
    "            output.add(new ArrayList(set));\n",
    "        }\n",
    "      //  System.out.println(sum+\" \");\n",
    "        for(int i=start;i<candidates.length;i++){\n",
    "            set.add(candidates[i]);\n",
    "            combinationSum(i,candidates,set,target,sum+candidates[i]);\n",
    "            set.remove(set.size()-1);\n",
    "        }\n",
    "    }\n",
    "```"
   ]
  },
  {
   "cell_type": "code",
   "execution_count": null,
   "id": "a8f0ffcd",
   "metadata": {},
   "outputs": [],
   "source": [
    "2,3,6,7,9 target = 7\n",
    "0 1 2 3 4\n",
    "\n",
    "\n",
    "candidates, target, start, res: List<List>, curr_set\n",
    "\n",
    "    if target == 0:\n",
    "        res.apped(curr_set)\n",
    "        return\n",
    "\n",
    "    if curr candidate > target:\n",
    "        return\n",
    "\n",
    "    - iterate through all the candidates:\n",
    "        add to set\n",
    "        recursively call with curr, target - candidates[curr]\n",
    "        remove from set\n"
   ]
  },
  {
   "cell_type": "code",
   "execution_count": null,
   "id": "e21e4251",
   "metadata": {},
   "outputs": [],
   "source": []
  },
  {
   "cell_type": "markdown",
   "id": "371e8636",
   "metadata": {},
   "source": [
    "# Problem-2"
   ]
  },
  {
   "cell_type": "code",
   "execution_count": null,
   "id": "7ca284dc",
   "metadata": {},
   "outputs": [],
   "source": [
    "https://leetcode.com/problems/generate-parentheses/"
   ]
  },
  {
   "cell_type": "markdown",
   "id": "dcc48d18",
   "metadata": {},
   "source": [
    "```Swift\n",
    "    var array = [String]()\n",
    "    \n",
    "    func generateParenthesis(_ n: Int) -> [String] {\n",
    "        generate(\"\", n, n)\n",
    "        return array\n",
    "    }\n",
    "    \n",
    "    func generate(_ curr: String, _ l: Int, _ r: Int) {\n",
    "        if (l < 0 || r < 0) {\n",
    "            return\n",
    "        }\n",
    "        if l == 0 && r == 0 {\n",
    "            array.append(curr)\n",
    "            return\n",
    "        }\n",
    "        \n",
    "        if (l > 0) {\n",
    "            var curr = curr\n",
    "            curr += \"(\"\n",
    "            generate(curr, l - 1, r)\n",
    "        } \n",
    "        \n",
    "        if (l < r && r > 0) {\n",
    "            var curr = curr\n",
    "            curr += \")\"\n",
    "            generate(curr, l, r - 1)\n",
    "        }\n",
    "    }\n",
    "\n",
    "```"
   ]
  },
  {
   "cell_type": "markdown",
   "id": "b1693c9d",
   "metadata": {},
   "source": [
    "```JAVA\n",
    "public void generateParenthesisUtil(List<String> res, StringBuilder sb, int open, int close) {\n",
    "        \n",
    "        if(open == 0 && close == 0){ // this pos genarate a valid parenthesis string ;\n",
    "            res.add(sb.toString());\n",
    "        }\n",
    "        if(open>close) return ; // a permutation will go valid if open<=close \n",
    "        // there are only two choices -->\n",
    "        //choose open backet\n",
    "        if(open>0){\n",
    "            sb.append(\"(\");\n",
    "            generateParenthesisUtil(res,sb,open-1,close);\n",
    "            sb.deleteCharAt(sb.length()-1);\n",
    "        }\n",
    "        //choose close backet \n",
    "        if(close>0){\n",
    "            sb.append(\")\");\n",
    "            generateParenthesisUtil(res,sb,open,close-1);\n",
    "            sb.deleteCharAt(sb.length()-1);\n",
    "        }\n",
    "    } \n",
    "```"
   ]
  },
  {
   "cell_type": "markdown",
   "id": "8a1bd04a",
   "metadata": {},
   "source": [
    "```Python\n",
    "def generateParenthesis(N):\n",
    "    if N == 0: return ['']\n",
    "    ans = []\n",
    "    for c in range(N):\n",
    "        for left in self.generateParenthesis(c):\n",
    "            for right in self.generateParenthesis(N-1-c):\n",
    "                ans.append('({}){}'.format(left, right))\n",
    "    return ans\n",
    "\n",
    "\n",
    "def generateParenthesis(N):\n",
    "    if N == 1: return ['()']\n",
    "    ans = []\n",
    "    \n",
    "    for c in generateParenthesis(N-1):\n",
    "        ans.append('(' + c + ')')\n",
    "        ans.append(c + '()')\n",
    "        ans.append('()' +  c)\n",
    "    return set(ans)\n",
    "\n",
    "print(generateParenthesis(3))\n",
    "\n",
    "```\n",
    "\n"
   ]
  },
  {
   "cell_type": "code",
   "execution_count": null,
   "id": "ce5220a1",
   "metadata": {},
   "outputs": [],
   "source": []
  },
  {
   "cell_type": "code",
   "execution_count": null,
   "id": "7a3474ad",
   "metadata": {},
   "outputs": [],
   "source": [
    "https://leetcode.com/problems/sudoku-solver/"
   ]
  }
 ],
 "metadata": {
  "kernelspec": {
   "display_name": "Python 3",
   "language": "python",
   "name": "python3"
  },
  "language_info": {
   "codemirror_mode": {
    "name": "ipython",
    "version": 3
   },
   "file_extension": ".py",
   "mimetype": "text/x-python",
   "name": "python",
   "nbconvert_exporter": "python",
   "pygments_lexer": "ipython3",
   "version": "3.8.8"
  }
 },
 "nbformat": 4,
 "nbformat_minor": 5
}
