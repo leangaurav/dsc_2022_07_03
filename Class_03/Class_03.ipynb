{
 "cells": [
  {
   "cell_type": "markdown",
   "id": "fec65dfa",
   "metadata": {},
   "source": [
    "# Warmup Part-2"
   ]
  },
  {
   "cell_type": "code",
   "execution_count": null,
   "id": "102bbddd",
   "metadata": {},
   "outputs": [],
   "source": []
  },
  {
   "cell_type": "markdown",
   "id": "f6f6b4d6",
   "metadata": {},
   "source": [
    "Understanding\n",
    "- Insertion of an element in an array\n",
    "- Removing an element in an array"
   ]
  },
  {
   "cell_type": "code",
   "execution_count": null,
   "id": "a52be843",
   "metadata": {},
   "outputs": [],
   "source": []
  },
  {
   "cell_type": "code",
   "execution_count": null,
   "id": "a04113ef",
   "metadata": {},
   "outputs": [],
   "source": []
  },
  {
   "cell_type": "markdown",
   "id": "cb720c37",
   "metadata": {},
   "source": [
    "**Merge two sorted Arrays**\n",
    "\n",
    "Leetcode problem with slight variation  \n",
    "https://leetcode.com/problems/merge-sorted-array/"
   ]
  },
  {
   "cell_type": "code",
   "execution_count": null,
   "id": "fce367ed",
   "metadata": {},
   "outputs": [],
   "source": [
    "// C++\n",
    "# include <iostream>\n",
    "# include <vector>\n",
    "\n",
    "using namespace std;\n",
    "\n",
    "vector<int> merge(vector<int> a1, vector<int> a2) {    // (int a1[], int a2[], int m, int n)\n",
    "    vector<int> a3; // also specify the capacity right upfront\n",
    "    int i, j;\n",
    "    i = j = 0;\n",
    "    \n",
    "    // merge\n",
    "    while(i < a1.size() && j < a2.size()) {\n",
    "        if (a1[i] < a2[j]) {\n",
    "           a3.push_back(a1[i]);\n",
    "           i = i + 1; \n",
    "        } else {\n",
    "            a3.push_back(a2[j]);\n",
    "            j = j + 1;\n",
    "        }\n",
    "    }    \n",
    "\n",
    "    // copy remaining elements   \n",
    "    while(i < a1.size()) {\n",
    "        a3.push_back(a1[i]);\n",
    "        i = i + 1; \n",
    "    }   \n",
    "\n",
    "    while(j < a2.size()) {\n",
    "        a3.push_back(a2[j]);\n",
    "        j = j + 1;\n",
    "    }       \n",
    "\n",
    "    return a3;                          \n",
    "}\n",
    "\n",
    "int* merge2(vector<int> a1, vector<int> a2) {    // (int a1[], int a2[], int m, int n)\n",
    "    int *a3 = new int[a1.size() + a2.size()]; // also specify the capacity right upfront\n",
    "    int i, j, k;\n",
    "    i = j = k = 0;\n",
    "    \n",
    "    // merge\n",
    "    while(i < a1.size() && j < a2.size()) {\n",
    "        if (a1[i] < a2[j]) {\n",
    "           a3[k] = a1[i];\n",
    "           i = i + 1; \n",
    "        } else {\n",
    "            a3[k] = a2[j];\n",
    "            j = j + 1;\n",
    "        }\n",
    "        k = k + 1;\n",
    "    }    \n",
    "\n",
    "    // copy remaining elements   \n",
    "    while(i < a1.size()) {\n",
    "        a3[k] = a1[i];\n",
    "        i = i + 1; \n",
    "        k = k + 1;\n",
    "    }   \n",
    "\n",
    "    while(j < a2.size()) {\n",
    "        a3[k] = a2[j];\n",
    "        j = j + 1; \n",
    "        k = k + 1;\n",
    "    }       \n",
    "\n",
    "    return a3;                          \n",
    "}\n",
    "\n",
    "int main() {\n",
    "    vector<int> a1 = vector<int>{1,2,5,7,10};\n",
    "    vector<int> a2 = vector<int>{4,5,8,20,30,40};\n",
    "\n",
    "    int* a3 = merge2(a1, a2);\n",
    "\n",
    "    for (int i = 0; i < a1.size()+ a2.size(); i++) {\n",
    "        cout << a3[i] << \" \";\n",
    "    }\n",
    "\n",
    "    cout << endl;\n",
    "    for (auto v: merge(a1,a2))    {\n",
    "        cout << v << \" \";\n",
    "    }\n",
    "}"
   ]
  },
  {
   "cell_type": "code",
   "execution_count": null,
   "id": "e9078eaa",
   "metadata": {},
   "outputs": [],
   "source": [
    "// Java\n",
    "private static ArrayList<Integer> mergeArray(ArrayList<Integer> a1, ArrayList<Integer> a2) {\n",
    "        ArrayList<Integer> a3 = new ArrayList<>();\n",
    "        int i=0,j=0,k =0;\n",
    "    \n",
    "        while(i<a1.size() && j<a2.size()){\n",
    "            if(a1.get(i)<a2.get(j)) {\n",
    "                a3.add(a1.get(i));\n",
    "                i++;\n",
    "            }\n",
    "            else{\n",
    "                a3.add(a2.get(j));\n",
    "                j++;\n",
    "            }\n",
    "        }\n",
    "        while(i<a1.size()) {\n",
    "                a3.add(a1.get(i));\n",
    "                i++;\n",
    "        }\n",
    "        while(j<a2.size()) {\n",
    "            a3.add(a2.get(j));\n",
    "            j++;\n",
    "        }\n",
    "        return a3;\n",
    "    }\n"
   ]
  },
  {
   "cell_type": "markdown",
   "id": "889d81d9",
   "metadata": {},
   "source": [
    "**Fizz Buzz**\n",
    "\n",
    "https://leetcode.com/problems/fizz-buzz/ \n"
   ]
  },
  {
   "cell_type": "code",
   "execution_count": null,
   "id": "2b2e0f6f",
   "metadata": {},
   "outputs": [],
   "source": []
  },
  {
   "cell_type": "code",
   "execution_count": null,
   "id": "e11e2a4d",
   "metadata": {},
   "outputs": [],
   "source": []
  },
  {
   "cell_type": "markdown",
   "id": "dba9fdc2",
   "metadata": {},
   "source": [
    "**Reverse vowels in the word**\n",
    "\n",
    "https://leetcode.com/problems/reverse-vowels-of-a-string/\n",
    "\n"
   ]
  },
  {
   "cell_type": "markdown",
   "id": "1d9aad3d",
   "metadata": {},
   "source": [
    "### C++"
   ]
  },
  {
   "cell_type": "code",
   "execution_count": null,
   "id": "88f22c4e",
   "metadata": {},
   "outputs": [],
   "source": [
    "class Solution {\n",
    "public:\n",
    "    bool isVowel(char c)\n",
    "    {\n",
    "        return (c=='a' || c=='A' || c=='e' ||\n",
    "                c=='E' || c=='i' || c=='I' ||\n",
    "                c=='o' || c=='O' || c=='u' ||\n",
    "                c=='U');\n",
    "    }\n",
    "\n",
    "\n",
    "    string reverseVowels(string s)\n",
    "    {\n",
    "\n",
    "        int i = 0;\n",
    "        int j = s.length()-1;\n",
    "        while (i < j)\n",
    "        {\n",
    "            if (!isVowel(s[i]))\n",
    "            {\n",
    "                i++;\n",
    "                continue;\n",
    "            }\n",
    "            if (!isVowel(s[j]))\n",
    "            {\n",
    "                j--;\n",
    "                continue;\n",
    "            }\n",
    "            swap(s[i], s[j]);\n",
    "\n",
    "            i++;\n",
    "            j--;\n",
    "        }\n",
    "\n",
    "        return s;\n",
    "    }\n",
    "\n",
    "};"
   ]
  },
  {
   "cell_type": "code",
   "execution_count": null,
   "id": "07f978d4",
   "metadata": {},
   "outputs": [],
   "source": []
  },
  {
   "cell_type": "markdown",
   "id": "4f0d818f",
   "metadata": {},
   "source": [
    "### Python"
   ]
  },
  {
   "cell_type": "code",
   "execution_count": null,
   "id": "6e113465",
   "metadata": {},
   "outputs": [],
   "source": [
    "class Solution:\n",
    "    def reverseVowels(self, s: str) -> str:\n",
    "        l = list(s)\n",
    "        \n",
    "        i = 0\n",
    "        j = len(s)-1\n",
    "        v = \"aeiouAEIOU\"\n",
    "        \n",
    "        while i < j:\n",
    "            if l[i] in v and l[j] in v:\n",
    "                # print(\"hi\")\n",
    "                t = l[i]\n",
    "                l[i]=l[j]\n",
    "                l[j]=t\n",
    "                i+=1\n",
    "                j-=1\n",
    "            if l[i] not in v:\n",
    "                i+=1\n",
    "            if l[j] not in v:\n",
    "                j-=1\n",
    "            \n",
    "        return \"\".join(l)\n"
   ]
  },
  {
   "cell_type": "code",
   "execution_count": null,
   "id": "575916c5",
   "metadata": {},
   "outputs": [],
   "source": []
  },
  {
   "cell_type": "code",
   "execution_count": null,
   "id": "2788d0d7",
   "metadata": {},
   "outputs": [],
   "source": []
  }
 ],
 "metadata": {
  "kernelspec": {
   "display_name": "Python 3",
   "language": "python",
   "name": "python3"
  },
  "language_info": {
   "codemirror_mode": {
    "name": "ipython",
    "version": 3
   },
   "file_extension": ".py",
   "mimetype": "text/x-python",
   "name": "python",
   "nbconvert_exporter": "python",
   "pygments_lexer": "ipython3",
   "version": "3.8.8"
  }
 },
 "nbformat": 4,
 "nbformat_minor": 5
}
