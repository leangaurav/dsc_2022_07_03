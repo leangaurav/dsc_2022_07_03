{
 "cells": [
  {
   "cell_type": "markdown",
   "id": "a6fd8663",
   "metadata": {},
   "source": [
    "# Sorting-2"
   ]
  },
  {
   "cell_type": "code",
   "execution_count": null,
   "id": "9ecd6394",
   "metadata": {},
   "outputs": [],
   "source": []
  },
  {
   "cell_type": "markdown",
   "id": "14c41003",
   "metadata": {},
   "source": [
    "#### Largest Number\n",
    "https://leetcode.com/problems/largest-number/\n"
   ]
  },
  {
   "cell_type": "markdown",
   "id": "ff7604f5",
   "metadata": {},
   "source": [
    "```\n",
    "[3,30,34,5,9]  \n",
    "[3,34,5,9,30]\n",
    "    \n",
    "bubble sort\n",
    "v1    3   30   30   30  \n",
    "v2    30  34   5    9  \n",
    "v1+v2 330 3034 305  309  \n",
    "v2+v1 303 3430 530  930  \n",
    "```"
   ]
  },
  {
   "cell_type": "markdown",
   "id": "96bb1508",
   "metadata": {},
   "source": [
    "```\n",
    "class Solution {\n",
    "public:\n",
    "    string largestNumber(vector<int>& nums) {\n",
    "       \n",
    "        struct LargerVal {\n",
    "            bool operator()(int v1, int v2) {\n",
    "                auto num1 = to_string(v1) + to_string(v2);\n",
    "                auto num2 = to_string(v2) + to_string(v1);\n",
    "                    \n",
    "                return num1 > num2;\n",
    "            }  \n",
    "        }cmp;\n",
    "        \n",
    "        std::sort(nums.begin(), nums.end(), cmp);\n",
    "        \n",
    "        string res = \"\";\n",
    "        \n",
    "        for (int i = 0; i < nums.size(); i++) {\n",
    "            res += to_string(nums[i]);\n",
    "        }\n",
    "        \n",
    "        if (res[0] == '0') {\n",
    "            return \"0\";\n",
    "        }\n",
    "        \n",
    "        return res;\n",
    "        \n",
    "    }\n",
    "};\n",
    "\n",
    "TC: O(n log n)\n",
    "```"
   ]
  },
  {
   "cell_type": "code",
   "execution_count": null,
   "id": "f0b63153",
   "metadata": {},
   "outputs": [],
   "source": []
  },
  {
   "cell_type": "markdown",
   "id": "88918692",
   "metadata": {},
   "source": [
    "#### External sort\n"
   ]
  },
  {
   "cell_type": "code",
   "execution_count": null,
   "id": "e8578b50",
   "metadata": {},
   "outputs": [],
   "source": [
    "External sort is used for sorting data that doesn't fit into main memory\n",
    "It uses merge sort to sort the data without loading all file content into memory "
   ]
  },
  {
   "cell_type": "code",
   "execution_count": null,
   "id": "1c5601e5",
   "metadata": {},
   "outputs": [],
   "source": [
    "File F of size N \n",
    "\n",
    "split into k chunnks\n",
    "\n",
    "size of each chunk n/k, these chunks can be sorted in memory.\n",
    "\n",
    "\n",
    "\n"
   ]
  },
  {
   "cell_type": "code",
   "execution_count": null,
   "id": "c374c2dc",
   "metadata": {},
   "outputs": [],
   "source": []
  },
  {
   "cell_type": "markdown",
   "id": "dabb4b20",
   "metadata": {},
   "source": [
    "#### H-index  \n",
    "https://leetcode.com/problems/h-index/\n"
   ]
  },
  {
   "cell_type": "markdown",
   "id": "0423a98f",
   "metadata": {},
   "source": [
    "```\n",
    "\n",
    "Solution-1 [Sorting]\n",
    "Input: citations = [3,0,6,1,5]\n",
    "Output: 3\n",
    "Explanation: [3,0,6,1,5] means the researcher has 5 papers in total and each of them had received 3, 0, 6, 1, 5 citations respectively.\n",
    "Since the researcher has 3 papers with at least 3 citations each and the remaining two with no more than 3 citations each, their h-index is 3.\n",
    "\n",
    "Example-1\n",
    "[3,0,6,1,5]\n",
    "\n",
    "    0 1 3 5 6\n",
    "n-i 5 4 3 2 1 \n",
    "\n",
    "Example-2\n",
    "[300, 600, 500]\n",
    "\n",
    "    300  500 600\n",
    "n-i  3    2   1\n",
    "\n",
    "\n",
    "class Solution {\n",
    "public:\n",
    "    int hIndex(vector<int>& citations) {\n",
    "          \n",
    "        \n",
    "        std::sort(citations.begin(), citations.end());\n",
    "        \n",
    "        int N = citations.size();\n",
    "        for (int i = 0; i < citations.size(); i++) {\n",
    "            if (citations[i] >= (N-i)) {\n",
    "                return (N-i);\n",
    "            }\n",
    "        }\n",
    "        \n",
    "        return 0;\n",
    "        \n",
    "    }\n",
    "};\n",
    "\n",
    "TC: O(n log n)\n",
    "```"
   ]
  },
  {
   "cell_type": "markdown",
   "id": "ef585267",
   "metadata": {},
   "source": [
    "```\n",
    "Solution-2 [Map of possible h-indexes]\n",
    "\n",
    "Example-1\n",
    "[3,0,6,1,5]\n",
    "\n",
    "Mapping of citations to count\n",
    "1 1 0 1 0 2\n",
    "0 1 2 3 4 5\n",
    "\n",
    "Cumulative sum\n",
    "5 4 3 3 2 2\n",
    "0 1 2 3 4 5\n",
    "\n",
    "\n",
    "Example-2\n",
    "[300, 600, 500]\n",
    "\n",
    "0 0 0 3\n",
    "0 1 2 3\n",
    "\n",
    "\n",
    "Example-3\n",
    "[1 1 1 2 3 1 2 4 2]\n",
    "\n",
    "0 4 3 1 1 0 0 0 0 0\n",
    "0 1 2 3 4 5 6 7 8 9\n",
    "\n",
    "\n",
    "9 9 5 2 1 0 0 0 0 0\n",
    "0 1 2 3 4 5 6 7 8 9\n",
    "Ans 2\n",
    "\n",
    "\n",
    "TC: O(N)\n",
    "SC O(N)\n",
    "\n",
    "class Solution {\n",
    "public:\n",
    "    int hIndex(vector<int>& citations) {\n",
    "          \n",
    "        vector<int> counts = vector<int>(citations.size()+1, 0);\n",
    "        \n",
    "        int N = citations.size();\n",
    "        for (auto c: citations) {\n",
    "            if (c > N) {\n",
    "                counts[N]++;\n",
    "            } else {\n",
    "                counts[c]++;\n",
    "            }\n",
    "        }\n",
    "        \n",
    "        int cSum =  0;\n",
    "        for (int i = N; i >= 0; i--) {\n",
    "            cSum += counts[i];\n",
    "            \n",
    "            if (cSum >= i) {\n",
    "                return i;\n",
    "            }\n",
    "        }\n",
    "        return 0;\n",
    "        \n",
    "    }\n",
    "};\n",
    "\n",
    "TC: O(N)\n",
    "SC: O(N)\n",
    "```"
   ]
  },
  {
   "cell_type": "code",
   "execution_count": null,
   "id": "fad14933",
   "metadata": {},
   "outputs": [],
   "source": []
  },
  {
   "cell_type": "markdown",
   "id": "3ff43108",
   "metadata": {},
   "source": [
    "#### Sort a linked list"
   ]
  },
  {
   "cell_type": "markdown",
   "id": "38ab7022",
   "metadata": {},
   "source": [
    "- merge sort: yes\n",
    "    1. Divide: \n",
    "        use 2 pointer to find the middle element\n",
    "        split the list and do the recursive step\n",
    "    2. Conquer: \n",
    "        return Merge2SortedLinkedList(l1, l2)\n",
    "\n",
    "- bubble: yes\n",
    "- quick sort ?"
   ]
  },
  {
   "cell_type": "markdown",
   "id": "d313fc73",
   "metadata": {},
   "source": [
    "```\n",
    "Node* sort(Node* head) {\n",
    "    if (head == NULL or head->next == NULL) {\n",
    "        return head;\n",
    "        \n",
    "    Node* slow = head;\n",
    "    Node* fast = head->next;\n",
    "    \n",
    "    while (fast) {\n",
    "        slow = slow->next;\n",
    "        \n",
    "        fast = fast->next:\n",
    "        if (fast) {\n",
    "            fast = fast->next:    \n",
    "        }\n",
    "    }\n",
    "    \n",
    "    Node *l1 = head;\n",
    "    Node *l2 = slow->next;\n",
    "    slow->next = NULL;\n",
    "    \n",
    "    l1 = sort(l1);\n",
    "    l2 = sort(l2);\n",
    "    \n",
    "    return merge2SortedLinkedList(l1, l2);\n",
    "}\n",
    "\n",
    "Node* merge2SortedLinkedList(Node* l1, Node* l2) {\n",
    "    \n",
    "}\n",
    "```"
   ]
  },
  {
   "cell_type": "code",
   "execution_count": null,
   "id": "3f0fbd74",
   "metadata": {},
   "outputs": [],
   "source": [
    "\n",
    "\n"
   ]
  },
  {
   "cell_type": "markdown",
   "id": "6ecd512b",
   "metadata": {},
   "source": [
    "TC: O(N) : O(N*k)\n",
    "\n",
    "\n",
    "**Radix Sort**   \n",
    "**Bucket Sort**  \n",
    "\n",
    "**Counting sort**  \n",
    "arr = [1 0 1 2 3 4 5 1 5 7]  \n",
    "Max(arr) = 7\n",
    "\n",
    "Array of counts\n",
    "1 3 1 1 1 2 0 1  \n",
    "0 1 2 3 4 5 6 7  \n",
    "\n",
    "[0 1 1 1 2 3 4 5 5 7]\n",
    "\n",
    "\n",
    "Not possible:\n",
    "Sort by age:  m\n",
    "{2, \"A\"}, {2,\"B\"}, {1,\"C\"}, {3,\"D\"}, {0, \"E\"}\n",
    "\n",
    "\n",
    "Array of list (Bucket sort with bucket size = 1)\n",
    "\n",
    "0     1       2    3     4     5     6      7  \n",
    "[]    []      []   []    []    []    []     []\n"
   ]
  },
  {
   "cell_type": "code",
   "execution_count": null,
   "id": "bc4a8973",
   "metadata": {},
   "outputs": [],
   "source": []
  }
 ],
 "metadata": {
  "kernelspec": {
   "display_name": "Python 3",
   "language": "python",
   "name": "python3"
  },
  "language_info": {
   "codemirror_mode": {
    "name": "ipython",
    "version": 3
   },
   "file_extension": ".py",
   "mimetype": "text/x-python",
   "name": "python",
   "nbconvert_exporter": "python",
   "pygments_lexer": "ipython3",
   "version": "3.8.8"
  }
 },
 "nbformat": 4,
 "nbformat_minor": 5
}
