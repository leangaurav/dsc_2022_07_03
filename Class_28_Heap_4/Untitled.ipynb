{
 "cells": [
  {
   "cell_type": "markdown",
   "id": "90f4d17d",
   "metadata": {},
   "source": [
    "**Sort nearly k sorted array**\n",
    "\n",
    "Given a k–sorted array that is almost sorted such that each of the n elements may be misplaced by no more than k positions from the correct sorted order. Find a space-and-time efficient algorithm to sort the array.\n",
    "\n",
    "For example,\n",
    "\n",
    "Input:\n",
    " \n",
    "arr = [1, 4, 5, 2, 3, 7, 8, 6, 10, 9]\n",
    "k = 2\n",
    " \n",
    "Output:[1, 2, 3, 4, 5, 6, 7, 8, 9, 10]\n",
    "    \n",
    "Solution-1: using O(n log n) sorting algorithm\n",
    "\n",
    "Solution-2: use the common n^2 sorting algorithms\n",
    "- Bubble: O(n^2) X\n",
    "- Insertion: O(n*k) \n",
    "- Selection: O(n^2) X\n",
    "    \n",
    "Solution-3: Use a min heap\n",
    "- put first k+1 elements in the heap\n",
    "- pop the min element O(log k)\n",
    "- add the next element into the heap O(log k)  \n",
    "TC: O(n log k)  \n",
    "SC: O(k) \n"
   ]
  },
  {
   "cell_type": "code",
   "execution_count": 12,
   "id": "b19caa4d",
   "metadata": {},
   "outputs": [
    {
     "name": "stdout",
     "output_type": "stream",
     "text": [
      "[1, 4, 5, 2, 3, 7, 8, 6, 10, 9]\n",
      "[1, 4, 5]\n",
      "[2, 5, 4]\n",
      "[3, 5, 4]\n",
      "[4, 5, 7]\n",
      "[5, 7, 8]\n",
      "[6, 8, 7]\n",
      "[7, 8, 10]\n",
      "[8, 10, 9]\n",
      "[9, 10]\n",
      "[10]\n",
      "[1, 2, 3, 4, 5, 6, 7, 8, 9, 10]\n"
     ]
    }
   ],
   "source": [
    "import heapq\n",
    "def sort_k_sorted(arr, k):\n",
    "    heap =  []\n",
    "    \n",
    "    # in case k > len(arr)\n",
    "    limit = min([k+1, len(arr)])\n",
    "    for i in range( limit ): # 0 to limit-1\n",
    "        heapq.heappush(heap, arr[i])\n",
    "        \n",
    "    start = 0\n",
    "    while start < len(arr):\n",
    "        print(heap)\n",
    "        val = heapq.heappop(heap)\n",
    "        \n",
    "        arr[start] = val\n",
    "        \n",
    "        start += 1\n",
    "        if start + k < len(arr):\n",
    "            heapq.heappush(heap, arr[start + k])\n",
    "            \n",
    "\n",
    "a = [1, 4, 5, 2, 3, 7, 8, 6, 10, 9]\n",
    "\n",
    "print(a)\n",
    "sort_k_sorted(a, 2)\n",
    "print(a)"
   ]
  },
  {
   "cell_type": "code",
   "execution_count": null,
   "id": "fbed32f3",
   "metadata": {},
   "outputs": [],
   "source": []
  },
  {
   "cell_type": "code",
   "execution_count": 16,
   "id": "6778bc0c",
   "metadata": {},
   "outputs": [
    {
     "name": "stdout",
     "output_type": "stream",
     "text": [
      "[2, 3, 5, 6, 8, 9, 10]\n"
     ]
    }
   ],
   "source": [
    "import heapq\n",
    "\n",
    "def sort_nearly_sorted(nums, k):\n",
    "    sub_array = nums[0:k+1]\n",
    "    i = k + 1\n",
    "    j = 0\n",
    "\n",
    "    heapq.heapify(sub_array)\n",
    "    min_element = heapq.heappop(sub_array)\n",
    "\n",
    "    nums[j] = min_element\n",
    "    j += 1\n",
    "\n",
    "    while i < len(nums):\n",
    "        heapq.heappush(sub_array, nums[i])\n",
    "        min_element = heapq.heappop(sub_array)\n",
    "        nums[j] = min_element\n",
    "\n",
    "        i += 1\n",
    "        j += 1\n",
    "\n",
    "    while len(sub_array) > 0:\n",
    "        min_element = heapq.heappop(sub_array)\n",
    "        nums[j] = min_element\n",
    "        j += 1\n",
    "\n",
    "    print(nums)\n",
    "\n",
    "\n",
    "sort_nearly_sorted([6, 5, 3, 2, 8, 10, 9], 3)\n"
   ]
  },
  {
   "cell_type": "markdown",
   "id": "46ea6736",
   "metadata": {},
   "source": [
    "Skyline: \n",
    "https://leetcode.com/problems/the-skyline-problem/\n"
   ]
  },
  {
   "cell_type": "code",
   "execution_count": null,
   "id": "c7c7cea1",
   "metadata": {},
   "outputs": [],
   "source": [
    "class Solution:\n",
    "    def getSkyline(self, buildings: List[List[int]]) -> List[List[int]]:\n",
    "\n",
    "        start = buildings[0][0]\n",
    "        end = buildings[0][1]\n",
    "        for b in buildings: # O(N)\n",
    "            if b[1] > end:\n",
    "                end = b[1]\n",
    "\n",
    "        # populate map\n",
    "        map = {}\n",
    "        for i in range(start, end + 1): \n",
    "            map[i] = 0\n",
    "\n",
    "        for b in buildings:\n",
    "            b_start = b[0]\n",
    "            b_end = b[1]\n",
    "\n",
    "            for i in range(b_start, b_end):\n",
    "                curr_height = b[2]\n",
    "                map[i] = max( [ map[i], curr_height ] )\n",
    "\n",
    "        prev  = [start, map[start]]\n",
    "        res = [prev]\n",
    "\n",
    "        print(map)\n",
    "\n",
    "        for i in range(start, end+1):\n",
    "            curr = map[i]\n",
    "            if curr != prev[1]:\n",
    "                prev = [i, curr]\n",
    "                res.append(prev)\n",
    "\n",
    "        return res \n"
   ]
  },
  {
   "cell_type": "code",
   "execution_count": null,
   "id": "fded435a",
   "metadata": {},
   "outputs": [],
   "source": [
    "\n",
    "# for each point figure out the height\n",
    "# points = start and end points (since we need to set 0 where a building ends and there's no overlap) \n",
    "# iterate each building \n",
    "#   add to map[start] = height if height > map[start]\n",
    "#   \n",
    "\n",
    "# current_building_end\n",
    "# prev_height\n",
    "# add first building to heap\n",
    "# add first coordinate to result\n",
    "\n",
    "# iterate remaining buildings:\n",
    "#     check if the new building height is greater than top of heap || if new building end is > top of heap\n",
    "#           add the building to heap\n",
    "#     check if the new building height is greater than top of heap \n",
    "#           add a marker to result\n",
    "\n",
    "#     while (end of heap top) < current_building_end:\n",
    "#           pop from heap()\n",
    "#\n",
    "#     # check for height change when a building is popped out of the heap\n",
    "#     if something in heap() and heap.top().height != prev_height:\n",
    "#           add a marker with prev_height\n",
    "\n"
   ]
  },
  {
   "cell_type": "code",
   "execution_count": 15,
   "id": "62725f1c",
   "metadata": {},
   "outputs": [
    {
     "name": "stdout",
     "output_type": "stream",
     "text": [
      "[['A', 'B', 'C'], ['A', 'C', 'B'], ['B', 'A', 'C'], ['B', 'C', 'A'], ['C', 'A', 'B'], ['C', 'B', 'A']]\n"
     ]
    }
   ],
   "source": [
    "- counting: constraint/condition\n",
    "- enumerate\n",
    "\n",
    "# assuming \n",
    "def perm(arr):\n",
    "    \n",
    "    if len(arr) == 1:\n",
    "        return [arr]\n",
    "    \n",
    "    results = []\n",
    "    for i in range(len(arr)):\n",
    "        prefix = arr[i]\n",
    "        remaining = arr[0:i] + arr[i+1 : ]\n",
    "        \n",
    "        res = perm(remaining)\n",
    "        for r in res:\n",
    "            results.append([prefix] + r)\n",
    "            \n",
    "    return results\n",
    "\n",
    "\n",
    "print(perm([\"A\", \"B\", \"C\"]))\n",
    "\n",
    "```\n",
    "perm([A,B,C])      [A,B,C],[A,C,B]                                [[B,A,C], [B, C, A]]\n",
    "     A perm([B,C]) [[B, C]                 [C,B]]                  B perm([A, C]) [A,C]         [C,A]\n",
    "           B perm([C]) -> [ [C] ]   C perm([B]) -> [[B]]                 A perm([C]) [[C]]  C perm([A]) [[A]]\n",
    "```       \n"
   ]
  },
  {
   "cell_type": "code",
   "execution_count": null,
   "id": "74696194",
   "metadata": {},
   "outputs": [],
   "source": [
    "def perm(data):\n",
    "    res = []\n",
    "    perm_util(data, 0, res)\n",
    "    return res\n",
    "\n",
    "def perm_util(data, curr, res):\n",
    "    if curr == len(data) - 1:\n",
    "        res.append(data.copy())\n",
    "        \n",
    "    for i in range(curr, len(data)):\n",
    "        swap(data, curr, i)\n",
    "        perm_util(data, curr+1, res)\n",
    "        swap(data, curr, i)\n",
    "        \n",
    "def swap(arr, i, j):\n",
    "    t = arr[i]\n",
    "    arr[i] = arr[j]\n",
    "    arr[j] = t"
   ]
  },
  {
   "cell_type": "code",
   "execution_count": null,
   "id": "887c2faf",
   "metadata": {},
   "outputs": [],
   "source": []
  }
 ],
 "metadata": {
  "kernelspec": {
   "display_name": "Python 3",
   "language": "python",
   "name": "python3"
  },
  "language_info": {
   "codemirror_mode": {
    "name": "ipython",
    "version": 3
   },
   "file_extension": ".py",
   "mimetype": "text/x-python",
   "name": "python",
   "nbconvert_exporter": "python",
   "pygments_lexer": "ipython3",
   "version": "3.8.8"
  }
 },
 "nbformat": 4,
 "nbformat_minor": 5
}
