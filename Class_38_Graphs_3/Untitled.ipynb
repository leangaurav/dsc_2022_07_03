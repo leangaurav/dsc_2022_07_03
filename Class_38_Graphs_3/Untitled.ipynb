{
 "cells": [
  {
   "cell_type": "code",
   "execution_count": null,
   "id": "d3185ba0",
   "metadata": {},
   "outputs": [],
   "source": [
    "# include <unordered_map>\n",
    "# include <iostream>\n",
    "\n",
    "using namespace std;\n",
    "\n",
    "\n",
    "class DisjointSet {\n",
    "  \n",
    "    std::unordered_map<int, int> _set;\n",
    "    \n",
    "    public:\n",
    "        DisjointSet(int maxKey) {\n",
    "            for (int i = 0; i < maxKey; i++) {\n",
    "                _set[i] = i;\n",
    "            }\n",
    "        }\n",
    "    \n",
    "        int find(int key) {\n",
    "            if (_set[key] == key) {\n",
    "                return key;                \n",
    "            }\n",
    "            _set[key] = find(_set[key])\n",
    "            return _set[key];\n",
    "        }\n",
    "    \n",
    "        void _union(int k1, int k2) {\n",
    "            int p1 = find(k1);\n",
    "            int p2 = find(k2);\n",
    "            \n",
    "            _set[p2] = p1;\n",
    "        }\n",
    "    \n",
    "        bool isSameSet(int k1, int k2) {\n",
    "            return find(k1) == find(k2);\n",
    "        }\n",
    "};\n",
    " {0:0,1:1,2:2,3:3,4:4,5:5,6:6}\n",
    "union(0,1)  {0:0,1:0,2:2,3:3,4:4,5:5,6:6}\n",
    "find(1)->find(0) -> 0\n",
    "union(3,1); find(3)->3 find(1)->0   {0:3,1:0,2:2,3:3,4:4,5:5,6:6}   union(1,3);  find(1)->0  find(3)->3 {0:0,1:0,2:2,3:0,4:4,5:5,6:6}\n",
    "union(4,3)  {0:3,1:0,2:2,3:4,4:4,5:5,6:6}\n",
    "union(5,4)  {0:3,1:0,2:2,3:4,4:5,5:5,6:6}\n",
    "union(6,5)  {0:3,1:0,2:2,3:4,4:5,5:6,6:6}\n",
    "union(2,6)  {0:3,1:0,2:2,3:4,4:5,5:6,6:2}\n",
    "\n",
    "find(1) O(N)\n",
    "union(k1, k2) O(N)\n",
    "\n",
    "int main() {\n",
    "    DisjointSet dj1 = DisjointSet(8);\n",
    "    \n",
    "    cout << \"find(0)\" << dj1.find(0) << endl; \n",
    "    \n",
    "    cout << \"find(1)\" << dj1.find(1) << endl; \n",
    "    \n",
    "    cout << \"check(0,1)\" << dj1.isSameSet(0,1) << endl;\n",
    "    \n",
    "    dj1._union(0,1);\n",
    "    cout << \"check(0,1)\" << dj1.isSameSet(0,1) << endl;\n",
    "    \n",
    "    \n",
    "    cout << \"check(3,1) before\" << dj1.isSameSet(3,1) << endl;\n",
    "    dj1._union(3,0);\n",
    "    \n",
    "    cout << \"check(3,1)\" << dj1.isSameSet(3,1) << endl;\n",
    "    \n",
    "    std::cout << \"Hello World!\\n\";\n",
    "}"
   ]
  },
  {
   "cell_type": "code",
   "execution_count": null,
   "id": "574cc184",
   "metadata": {},
   "outputs": [],
   "source": [
    "class DisjointSet:\n",
    "    \n",
    "    def __init__(self):\n",
    "        self.set = {} # hashmap <key, value>\n",
    "        \n",
    "    "
   ]
  },
  {
   "cell_type": "code",
   "execution_count": null,
   "id": "537b5477",
   "metadata": {},
   "outputs": [],
   "source": []
  },
  {
   "cell_type": "code",
   "execution_count": null,
   "id": "5c225a04",
   "metadata": {},
   "outputs": [],
   "source": []
  },
  {
   "cell_type": "markdown",
   "id": "3a33af83",
   "metadata": {},
   "source": [
    "#### Cycle detection in a directed graph"
   ]
  },
  {
   "cell_type": "code",
   "execution_count": null,
   "id": "09c69175",
   "metadata": {},
   "outputs": [],
   "source": []
  },
  {
   "cell_type": "code",
   "execution_count": null,
   "id": "3f7688fc",
   "metadata": {},
   "outputs": [],
   "source": []
  },
  {
   "cell_type": "code",
   "execution_count": null,
   "id": "cf989bed",
   "metadata": {},
   "outputs": [],
   "source": []
  },
  {
   "cell_type": "code",
   "execution_count": null,
   "id": "2630f689",
   "metadata": {},
   "outputs": [],
   "source": []
  },
  {
   "cell_type": "markdown",
   "id": "d7b47d13",
   "metadata": {},
   "source": [
    "https://leetcode.com/problems/redundant-connection/description/"
   ]
  },
  {
   "cell_type": "code",
   "execution_count": null,
   "id": "c52fcd86",
   "metadata": {},
   "outputs": [],
   "source": [
    "\n",
    "# include <unordered_map>\n",
    "\n",
    "class DisjointSet {\n",
    "  \n",
    "    std::unordered_map<int, int> _set;\n",
    "    \n",
    "    public:\n",
    "        DisjointSet(int maxKey) {\n",
    "            for (int i = 1; i <= maxKey; i++) {\n",
    "                _set[i] = i;\n",
    "            }\n",
    "        }\n",
    "    \n",
    "        int find(int key) {\n",
    "            if (_set[key] == key) {\n",
    "                return key;                \n",
    "            }\n",
    "            _set[key] = find(_set[key]);\n",
    "            return _set[key];\n",
    "        }\n",
    "    \n",
    "        void _union(int k1, int k2) {\n",
    "            int p1 = find(k1);\n",
    "            int p2 = find(k2);\n",
    "            \n",
    "            _set[p2] = p1;\n",
    "        }\n",
    "    \n",
    "        bool isSameSet(int k1, int k2) {\n",
    "            return find(k1) == find(k2);\n",
    "        }\n",
    "};\n",
    "\n",
    "class Solution {\n",
    "public:\n",
    "    vector<int> findRedundantConnection(vector<vector<int>>& edges) {\n",
    "        vector<int> res;\n",
    "        if (edges.size() == 0) {\n",
    "            return res;\n",
    "        }\n",
    "\n",
    "        int maxVertex = edges[0][0];\n",
    "        for (auto edge: edges) {\n",
    "            if (edge[0] > maxVertex) {\n",
    "                maxVertex = edge[0];\n",
    "            }\n",
    "            \n",
    "            if (edge[1] > maxVertex) {\n",
    "                maxVertex = edge[1];\n",
    "            }\n",
    "        }\n",
    "\n",
    "        DisjointSet s = DisjointSet(maxVertex);\n",
    "\n",
    "        for (auto edge: edges) {\n",
    "            int v1 = edge[0];\n",
    "            int v2 = edge[1];\n",
    "\n",
    "            if (s.find(v1) == s.find(v2)) {\n",
    "                res = edge;\n",
    "                break;\n",
    "            }\n",
    "            s._union(v1, v2);\n",
    "        }\n",
    "        return res;\n",
    "    }\n",
    "};"
   ]
  },
  {
   "cell_type": "code",
   "execution_count": null,
   "id": "c5a9925a",
   "metadata": {},
   "outputs": [],
   "source": []
  },
  {
   "cell_type": "code",
   "execution_count": null,
   "id": "061d1735",
   "metadata": {},
   "outputs": [],
   "source": [
    "Set vs Disjoint set ?\n",
    "\n",
    "    Set: is a single set of unique values.\n",
    "\n",
    "    Disjoint set: set of unique sets."
   ]
  },
  {
   "cell_type": "code",
   "execution_count": null,
   "id": "cb4fd1b4",
   "metadata": {},
   "outputs": [],
   "source": []
  },
  {
   "cell_type": "code",
   "execution_count": null,
   "id": "36b46064",
   "metadata": {},
   "outputs": [],
   "source": [
    "Disjoint set only\n",
    "https://www.hackerearth.com/practice/data-structures/disjoint-data-strutures/basics-of-disjoint-data-structures/practice-problems/algorithm/lexicographically-minimal-string-6edc1406/\n",
    "    "
   ]
  },
  {
   "cell_type": "code",
   "execution_count": null,
   "id": "6ea8ea77",
   "metadata": {},
   "outputs": [],
   "source": [
    "Disjoint set with graph\n",
    "https://www.hackerearth.com/practice/data-structures/disjoint-data-strutures/basics-of-disjoint-data-structures/practice-problems/algorithm/make-paths-3/"
   ]
  },
  {
   "cell_type": "code",
   "execution_count": null,
   "id": "3ce6bd57",
   "metadata": {},
   "outputs": [],
   "source": []
  },
  {
   "cell_type": "code",
   "execution_count": null,
   "id": "b4842b2f",
   "metadata": {},
   "outputs": [],
   "source": []
  },
  {
   "cell_type": "code",
   "execution_count": 2,
   "id": "c910b3a7",
   "metadata": {},
   "outputs": [
    {
     "ename": "IndentationError",
     "evalue": "unindent does not match any outer indentation level (<tokenize>, line 5)",
     "output_type": "error",
     "traceback": [
      "\u001b[1;36m  File \u001b[1;32m\"<tokenize>\"\u001b[1;36m, line \u001b[1;32m5\u001b[0m\n\u001b[1;33m    /  \\\u001b[0m\n\u001b[1;37m    ^\u001b[0m\n\u001b[1;31mIndentationError\u001b[0m\u001b[1;31m:\u001b[0m unindent does not match any outer indentation level\n"
     ]
    }
   ],
   "source": [
    "traverse a tree\n",
    "\n",
    "Binary tree and BST (Binary search tree)\n",
    "\n",
    "struct Node {\n",
    "    int data;\n",
    "    Node *left, *right;\n",
    "};\n",
    "\n",
    "traverse\n",
    "\n",
    "\n",
    "       4\n",
    "      /  \\\n",
    "     2    3\n",
    "    /\n",
    "    1\n"
   ]
  },
  {
   "cell_type": "code",
   "execution_count": null,
   "id": "1e805c73",
   "metadata": {},
   "outputs": [],
   "source": []
  }
 ],
 "metadata": {
  "kernelspec": {
   "display_name": "Python 3",
   "language": "python",
   "name": "python3"
  },
  "language_info": {
   "codemirror_mode": {
    "name": "ipython",
    "version": 3
   },
   "file_extension": ".py",
   "mimetype": "text/x-python",
   "name": "python",
   "nbconvert_exporter": "python",
   "pygments_lexer": "ipython3",
   "version": "3.8.8"
  }
 },
 "nbformat": 4,
 "nbformat_minor": 5
}
