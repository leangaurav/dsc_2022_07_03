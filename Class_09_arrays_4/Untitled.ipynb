{
 "cells": [
  {
   "cell_type": "code",
   "execution_count": null,
   "id": "aff05d66",
   "metadata": {},
   "outputs": [],
   "source": [
    "# Arrays - 4"
   ]
  },
  {
   "cell_type": "code",
   "execution_count": 8,
   "id": "b276b20a",
   "metadata": {},
   "outputs": [
    {
     "name": "stdout",
     "output_type": "stream",
     "text": [
      "0b10\n",
      "0b11\n",
      "0b1\n",
      "\n",
      "0b0\n",
      "\n",
      "0b10\n",
      "0b1\n",
      "0b11\n",
      "3\n",
      "\n",
      "Xor with 0\n",
      "3\n"
     ]
    }
   ],
   "source": [
    "# XOR operator => ^\n",
    "print(bin(2))\n",
    "print(bin(3))\n",
    "\n",
    "print(bin(2^3))\n",
    "\n",
    "print()\n",
    "print(bin(2^2))\n",
    "\n",
    "print()\n",
    "a=2\n",
    "print(bin(a))\n",
    "a= a^3 # 01\n",
    "print(bin(a))\n",
    "a= a ^ 2 # 11\n",
    "print(bin(a))\n",
    "print(a)\n",
    "\n",
    "print()\n",
    "print(\"Xor with 0\")\n",
    "print(3^0)"
   ]
  },
  {
   "cell_type": "code",
   "execution_count": null,
   "id": "43011304",
   "metadata": {},
   "outputs": [],
   "source": []
  },
  {
   "cell_type": "markdown",
   "id": "228b78b9",
   "metadata": {},
   "source": [
    "Question 1:  \n",
    "https://leetcode.com/problems/missing-number/"
   ]
  },
  {
   "cell_type": "code",
   "execution_count": null,
   "id": "990bae7b",
   "metadata": {},
   "outputs": [],
   "source": [
    "# sort array and find missing value\n",
    "TC: O(n log n)\n",
    "    \n",
    "# take additional array as hashmap of size N+1\n",
    "TC: O(N)\n",
    "SC: O(N)\n",
    "\n",
    "# find sum of all numbers and then subtract it from N(N+1)/2\n",
    "TC: O(N)\n",
    "SC: O(1)\n",
    "    \n",
    "# using XOR\n",
    "TC: O(N)\n",
    "SC: O(1)\n",
    "    \n",
    "int missingNumber(int[] nums) {\n",
    "        \n",
    "    int res = nums.length;\n",
    "    for(int i=0; i<nums.length; i++){\n",
    "        res ^= i;\n",
    "        res ^= nums[i];\n",
    "    }\n",
    "    return res;\n",
    "}\n",
    "\n",
    "int missingNumber(int[] nums) {\n",
    "        \n",
    "    int res = 0;\n",
    "    for(int i=0; i<nums.length; i++){\n",
    "        res ^= i+1;\n",
    "        res ^= nums[i];\n",
    "    }\n",
    "    return res;\n",
    "}\n"
   ]
  },
  {
   "cell_type": "code",
   "execution_count": null,
   "id": "5875f70d",
   "metadata": {},
   "outputs": [],
   "source": []
  },
  {
   "cell_type": "markdown",
   "id": "60328156",
   "metadata": {},
   "source": [
    "Question 2:  \n",
    "https://leetcode.com/problems/single-number/ "
   ]
  },
  {
   "cell_type": "code",
   "execution_count": null,
   "id": "13319c9b",
   "metadata": {},
   "outputs": [],
   "source": [
    "# python\n",
    "def singleNumber(self, nums: List[int]) -> int:\n",
    "        result=0\n",
    "        for i in nums:\n",
    "            result ^=i\n",
    "        return result\n",
    "\n",
    "# \n",
    "from functools import reduce\n",
    "from operator import xor\n",
    "\n",
    "def singleNumber(self, nums: List[int]) -> int:\n",
    "        return reduce(xor, nums)\n",
    "\n",
    "# JAVA\n",
    "class Solution {\n",
    "    public int singleNumber(int[] nums) {\n",
    "        int result =0;\n",
    "        for(int i=0;i<nums.length;i++)\n",
    "        {\n",
    "            result = result ^ nums[i];\n",
    "        }\n",
    "        return result;\n",
    "    }\n",
    "}\n"
   ]
  },
  {
   "cell_type": "code",
   "execution_count": null,
   "id": "e1b6bc51",
   "metadata": {},
   "outputs": [],
   "source": []
  },
  {
   "cell_type": "markdown",
   "id": "032732b5",
   "metadata": {},
   "source": [
    "Question 3:  \n",
    "https://leetcode.com/problems/decode-xored-array/ "
   ]
  },
  {
   "cell_type": "code",
   "execution_count": null,
   "id": "45ea429b",
   "metadata": {},
   "outputs": [],
   "source": [
    "class Solution:\n",
    "    def decode(self, encoded: List[int], first: int) -> List[int]:\n",
    "        res = [first]\n",
    "\n",
    "        for i in range(len(encoded)):    \n",
    "            res.append(res[-1]^encoded[i])\n",
    "                       \n",
    "        return res\n",
    "\n",
    "vector<int> decode(vector<int>& encoded, int first) {\n",
    "    vector<int> res{first};\n",
    "\n",
    "    for(int x: encoded)\n",
    "        res.push_back(first^=x);\n",
    "\n",
    "    return res;\n",
    "}"
   ]
  },
  {
   "cell_type": "code",
   "execution_count": 14,
   "id": "05b9c758",
   "metadata": {},
   "outputs": [
    {
     "data": {
      "text/plain": [
       "[1, 0, 2, 1]"
      ]
     },
     "execution_count": 14,
     "metadata": {},
     "output_type": "execute_result"
    }
   ],
   "source": [
    "\n",
    "def decode(encoded, first: int):\n",
    "    res = [first]\n",
    "\n",
    "    for i in range(len(encoded)):    \n",
    "        first = first^encoded[i]\n",
    "        res.append(first)\n",
    "\n",
    "    return res\n",
    "\n",
    "decode([1,2,3], 1)"
   ]
  },
  {
   "cell_type": "code",
   "execution_count": null,
   "id": "2d734862",
   "metadata": {},
   "outputs": [],
   "source": []
  },
  {
   "cell_type": "markdown",
   "id": "6f56217b",
   "metadata": {},
   "source": [
    "Question 4:  \n",
    "https://leetcode.com/problems/prison-cells-after-n-days/ "
   ]
  },
  {
   "cell_type": "code",
   "execution_count": 33,
   "id": "9fe90ac7",
   "metadata": {},
   "outputs": [
    {
     "name": "stdout",
     "output_type": "stream",
     "text": [
      "[0, 1, 1, 0, 0, 0, 0, 0] 1 False\n",
      "[0, 0, 0, 0, 1, 1, 1, 0] 2 False\n",
      "[0, 1, 1, 0, 0, 1, 0, 0] 3 False\n",
      "[0, 0, 0, 0, 0, 1, 0, 0] 4 False\n",
      "[0, 1, 1, 1, 0, 1, 0, 0] 5 False\n",
      "[0, 0, 1, 0, 1, 1, 0, 0] 6 False\n",
      "[0, 0, 1, 1, 0, 0, 0, 0] 7 False\n",
      "[0, 0, 0, 0, 0, 1, 1, 0] 8 False\n",
      "[0, 1, 1, 1, 0, 0, 0, 0] 9 False\n",
      "[0, 0, 1, 0, 0, 1, 1, 0] 10 False\n",
      "[0, 0, 1, 0, 0, 0, 0, 0] 11 False\n",
      "[0, 0, 1, 0, 1, 1, 1, 0] 12 False\n",
      "[0, 0, 1, 1, 0, 1, 0, 0] 13 False\n",
      "[0, 0, 0, 0, 1, 1, 0, 0] 14 False\n",
      "[0, 1, 1, 0, 0, 0, 0, 0] 15 1\n",
      "[0, 0, 0, 0, 1, 1, 1, 0] 16 2\n",
      "[0, 1, 1, 0, 0, 1, 0, 0] 17 3\n",
      "[0, 0, 0, 0, 0, 1, 0, 0] 18 4\n",
      "[0, 1, 1, 1, 0, 1, 0, 0] 19 5\n",
      "[0, 0, 1, 0, 1, 1, 0, 0] 20 6\n",
      "[0, 0, 1, 1, 0, 0, 0, 0] 21 7\n",
      "[0, 0, 0, 0, 0, 1, 1, 0] 22 8\n",
      "[0, 1, 1, 1, 0, 0, 0, 0] 23 9\n",
      "[0, 0, 1, 0, 0, 1, 1, 0] 24 10\n",
      "[0, 0, 1, 0, 0, 0, 0, 0] 25 11\n",
      "[0, 0, 1, 0, 1, 1, 1, 0] 26 12\n",
      "[0, 0, 1, 1, 0, 1, 0, 0] 27 13\n",
      "[0, 0, 0, 0, 1, 1, 0, 0] 28 14\n",
      "[0, 1, 1, 0, 0, 0, 0, 0] 29 1\n",
      "[0, 0, 0, 0, 1, 1, 1, 0] 30 2\n",
      "[0, 1, 1, 0, 0, 1, 0, 0] 31 3\n",
      "[0, 0, 0, 0, 0, 1, 0, 0] 32 4\n",
      "[0, 1, 1, 1, 0, 1, 0, 0] 33 5\n",
      "[0, 0, 1, 0, 1, 1, 0, 0] 34 6\n",
      "[0, 0, 1, 1, 0, 0, 0, 0] 35 7\n",
      "[0, 0, 0, 0, 0, 1, 1, 0] 36 8\n",
      "[0, 1, 1, 1, 0, 0, 0, 0] 37 9\n",
      "[0, 0, 1, 0, 0, 1, 1, 0] 38 10\n",
      "[0, 0, 1, 0, 0, 0, 0, 0] 39 11\n",
      "[0, 0, 1, 0, 1, 1, 1, 0] 40 12\n",
      "[0, 0, 1, 1, 0, 1, 0, 0] 41 13\n",
      "[0, 0, 0, 0, 1, 1, 0, 0] 42 14\n",
      "[0, 1, 1, 0, 0, 0, 0, 0] 43 1\n",
      "[0, 0, 0, 0, 1, 1, 1, 0] 44 2\n",
      "[0, 1, 1, 0, 0, 1, 0, 0] 45 3\n",
      "[0, 0, 0, 0, 0, 1, 0, 0] 46 4\n",
      "[0, 1, 1, 1, 0, 1, 0, 0] 47 5\n",
      "[0, 0, 1, 0, 1, 1, 0, 0] 48 6\n",
      "[0, 0, 1, 1, 0, 0, 0, 0] 49 7\n",
      "[0, 0, 0, 0, 0, 1, 1, 0] 50 8\n",
      "[0, 1, 1, 1, 0, 0, 0, 0] 51 9\n",
      "[0, 0, 1, 0, 0, 1, 1, 0] 52 10\n",
      "[0, 0, 1, 0, 0, 0, 0, 0] 53 11\n",
      "[0, 0, 1, 0, 1, 1, 1, 0] 54 12\n",
      "[0, 0, 1, 1, 0, 1, 0, 0] 55 13\n",
      "[0, 0, 0, 0, 1, 1, 0, 0] 56 14\n",
      "[0, 1, 1, 0, 0, 0, 0, 0] 57 1\n",
      "[0, 0, 0, 0, 1, 1, 1, 0] 58 2\n",
      "[0, 1, 1, 0, 0, 1, 0, 0] 59 3\n",
      "[0, 0, 0, 0, 0, 1, 0, 0] 60 4\n",
      "[0, 1, 1, 1, 0, 1, 0, 0] 61 5\n",
      "[0, 0, 1, 0, 1, 1, 0, 0] 62 6\n",
      "[0, 0, 1, 1, 0, 0, 0, 0] 63 7\n",
      "[0, 0, 0, 0, 0, 1, 1, 0] 64 8\n",
      "[0, 1, 1, 1, 0, 0, 0, 0] 65 9\n",
      "[0, 0, 1, 0, 0, 1, 1, 0] 66 10\n",
      "[0, 0, 1, 0, 0, 0, 0, 0] 67 11\n",
      "[0, 0, 1, 0, 1, 1, 1, 0] 68 12\n",
      "[0, 0, 1, 1, 0, 1, 0, 0] 69 13\n",
      "[0, 0, 0, 0, 1, 1, 0, 0] 70 14\n",
      "[0, 1, 1, 0, 0, 0, 0, 0] 71 1\n",
      "[0, 0, 0, 0, 1, 1, 1, 0] 72 2\n",
      "[0, 1, 1, 0, 0, 1, 0, 0] 73 3\n",
      "[0, 0, 0, 0, 0, 1, 0, 0] 74 4\n",
      "[0, 1, 1, 1, 0, 1, 0, 0] 75 5\n",
      "[0, 0, 1, 0, 1, 1, 0, 0] 76 6\n",
      "[0, 0, 1, 1, 0, 0, 0, 0] 77 7\n",
      "[0, 0, 0, 0, 0, 1, 1, 0] 78 8\n",
      "[0, 1, 1, 1, 0, 0, 0, 0] 79 9\n",
      "[0, 0, 1, 0, 0, 1, 1, 0] 80 10\n",
      "[0, 0, 1, 0, 0, 0, 0, 0] 81 11\n",
      "[0, 0, 1, 0, 1, 1, 1, 0] 82 12\n",
      "[0, 0, 1, 1, 0, 1, 0, 0] 83 13\n",
      "[0, 0, 0, 0, 1, 1, 0, 0] 84 14\n",
      "[0, 1, 1, 0, 0, 0, 0, 0] 85 1\n",
      "[0, 0, 0, 0, 1, 1, 1, 0] 86 2\n",
      "[0, 1, 1, 0, 0, 1, 0, 0] 87 3\n",
      "[0, 0, 0, 0, 0, 1, 0, 0] 88 4\n",
      "[0, 1, 1, 1, 0, 1, 0, 0] 89 5\n",
      "[0, 0, 1, 0, 1, 1, 0, 0] 90 6\n",
      "[0, 0, 1, 1, 0, 0, 0, 0] 91 7\n",
      "[0, 0, 0, 0, 0, 1, 1, 0] 92 8\n",
      "[0, 1, 1, 1, 0, 0, 0, 0] 93 9\n",
      "[0, 0, 1, 0, 0, 1, 1, 0] 94 10\n",
      "[0, 0, 1, 0, 0, 0, 0, 0] 95 11\n",
      "[0, 0, 1, 0, 1, 1, 1, 0] 96 12\n",
      "[0, 0, 1, 1, 0, 1, 0, 0] 97 13\n",
      "[0, 0, 0, 0, 1, 1, 0, 0] 98 14\n",
      "[0, 1, 1, 0, 0, 0, 0, 0] 99 1\n",
      "[0, 0, 0, 0, 1, 1, 1, 0] 100 2\n"
     ]
    },
    {
     "data": {
      "text/plain": [
       "[0, 0, 0, 0, 1, 1, 1, 0]"
      ]
     },
     "execution_count": 33,
     "metadata": {},
     "output_type": "execute_result"
    }
   ],
   "source": [
    "def prisonAfterNDays(cells, n: int):\n",
    "    \n",
    "        m = {}\n",
    "        for j in range(n):\n",
    "            new=[0]*len(cells)\n",
    "            for i in range(1,len(cells)-1):\n",
    "                if cells[i-1]==cells[i+1]:\n",
    "                    new[i]=1\n",
    "            cells=new\n",
    "            \n",
    "            c = tuple(cells)\n",
    "            print(cells, j+1, m[c] if c in m else False)\n",
    "            if c not in m:\n",
    "                m[c] = j+1\n",
    "            \n",
    "            \n",
    "        return cells\n",
    "\n",
    "cells = [0,1,0,1,1,0,0,1]\n",
    "n = 100\n",
    "prisonAfterNDays(cells, n)"
   ]
  },
  {
   "cell_type": "code",
   "execution_count": 32,
   "id": "61bb6bd5",
   "metadata": {},
   "outputs": [
    {
     "data": {
      "text/plain": [
       "2"
      ]
     },
     "execution_count": 32,
     "metadata": {},
     "output_type": "execute_result"
    }
   ],
   "source": [
    "100%14"
   ]
  },
  {
   "cell_type": "code",
   "execution_count": 29,
   "id": "555e1ecb",
   "metadata": {},
   "outputs": [
    {
     "data": {
      "text/plain": [
       "2"
      ]
     },
     "execution_count": 29,
     "metadata": {},
     "output_type": "execute_result"
    }
   ],
   "source": [
    "100%14 - 1"
   ]
  },
  {
   "cell_type": "code",
   "execution_count": 37,
   "id": "82a67aaf",
   "metadata": {},
   "outputs": [
    {
     "name": "stdout",
     "output_type": "stream",
     "text": [
      "1 (0, 1, 1, 0, 0, 0, 0, 0)\n",
      "2 (0, 0, 0, 0, 1, 1, 1, 0)\n",
      "3 (0, 1, 1, 0, 0, 1, 0, 0)\n",
      "4 (0, 0, 0, 0, 0, 1, 0, 0)\n",
      "5 (0, 1, 1, 1, 0, 1, 0, 0)\n",
      "6 (0, 0, 1, 0, 1, 1, 0, 0)\n",
      "7 (0, 0, 1, 1, 0, 0, 0, 0)\n",
      "8 (0, 0, 0, 0, 0, 1, 1, 0)\n",
      "9 (0, 1, 1, 1, 0, 0, 0, 0)\n",
      "10 (0, 0, 1, 0, 0, 1, 1, 0)\n",
      "11 (0, 0, 1, 0, 0, 0, 0, 0)\n",
      "12 (0, 0, 1, 0, 1, 1, 1, 0)\n",
      "13 (0, 0, 1, 1, 0, 1, 0, 0)\n",
      "14 (0, 0, 0, 0, 1, 1, 0, 0)\n",
      "2\n"
     ]
    },
    {
     "data": {
      "text/plain": [
       "(0, 0, 0, 0, 1, 1, 1, 0)"
      ]
     },
     "execution_count": 37,
     "metadata": {},
     "output_type": "execute_result"
    }
   ],
   "source": [
    "def prisonAfterNDays(cells, n: int):\n",
    "    \n",
    "        m = {}\n",
    "        for j in range(14): # O(1)\n",
    "            new=[0]*len(cells)\n",
    "            for i in range(1,len(cells)-1): # O(1)\n",
    "                if cells[i-1]==cells[i+1]:\n",
    "                    new[i]=1\n",
    "            cells=new\n",
    "            \n",
    "            c = tuple(cells)\n",
    "            m[j+1] = c # O(1)\n",
    "            \n",
    "        # O(1)\n",
    "            \n",
    "        n = (n)%14\n",
    "        if n == 0:\n",
    "            n = 14\n",
    "        \n",
    "        return m[n]\n",
    "\n",
    "cells = [0,1,0,1,1,0,0,1]\n",
    "n = 100\n",
    "prisonAfterNDays(cells, n)\n",
    "\n",
    "# TC = SC = O(1)"
   ]
  },
  {
   "cell_type": "code",
   "execution_count": null,
   "id": "658946b4",
   "metadata": {},
   "outputs": [],
   "source": [
    "class Solution {\n",
    "public:\n",
    "    vector<int> prisonAfterNDays(vector<int>& cells, int n) {\n",
    "    vector<int> resCells;\n",
    "    int size = cells.size();\n",
    "    int prev=0 , next = 0;\n",
    "    if(n > 14)\n",
    "    {    \n",
    "        n= n%14;\n",
    "        if (n == 0){\n",
    "            n=14;\n",
    "        }\n",
    "    }\n",
    "    for(int i = 0; i<n; i++)\n",
    "    {\n",
    "        resCells.clear();\n",
    "        resCells.push_back(0);\n",
    "        for(int j =1; j<cells.size()-1; j++)\n",
    "        {\n",
    "            prev = cells[j-1];\n",
    "            next = cells[j+1];\n",
    "            if(prev == next)\n",
    "            {\n",
    "                resCells.push_back(1);\n",
    "            }\n",
    "            else{\n",
    "                resCells.push_back(0);\n",
    "            }\n",
    "        }\n",
    "        resCells.push_back(0);\n",
    "        cells = resCells;\n",
    "      \n",
    "    }\n",
    "    return resCells;\n",
    "}\n",
    "};\n"
   ]
  },
  {
   "cell_type": "code",
   "execution_count": null,
   "id": "775d4e9e",
   "metadata": {},
   "outputs": [],
   "source": [
    "class Solution:\n",
    "    def prisonAfterNDays(self, cells: List[int], n: int) -> List[int]:\n",
    "        # It repeats after 14 changes\n",
    "        n=n%14\n",
    "        # print(n)\n",
    "        if n==0:n=14\n",
    "        for i in range(n):\n",
    "\n",
    "            r = cells[0]\n",
    "            # print(cells)\n",
    "            \n",
    "            for k in range(1,len(cells)-1):\n",
    "                p=cells[k]\n",
    "                if r==cells[k+1]:\n",
    "                    cells[k]=1\n",
    "                else:\n",
    "                    cells[k]=0\n",
    "                r=p\n",
    "            cells[0]=0\n",
    "            cells[-1]=0\n",
    "                    \n",
    "        return cells"
   ]
  },
  {
   "cell_type": "code",
   "execution_count": null,
   "id": "ab04152d",
   "metadata": {},
   "outputs": [],
   "source": [
    "class Solution {\n",
    "public:\n",
    "    vector<int> prisonAfterNDays(vector<int>& cells, int n) {\n",
    "        vector<int> resCells;\n",
    "        int size = cells.size();\n",
    "        int prev=0 , next = 0;\n",
    "        if(n > 14)\n",
    "        {    \n",
    "            n= n%14;\n",
    "            if (n == 0){\n",
    "                n=14;\n",
    "            }\n",
    "        }\n",
    "        for(int i = 0; i<n; i++)\n",
    "        {\n",
    "            resCells.clear();\n",
    "            resCells.push_back(0);\n",
    "            for(int j =1; j<cells.size()-1; j++)\n",
    "            {\n",
    "                prev = cells[j-1];\n",
    "                next = cells[j+1];\n",
    "                if(prev == next)\n",
    "                {\n",
    "                    resCells.push_back(1);\n",
    "                }\n",
    "                else{\n",
    "                    resCells.push_back(0);\n",
    "                }\n",
    "            }\n",
    "            resCells.push_back(0);\n",
    "            cells = resCells;\n",
    "\n",
    "        }\n",
    "        \n",
    "        return resCells;\n",
    "    }\n",
    "};\n"
   ]
  },
  {
   "cell_type": "code",
   "execution_count": 39,
   "id": "54a02b75",
   "metadata": {},
   "outputs": [
    {
     "name": "stdout",
     "output_type": "stream",
     "text": [
      "0b1100000\n"
     ]
    }
   ],
   "source": [
    "x = int('01011001', 2)\n",
    "x = (~((x >> 1) ^ (x << 1))) & 126\n",
    "print(bin(x))"
   ]
  }
 ],
 "metadata": {
  "kernelspec": {
   "display_name": "Python 3",
   "language": "python",
   "name": "python3"
  },
  "language_info": {
   "codemirror_mode": {
    "name": "ipython",
    "version": 3
   },
   "file_extension": ".py",
   "mimetype": "text/x-python",
   "name": "python",
   "nbconvert_exporter": "python",
   "pygments_lexer": "ipython3",
   "version": "3.8.8"
  }
 },
 "nbformat": 4,
 "nbformat_minor": 5
}
