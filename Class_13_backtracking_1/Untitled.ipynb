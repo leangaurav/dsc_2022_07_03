{
 "cells": [
  {
   "cell_type": "markdown",
   "id": "abe2bff6",
   "metadata": {},
   "source": [
    "# Backtracking"
   ]
  },
  {
   "cell_type": "code",
   "execution_count": null,
   "id": "b5676bc9",
   "metadata": {},
   "outputs": [],
   "source": []
  },
  {
   "cell_type": "markdown",
   "id": "83bcb483",
   "metadata": {},
   "source": [
    "Question 1:  \n",
    "https://leetcode.com/problems/permutations/\n"
   ]
  },
  {
   "cell_type": "code",
   "execution_count": null,
   "id": "4c8f1e8b",
   "metadata": {},
   "outputs": [],
   "source": [
    "TC: N!\n",
    "SC: N*N!\n",
    "\n",
    "vector<vector<int>> permute(vector<int> nums) {\n",
    "    set<int> s = set<int>(nums.begin(), nums.end());;\n",
    "    return permuteUtil();\n",
    "}\n",
    "\n",
    "vector<vector<int>> permuteUtil(set<int> nums) {\n",
    "    \n",
    "    vector<vector<int>> res;\n",
    "    \n",
    "    if (nums.size() == 0) {\n",
    "        return vector<vector<int>> { vector<int>{} };\n",
    "    } \n",
    "    \n",
    "    for(auto value: nums) {\n",
    "        \n",
    "        subset = nums.copy();\n",
    "        subset.remove(value)\n",
    "        vector<vector<int>> results = permuteUtil(subset);\n",
    "        \n",
    "        // append current value to all results\n",
    "        for (auto r: results) {\n",
    "            r.insert(0,value);\n",
    "            res.push_back(r);\n",
    "        }\n",
    "    }\n",
    " \n",
    "    return res;\n",
    "}"
   ]
  },
  {
   "cell_type": "code",
   "execution_count": null,
   "id": "b5fb40cf",
   "metadata": {},
   "outputs": [],
   "source": [
    "class Solution:\n",
    "    def permute(self, nums: List[int]) -> List[List[int]]:\n",
    "\n",
    "        res = []\n",
    "        \n",
    "        if len(nums) == 0:\n",
    "            return []\n",
    "        if len(nums) == 1:\n",
    "            return [[nums[0]]]\n",
    "        \n",
    "        for i in range(len(nums)):\n",
    "            \n",
    "            v = nums[i]\n",
    "            \n",
    "            subset = nums[0:i] + nums[i + 1:]\n",
    "            temp = self.permute(subset)\n",
    "            \n",
    "            for r in temp:\n",
    "                r.insert(0, v)\n",
    "                res.append(r)\n",
    "                \n",
    "        return res"
   ]
  },
  {
   "cell_type": "markdown",
   "id": "d6ba7568",
   "metadata": {},
   "source": [
    "Question 2: \n",
    "https://leetcode.com/problems/generate-parentheses/"
   ]
  },
  {
   "cell_type": "code",
   "execution_count": null,
   "id": "46d944df",
   "metadata": {},
   "outputs": [],
   "source": [
    "def generateParenthesis(n): # List< strings >\n",
    "    result : List []\n",
    "    state: List []\n",
    "        \n",
    "    generateParenthesisUtil(result, state, n, n)\n",
    "    \n",
    "    return result\n",
    "    \n",
    "    \n",
    "def generateParenthesisUtil(result: list, state: list, open, close): # List< strings >\n",
    "    \n",
    "    if open == 0 && close == 0:\n",
    "        add to result (all brackets in state list)\n",
    "        \n",
    "    if not (open <= close):\n",
    "        return\n",
    "    \n",
    "    if open > 0:\n",
    "        add '(' to state \n",
    "        generateParenthesisUtil(list, state, open-1, close)\n",
    "        remove '(' from state\n",
    "    \n",
    "    if close > 0:\n",
    "        add ')' to state \n",
    "        generateParenthesisUtil(list, state, open, close-1)\n",
    "        remove ')' from state\n",
    "        \n",
    "        \n",
    "    "
   ]
  },
  {
   "cell_type": "code",
   "execution_count": null,
   "id": "17fc9701",
   "metadata": {},
   "outputs": [],
   "source": [
    "class Solution {\n",
    "    public List<String> generateParenthesis(int n) {\n",
    "        List<String> results = new ArrayList<String>();\n",
    "        StringBuilder sb = new StringBuilder();\n",
    "        generateParenthesisUtil(results,sb,n,n);\n",
    "        \n",
    "        return results;\n",
    "    }\n",
    "    \n",
    "    public void generateParenthesisUtil(List<String> res, StringBuilder sb, int open, int close) {\n",
    "        \n",
    "        if(open == 0 && close == 0){\n",
    "            res.add(sb.toString());\n",
    "        }\n",
    "        if(open>close) return ;\n",
    "        \n",
    "        if(open>0){\n",
    "            sb.append(\"(\");\n",
    "            generateParenthesisUtil(res,sb,open-1,close);\n",
    "            sb.deleteCharAt(sb.length()-1);\n",
    "        }\n",
    "        if(close>0){\n",
    "            sb.append(\")\");\n",
    "            generateParenthesisUtil(res,sb,open,close-1);\n",
    "            sb.deleteCharAt(sb.length()-1);\n",
    "        }\n",
    "    } \n",
    "}\n"
   ]
  },
  {
   "cell_type": "code",
   "execution_count": 4,
   "id": "be700539",
   "metadata": {},
   "outputs": [
    {
     "name": "stdout",
     "output_type": "stream",
     "text": [
      "['((()))', '(()())', '(())()', '()(())', '()()()']\n",
      "['(())', '()()']\n",
      "['()']\n"
     ]
    }
   ],
   "source": [
    "def generateParenthesis(n): # List< strings >\n",
    "    result= []\n",
    "    state= []\n",
    "        \n",
    "    generateParenthesisUtil(result, state, n, n)\n",
    "    \n",
    "    return result\n",
    "\n",
    "\n",
    "def generateParenthesisUtil(result, state, open, close): # List< strings >\n",
    "    \n",
    "    if open == 0 and close == 0:\n",
    "        result.append(''.join(state))\n",
    "\n",
    "    if open > close:\n",
    "        return\n",
    "    \n",
    "    if open > 0:\n",
    "        state.append('(') \n",
    "        generateParenthesisUtil(result, state, open-1, close)\n",
    "        state.pop()\n",
    "        \n",
    "    \n",
    "    if close > 0:\n",
    "        state.append(')')\n",
    "        generateParenthesisUtil(result, state, open, close-1)\n",
    "        state.pop()\n",
    "\n",
    "        \n",
    "print(generateParenthesis(3))\n",
    "print(generateParenthesis(2))\n",
    "print(generateParenthesis(1))"
   ]
  },
  {
   "cell_type": "code",
   "execution_count": null,
   "id": "b1403c0d",
   "metadata": {},
   "outputs": [],
   "source": [
    "\n",
    "fact(n):\n",
    "    if n == 1:\n",
    "        return n\n",
    "    \n",
    "    \n",
    "    return fact(n-1)*n"
   ]
  },
  {
   "cell_type": "markdown",
   "id": "2df00aba",
   "metadata": {},
   "source": [
    "**Question 3**   \n",
    "https://leetcode.com/problems/combination-sum/\n"
   ]
  },
  {
   "cell_type": "code",
   "execution_count": null,
   "id": "a8b72f90",
   "metadata": {},
   "outputs": [],
   "source": []
  },
  {
   "cell_type": "code",
   "execution_count": null,
   "id": "af9d2bf9",
   "metadata": {},
   "outputs": [],
   "source": []
  },
  {
   "cell_type": "markdown",
   "id": "9b4d165e",
   "metadata": {},
   "source": [
    "**Question 4**  \n",
    "https://leetcode.com/problems/n-queens/\n",
    "\n"
   ]
  },
  {
   "cell_type": "code",
   "execution_count": null,
   "id": "7416a655",
   "metadata": {},
   "outputs": [],
   "source": []
  },
  {
   "cell_type": "code",
   "execution_count": null,
   "id": "b1f4a6b2",
   "metadata": {},
   "outputs": [],
   "source": []
  }
 ],
 "metadata": {
  "kernelspec": {
   "display_name": "Python 3",
   "language": "python",
   "name": "python3"
  },
  "language_info": {
   "codemirror_mode": {
    "name": "ipython",
    "version": 3
   },
   "file_extension": ".py",
   "mimetype": "text/x-python",
   "name": "python",
   "nbconvert_exporter": "python",
   "pygments_lexer": "ipython3",
   "version": "3.8.8"
  }
 },
 "nbformat": 4,
 "nbformat_minor": 5
}
