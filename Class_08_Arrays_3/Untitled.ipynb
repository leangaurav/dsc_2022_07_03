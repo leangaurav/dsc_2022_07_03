{
 "cells": [
  {
   "cell_type": "markdown",
   "id": "1fb8f507",
   "metadata": {},
   "source": [
    "- P1 Assignment\n",
    "- P2 Assignment\n",
    "\n",
    "https://leetcode.com/problems/merge-sorted-array/\n"
   ]
  },
  {
   "cell_type": "markdown",
   "id": "5c6686a0",
   "metadata": {},
   "source": [
    "Problem-2  \n",
    "https://leetcode.com/problems/kids-with-the-greatest-number-of-candies/\n",
    "    \n"
   ]
  },
  {
   "cell_type": "code",
   "execution_count": null,
   "id": "e1462383",
   "metadata": {},
   "outputs": [],
   "source": [
    "class Solution:\n",
    "    def kidsWithCandies(self, candies: List[int], extraCandies: int) -> List[bool]:\n",
    "        maxcandy = max(candies)\n",
    "        return list(map(lambda x :  x + extraCandies >= maxcandy, candies))\n"
   ]
  },
  {
   "cell_type": "code",
   "execution_count": null,
   "id": "346bbcb1",
   "metadata": {},
   "outputs": [],
   "source": []
  },
  {
   "cell_type": "markdown",
   "id": "bdea0368",
   "metadata": {},
   "source": [
    "Problem -3  \n",
    "https://leetcode.com/problems/build-array-from-permutation/"
   ]
  },
  {
   "cell_type": "code",
   "execution_count": null,
   "id": "eabddea9",
   "metadata": {},
   "outputs": [],
   "source": [
    "class Solution {\n",
    "public:\n",
    "    vector<int> buildArray(vector<int>& nums) {\n",
    "        // 5,0,1,2,3,4\n",
    "        int M = nums.size();\n",
    "        \n",
    "        // Generate // O(N)\n",
    "        for (int i = 0; i < M; i ++) {\n",
    "            int v1 = nums[i];\n",
    "            int v2 = nums[v1] % M;\n",
    "            nums[i] = v2*M + v1;\n",
    "        }\n",
    "\n",
    "        // Update // O(N)\n",
    "        for (int i = 0; i < M; i ++) {\n",
    "            nums[i] = nums[i]/M; // O(1)\n",
    "        }\n",
    "        \n",
    "        return nums;\n",
    "    }\n",
    "};"
   ]
  },
  {
   "cell_type": "code",
   "execution_count": null,
   "id": "7683d65a",
   "metadata": {},
   "outputs": [],
   "source": []
  },
  {
   "cell_type": "markdown",
   "id": "e811ef44",
   "metadata": {},
   "source": [
    "https://leetcode.com/problems/decompress-run-length-encoded-list/"
   ]
  },
  {
   "cell_type": "code",
   "execution_count": null,
   "id": "04138941",
   "metadata": {},
   "outputs": [],
   "source": [
    "# Python\n",
    "class Solution:\n",
    "    def decompressRLElist(self, nums: List[int]) -> List[int]:\n",
    "        res = []\n",
    "        for i in range(0,len(nums),2):\n",
    "            res+=(nums[i]*[  nums[i+1]  ])\n",
    "\n",
    "        return res\n",
    "\n",
    "// Javascript        \n",
    "let res = [];\n",
    "for(let i = 0 ; i < nums.length; i++) {\n",
    "    const [freq, val ] = [nums[2 * i] , nums[2 * i + 1]];\n",
    "    for(let i = 0 ; i < freq; i++) {\n",
    "        res.push(val);\n",
    "    }\n",
    "}\n",
    "return res;"
   ]
  },
  {
   "cell_type": "code",
   "execution_count": null,
   "id": "5bf82720",
   "metadata": {},
   "outputs": [],
   "source": []
  },
  {
   "cell_type": "markdown",
   "id": "293078ac",
   "metadata": {},
   "source": [
    "Problem - 5  \n",
    "https://leetcode.com/problems/rotate-array/"
   ]
  },
  {
   "cell_type": "code",
   "execution_count": null,
   "id": "26c8fece",
   "metadata": {},
   "outputs": [],
   "source": []
  },
  {
   "cell_type": "code",
   "execution_count": null,
   "id": "6c3e269b",
   "metadata": {},
   "outputs": [],
   "source": []
  },
  {
   "cell_type": "code",
   "execution_count": null,
   "id": "091b051e",
   "metadata": {},
   "outputs": [],
   "source": []
  },
  {
   "cell_type": "code",
   "execution_count": null,
   "id": "f6cab6d5",
   "metadata": {},
   "outputs": [],
   "source": [
    "arr\n",
    "arr.insert(0, arr.pop() )"
   ]
  },
  {
   "cell_type": "code",
   "execution_count": null,
   "id": "855393ab",
   "metadata": {},
   "outputs": [],
   "source": []
  },
  {
   "cell_type": "code",
   "execution_count": null,
   "id": "845d8499",
   "metadata": {},
   "outputs": [],
   "source": [
    "# sum3 closest one to target\n",
    "https://leetcode.com/problems/3sum-closest/\n"
   ]
  },
  {
   "cell_type": "code",
   "execution_count": 2,
   "id": "809b8b8a",
   "metadata": {},
   "outputs": [
    {
     "ename": "SyntaxError",
     "evalue": "invalid syntax (Temp/ipykernel_28816/1829844820.py, line 6)",
     "output_type": "error",
     "traceback": [
      "\u001b[1;36m  File \u001b[1;32m\"C:\\Users\\LEANGA~1\\AppData\\Local\\Temp/ipykernel_28816/1829844820.py\"\u001b[1;36m, line \u001b[1;32m6\u001b[0m\n\u001b[1;33m    // sort\u001b[0m\n\u001b[1;37m    ^\u001b[0m\n\u001b[1;31mSyntaxError\u001b[0m\u001b[1;31m:\u001b[0m invalid syntax\n"
     ]
    }
   ],
   "source": [
    "O(N^3)\n",
    "\n",
    "class Solution {\n",
    "    public int threeSumClosest(int[] nums, int target) {\n",
    "        \n",
    "         ArrayList<Integer> arrayList= new ArrayList<>();\n",
    "         ArrayList<Integer> l=new ArrayList<Integer>();\n",
    "         int temp=0;\n",
    "\n",
    "         int closestSum = nums[0] + nums[1] + nums[2];\n",
    "\n",
    "         for(int i=0;i<nums.length;i++) {\n",
    "\n",
    "                    for(int j=i+1;j<nums.length;j++) {\n",
    "                        for(int k=j + 1; k<nums.length;k++) {        \n",
    "                            int sum=nums[i]+nums[j]+nums[k];\n",
    "                            if ( Math.abs(target - closestSum) >  Math.abs(target - sum) ) {\n",
    "                                closestSum = sum;                                            \n",
    "                            }\n",
    "                    }\n",
    "                } \n",
    "         }\n",
    "        return closestSum;                \n",
    "    }\n",
    "}\n",
    "\n",
    "\n",
    "O(N^2)\n",
    "\n",
    "// sort the array\n",
    "// n (log n)\n",
    "\n",
    "for (i = 0; i < n; i ++) {\n",
    "    j = i + 1\n",
    "    k = n - 1\n",
    "    while(j < k) {\n",
    "        sum = nums[i] + nums[j] + nums[k];\n",
    "        \n",
    "        if (check if sum is closer) {\n",
    "            update closest sum\n",
    "        }\n",
    "        \n",
    "        if (sum > target) {\n",
    "            k--;\n",
    "        } else {\n",
    "            j ++;\n",
    "        }\n",
    "    }    \n",
    "}\n"
   ]
  }
 ],
 "metadata": {
  "kernelspec": {
   "display_name": "Python 3",
   "language": "python",
   "name": "python3"
  },
  "language_info": {
   "codemirror_mode": {
    "name": "ipython",
    "version": 3
   },
   "file_extension": ".py",
   "mimetype": "text/x-python",
   "name": "python",
   "nbconvert_exporter": "python",
   "pygments_lexer": "ipython3",
   "version": "3.8.8"
  }
 },
 "nbformat": 4,
 "nbformat_minor": 5
}
