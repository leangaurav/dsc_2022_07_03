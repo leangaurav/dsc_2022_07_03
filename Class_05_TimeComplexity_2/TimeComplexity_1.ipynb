{
 "cells": [
  {
   "cell_type": "markdown",
   "id": "8c63a17d",
   "metadata": {},
   "source": [
    "# Time Complexity-2"
   ]
  },
  {
   "cell_type": "code",
   "execution_count": null,
   "id": "648bda30",
   "metadata": {},
   "outputs": [],
   "source": []
  },
  {
   "cell_type": "code",
   "execution_count": null,
   "id": "e5774a4b",
   "metadata": {},
   "outputs": [],
   "source": []
  },
  {
   "cell_type": "markdown",
   "id": "88c99d77",
   "metadata": {},
   "source": [
    "Finding any duplicate in an array\n",
    "- Simple approach\n",
    "- **Approach with a constraint that number of elements is limited to range 1-100**"
   ]
  },
  {
   "cell_type": "code",
   "execution_count": null,
   "id": "7e49cb15",
   "metadata": {},
   "outputs": [],
   "source": [
    "bool checkDuplicate(int array[], int size) {\n",
    "    \n",
    "    for (i = 0; i < size ; i ++) {\n",
    "        value = array[i];\n",
    "        \n",
    "        for (j = i + 1; j < size; j++) {\n",
    "                if (value == array[j]) {\n",
    "                    return true;\n",
    "                }\n",
    "        }\n",
    "    }\n",
    "    \n",
    "    return false;\n",
    "}\n",
    "\n",
    "// TC: O(n^2)\n",
    "// SC: O(1)"
   ]
  },
  {
   "cell_type": "code",
   "execution_count": null,
   "id": "86835879",
   "metadata": {},
   "outputs": [],
   "source": [
    "// range on input array is  [1-100]\n",
    "bool checkDuplicate(int array[], int size) {\n",
    "    \n",
    "    int indexArray[100];\n",
    "    \n",
    "    // O(100) => O(1)\n",
    "    for( i = 0; i < 100; i ++) {\n",
    "        indexArray[i] = 0;\n",
    "    }\n",
    "    \n",
    "    \n",
    "    // O(N)\n",
    "    for (i = 0; i < size ; i ++) {\n",
    "        index = array[i] - 1;\n",
    "        \n",
    "        if (indexArray[index] == 1) {\n",
    "            return true;\n",
    "        }\n",
    "        \n",
    "        indexArray[index] = 1;\n",
    "        \n",
    "    }\n",
    "    \n",
    "    return false;\n",
    "}\n",
    "\n",
    "// TC: O(1) + O(N) = O(N)\n",
    "// SC: O(100) => O(1)"
   ]
  },
  {
   "cell_type": "code",
   "execution_count": null,
   "id": "30a12d18",
   "metadata": {},
   "outputs": [],
   "source": []
  },
  {
   "cell_type": "code",
   "execution_count": null,
   "id": "4751d9fe",
   "metadata": {},
   "outputs": [],
   "source": [
    "// Range is (-10 to + 20)\n",
    "// R = 20 - (-10) + 1 = 31\n",
    "// L = -10\n",
    "\n",
    "# [1,5,-5,-10,20]\n",
    "# 1-(-10) => 11\n",
    "# 5-(-10) => 15\n",
    "\n",
    "# -5-(-10) => 5\n",
    "# -10-(-10) => 0\n",
    "\n",
    "bool checkDuplicate(int array[], int n, int min, int max) {\n",
    "    \n",
    "    int range = max - min + 1;\n",
    "    int indexArray[range];\n",
    "    \n",
    "    // O(100) => O(1)\n",
    "    for( i = 0; i < range; i ++) {\n",
    "        indexArray[i] = 0;\n",
    "    }\n",
    "    \n",
    "    \n",
    "    // O(N)\n",
    "    for (i = 0; i < n; i ++) {\n",
    "        index = array[i] - min; // O(1)\n",
    "        \n",
    "        if (indexArray[index] == 1) { // O(1)\n",
    "            return true;  // O(1)\n",
    "        }\n",
    "        \n",
    "        indexArray[index] = 1; // O(1)\n",
    "        \n",
    "    }\n",
    "    \n",
    "    return false;\n",
    "}\n",
    "\n",
    "// O(1) + O(1) + O(1) + O(1) => O(1)\n",
    "// O(1) * O(n) => O(n)\n"
   ]
  },
  {
   "cell_type": "code",
   "execution_count": null,
   "id": "52202824",
   "metadata": {},
   "outputs": [],
   "source": []
  },
  {
   "cell_type": "markdown",
   "id": "68a4d659",
   "metadata": {},
   "source": [
    "**What is a data structure** \n",
    "\n",
    "Data structure defines the way data is organized in the system/program memory.  \n",
    "DS provides interfaces for insertion, deletion and updation of data.  \n",
    "DS defines the way data is going to be arranged in memory and hence it also defines how the above operations are going to be implemented.  \n",
    "Example: Array, Stack, Queue, Tree, Graph, Hashmap etc.  \n",
    "\n"
   ]
  },
  {
   "cell_type": "code",
   "execution_count": null,
   "id": "a85ae86b",
   "metadata": {},
   "outputs": [],
   "source": []
  }
 ],
 "metadata": {
  "kernelspec": {
   "display_name": "Python 3",
   "language": "python",
   "name": "python3"
  },
  "language_info": {
   "codemirror_mode": {
    "name": "ipython",
    "version": 3
   },
   "file_extension": ".py",
   "mimetype": "text/x-python",
   "name": "python",
   "nbconvert_exporter": "python",
   "pygments_lexer": "ipython3",
   "version": "3.8.8"
  }
 },
 "nbformat": 4,
 "nbformat_minor": 5
}
