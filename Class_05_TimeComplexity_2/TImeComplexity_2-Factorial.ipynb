{
 "cells": [
  {
   "cell_type": "code",
   "execution_count": null,
   "id": "9c324fe3",
   "metadata": {},
   "outputs": [],
   "source": [
    "# Calculating Factorial"
   ]
  },
  {
   "cell_type": "code",
   "execution_count": null,
   "id": "b8c2be2a",
   "metadata": {},
   "outputs": [],
   "source": [
    "int fact(int n) {\n",
    "    \n",
    "    if (n < 0) {\n",
    "        throw 1;\n",
    "    }\n",
    "    \n",
    "    int res = 1;\n",
    "    \n",
    "    for (int i = 1; i <= n; i++){\n",
    "        res = res * i;\n",
    "    }\n",
    "    \n",
    "    return res;\n",
    "}\n",
    "\n",
    "// TC: O(n)\n",
    "// SC: O(1)"
   ]
  },
  {
   "cell_type": "code",
   "execution_count": 1,
   "id": "58b8f712",
   "metadata": {},
   "outputs": [
    {
     "name": "stdout",
     "output_type": "stream",
     "text": [
      "120\n"
     ]
    }
   ],
   "source": [
    "def fact(n):\n",
    "    res = 1\n",
    "    for i in range(1, n+1):\n",
    "        res = res * i\n",
    "        \n",
    "    return res\n",
    "\n",
    "print(fact(5))"
   ]
  },
  {
   "cell_type": "code",
   "execution_count": null,
   "id": "bda788ca",
   "metadata": {},
   "outputs": [],
   "source": []
  },
  {
   "cell_type": "markdown",
   "id": "e2b28036",
   "metadata": {},
   "source": [
    "**WAP to generage all factorial values stored in an arry till given range**  \n",
    "5 => [1, 1, 2, 6, 24, 120]"
   ]
  },
  {
   "cell_type": "code",
   "execution_count": null,
   "id": "e8c7606e",
   "metadata": {},
   "outputs": [],
   "source": [
    "int fact(int n) {\n",
    "    \n",
    "    if (n < 0) {\n",
    "        throw 1;\n",
    "    }\n",
    "    \n",
    "    int res = 1;\n",
    "    \n",
    "    for (int i = 1; i <= n; i++){\n",
    "        res = res * i;\n",
    "    }\n",
    "    \n",
    "    return res;\n",
    "}\n",
    "\n",
    "int[] factList(int n) {\n",
    "    int res[n+1];\n",
    "    \n",
    "    for (i=0; i <=n; i++) {\n",
    "        res[i] = fact(i);\n",
    "    }\n",
    "    \n",
    "    return res;\n",
    "}\n",
    "\n",
    "// TC: O(n^2)\n",
    "// SC: O(n)"
   ]
  },
  {
   "cell_type": "code",
   "execution_count": null,
   "id": "9a0c5e15",
   "metadata": {},
   "outputs": [],
   "source": [
    "int[] factList1(int n) {\n",
    "    int res[n+1];\n",
    "    \n",
    "    for (i=0; i <=n; i++) {\n",
    "        int f = 1;\n",
    "    \n",
    "        for (int j = 1; j <= n; j++){\n",
    "            f = f * j;\n",
    "        }\n",
    "        \n",
    "        res[i] = f;\n",
    "    }\n",
    "    \n",
    "    return res;\n",
    "}\n",
    "\n",
    "// TC: O(n^2)\n",
    "\n",
    "\n",
    "int[] factList2(int n) {\n",
    "    int res[n+1];\n",
    "    \n",
    "    int f = 1;\n",
    "    for (i=0; i <=n; i++) {\n",
    "        if (i != 0)\n",
    "            f = f * i;\n",
    "        \n",
    "        res[i] = f;\n",
    "    }\n",
    "    \n",
    "    return res;\n",
    "}\n",
    "\n",
    "// TC: O(n)"
   ]
  },
  {
   "cell_type": "code",
   "execution_count": null,
   "id": "588c7ab1",
   "metadata": {},
   "outputs": [],
   "source": [
    "for i = 0; i < n ; i ++\n",
    "    for j = i; j < n; j++\n",
    "        // some op\n",
    "        \n",
    "1 + 2 + 3 + 4... n\n",
    "=> O(n^2)"
   ]
  },
  {
   "cell_type": "code",
   "execution_count": null,
   "id": "d00dd708",
   "metadata": {},
   "outputs": [],
   "source": [
    "func1():\n",
    "    for j = i; j < n; j++\n",
    "        // some op\n",
    "        \n",
    "func2():\n",
    "    for i = 0; i < n ; i ++\n",
    "        func1()  \n",
    "\n",
    "func2();\n",
    "O(n^2)"
   ]
  },
  {
   "cell_type": "code",
   "execution_count": null,
   "id": "d7f473be",
   "metadata": {},
   "outputs": [],
   "source": []
  },
  {
   "cell_type": "code",
   "execution_count": null,
   "id": "e9a5d007",
   "metadata": {},
   "outputs": [],
   "source": [
    "int something(int n) {\n",
    "    count = 0\n",
    "    while(n > 0) {\n",
    "        n = n-1;\n",
    "        count = count + 1;\n",
    "    }\n",
    "    \n",
    "    return count;\n",
    "}\n",
    "\n",
    "O(n)"
   ]
  },
  {
   "cell_type": "code",
   "execution_count": null,
   "id": "91f86690",
   "metadata": {},
   "outputs": [],
   "source": [
    "int something(int n) {\n",
    "    count = 0\n",
    "    while(n > 0) {\n",
    "        n = n/2;\n",
    "        count = count + 1;\n",
    "    }\n",
    "    \n",
    "    return count;\n",
    "}\n",
    "\n",
    "// O(log n)\n",
    "n=8 : 8 4 2 1 0 -> 4\n",
    "n=16: 16 8 4 2 1 0 -> 5\n",
    "n=32: 32 16 8 4 2 1 0 -> 6\n",
    "n=64: 64 32 16 8 4 2 1 0 -> 7 -> 1 + log(n)"
   ]
  },
  {
   "cell_type": "code",
   "execution_count": 2,
   "id": "b0b939e8",
   "metadata": {},
   "outputs": [
    {
     "ename": "SyntaxError",
     "evalue": "invalid syntax (Temp/ipykernel_10960/187495515.py, line 1)",
     "output_type": "error",
     "traceback": [
      "\u001b[1;36m  File \u001b[1;32m\"C:\\Users\\LEANGA~1\\AppData\\Local\\Temp/ipykernel_10960/187495515.py\"\u001b[1;36m, line \u001b[1;32m1\u001b[0m\n\u001b[1;33m    // Loop-1\u001b[0m\n\u001b[1;37m    ^\u001b[0m\n\u001b[1;31mSyntaxError\u001b[0m\u001b[1;31m:\u001b[0m invalid syntax\n"
     ]
    }
   ],
   "source": [
    "\n",
    "// Loop-1\n",
    "for (i=1; i < n ; i*=2){\n",
    "    \n",
    "}\n",
    "\n",
    "\n",
    "// Loop-2\n",
    "for (i=n; i > 0 ; i/=2){\n",
    "    \n",
    "}\n",
    "// O(log n)"
   ]
  },
  {
   "cell_type": "code",
   "execution_count": null,
   "id": "18e36508",
   "metadata": {},
   "outputs": [],
   "source": [
    "for i =0; i < 2**n; i++\n",
    "\n",
    "O(2^n)"
   ]
  },
  {
   "cell_type": "code",
   "execution_count": null,
   "id": "76571f9b",
   "metadata": {},
   "outputs": [],
   "source": []
  },
  {
   "cell_type": "code",
   "execution_count": null,
   "id": "e3686232",
   "metadata": {},
   "outputs": [],
   "source": [
    "void moveZerosRight(std::vector<int> array) {\n",
    "    int nonZeroPos = 0;\n",
    "    \n",
    "    int countZeros = 0;\n",
    "    for(int i =0; i < array.size(); i++) {\n",
    "        if (array[i] != 0) {\n",
    "            array[nonZeroPos] = array[i];\n",
    "            nonZeroPos++;\n",
    "        } else {\n",
    "            countZeros++;\n",
    "        }\n",
    "    }\n",
    "    \n",
    "    while(nonZeroPos < array.size()) {\n",
    "        array[nonZeroPos] = 0;\n",
    "        nonZeroPos++;\n",
    "    }\n",
    "}"
   ]
  },
  {
   "cell_type": "code",
   "execution_count": null,
   "id": "973d44cb",
   "metadata": {},
   "outputs": [],
   "source": []
  },
  {
   "cell_type": "code",
   "execution_count": null,
   "id": "09d16ddd",
   "metadata": {},
   "outputs": [],
   "source": [
    "# Replace every element with the largest element on it's right"
   ]
  }
 ],
 "metadata": {
  "kernelspec": {
   "display_name": "Python 3",
   "language": "python",
   "name": "python3"
  },
  "language_info": {
   "codemirror_mode": {
    "name": "ipython",
    "version": 3
   },
   "file_extension": ".py",
   "mimetype": "text/x-python",
   "name": "python",
   "nbconvert_exporter": "python",
   "pygments_lexer": "ipython3",
   "version": "3.8.8"
  }
 },
 "nbformat": 4,
 "nbformat_minor": 5
}
