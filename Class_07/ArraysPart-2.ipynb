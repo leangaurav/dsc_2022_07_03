{
 "cells": [
  {
   "cell_type": "markdown",
   "id": "22f804b9",
   "metadata": {},
   "source": [
    "# Arrays - 2"
   ]
  },
  {
   "cell_type": "code",
   "execution_count": null,
   "id": "15c53586",
   "metadata": {},
   "outputs": [],
   "source": []
  },
  {
   "cell_type": "markdown",
   "id": "7a781a0d",
   "metadata": {},
   "source": [
    "**1: Best time to buy and sell stocks**\n",
    "\n",
    "Variations in assignment"
   ]
  },
  {
   "cell_type": "code",
   "execution_count": null,
   "id": "3fae66fb",
   "metadata": {},
   "outputs": [],
   "source": [
    "Variation-1\n",
    "\n",
    "public int MaxProfit(int[] prices) {        \n",
    "    int min = Int32.MaxValue;\n",
    "    int maxSoFar = 0;\n",
    "    for(int i =1 ;i <prices.Length;i++)\n",
    "    {\n",
    "        int diff = prices[i] - prices[i-1];\n",
    "        if(diff >0 )\n",
    "        {\n",
    "            min = Math.Min(prices[i-1],min);\n",
    "            maxSoFar = Math.Max(prices[i] -min,maxSoFar);\n",
    "        }\n",
    "    }\n",
    "    return maxSoFar;\n",
    "}\n",
    "\n",
    "int maxProfit(vector<int> prices) {\n",
    "    int profit = 0;\n",
    "    \n",
    "    if(prices.size() == 0) {\n",
    "        return profit;\n",
    "    }\n",
    "    \n",
    "    int minBuyPrice = prices[0];\n",
    "    \n",
    "    for (int i=1; i < prices.size(); i++) {\n",
    "        if (minBuyPrice < prices[i]) {\n",
    "            int diff = prices[i] - minBuyPrice;\n",
    "            if (diff > profit)\n",
    "                profit = diff;\n",
    "        } else {\n",
    "            minBuyPrice = prices[i];\n",
    "        }\n",
    "    }\n",
    "    \n",
    "    return profit;\n",
    "}\n",
    "\n",
    "\n"
   ]
  },
  {
   "cell_type": "code",
   "execution_count": null,
   "id": "1fa8e453",
   "metadata": {},
   "outputs": [],
   "source": []
  },
  {
   "cell_type": "markdown",
   "id": "3224a9af",
   "metadata": {},
   "source": [
    "**2: Given an array of integers, update every element with the multiplication of previous and next elements with the following exceptions.**   \n",
    "a) the First element is replaced by multiplication of the first and second.   \n",
    "b) the Last element is replaced by multiplication of last and second last.   "
   ]
  },
  {
   "cell_type": "code",
   "execution_count": null,
   "id": "54394cc9",
   "metadata": {},
   "outputs": [],
   "source": [
    "UpdateArray(int []arr, int n)\n",
    "    {        \n",
    "        if (n <= 1)\n",
    "            return;\n",
    "\n",
    "        int prev = arr[0];\n",
    "        \n",
    "        arr[0] = arr[0] * arr[1];\n",
    "       \n",
    "        for (int i=1; i<n-1; i++)\n",
    "        {\n",
    "            int curr = arr[i];            \n",
    "            arr[i] = prev * arr[i+1];           \n",
    "            prev = curr;\n",
    "        }      \n",
    "        arr[n-1] = p * arr[n-1];\n",
    "    }\n",
    "\n",
    "// TC: O(N)\n",
    "// SC: O(1)"
   ]
  },
  {
   "cell_type": "code",
   "execution_count": 1,
   "id": "0dbed0b3",
   "metadata": {},
   "outputs": [
    {
     "name": "stdout",
     "output_type": "stream",
     "text": [
      "[2, 3, 4, 12, 2, 4]\n"
     ]
    }
   ],
   "source": [
    "def update(arr):\n",
    "    n = len(arr)\n",
    "    \n",
    "    if n <= 1:\n",
    "        return\n",
    "    \n",
    "    prev = arr[0]\n",
    "    \n",
    "    arr[0] *= arr[1]\n",
    "    \n",
    "    for i in range(1,n-1):\n",
    "        curr = arr[i]\n",
    "        arr[i] = prev * arr[i+1]\n",
    "        prev = curr\n",
    "    \n",
    "    arr[n-1] *= prev\n",
    "    \n",
    "a = [1,2,3,2,4,1]\n",
    "update(a)\n",
    "print(a)"
   ]
  },
  {
   "cell_type": "code",
   "execution_count": null,
   "id": "2d29af26",
   "metadata": {},
   "outputs": [],
   "source": []
  },
  {
   "cell_type": "markdown",
   "id": "2a7a514e",
   "metadata": {},
   "source": [
    "**3: https://leetcode.com/problems/wiggle-sort**  \n",
    "\n",
    "Given a sorted array arr[] of distinct integers. Sort the array into a wave-like array(In Place).\n",
    "In other words, arrange the elements into a sequence such that arr[1] >= arr[2] <= arr[3] >= arr[4] <= arr[5].....\n",
    "\n",
    "If there are multiple solutions, find the lexicographically smallest one.\n",
    "\n",
    "Example 1:\n",
    "\n",
    "Input:\n",
    "n = 5\n",
    "arr[] = {1,2,3,4,5}\n",
    "Output: 2 1 4 3 5\n",
    "Explanation: Array elements after \n",
    "sorting it in wave form are \n",
    "2 1 4 3 5.\n"
   ]
  },
  {
   "cell_type": "code",
   "execution_count": null,
   "id": "5558688d",
   "metadata": {},
   "outputs": [],
   "source": [
    "# Solution-1: Sorting\n",
    "# TC: O( N log N)\n",
    "\n",
    "    \n",
    "# Solution-2:\n",
    "# TC: O(N)\n",
    "public static void WiggleSort(int[] arr) {\n",
    "    bool flag = true;\n",
    "    for (int i = 0; i < arr.Length - 1; i++)\n",
    "    {\n",
    "        if (flag)\n",
    "        {\n",
    "            if (arr[i] > arr[i + 1])\n",
    "            {\n",
    "                int temp = arr[i];\n",
    "                arr[i] = arr[i + 1];\n",
    "                arr[i + 1] = temp;\n",
    "            }\n",
    "        }\n",
    "        else\n",
    "        {\n",
    "            if (arr[i] < arr[i + 1])\n",
    "            {\n",
    "                int temp = arr[i];\n",
    "                arr[i] = arr[i + 1];\n",
    "                arr[i + 1] = temp;\n",
    "            }\n",
    "        }\n",
    "        flag = !flag;\n",
    "    }\n",
    "}\n"
   ]
  },
  {
   "cell_type": "code",
   "execution_count": null,
   "id": "b646a8a4",
   "metadata": {},
   "outputs": [],
   "source": [
    "for (int i = 0; i < myArray.length - 1; i++) {\n",
    "    if (i % 2 == 0) {\n",
    "        if (myArray[i] > myArray[i + 1]) {\n",
    "            int temp = myArray[i];\n",
    "            myArray[i] = myArray[i + 1];\n",
    "            myArray[i + 1] = temp;\n",
    "        }\n",
    "    } else {\n",
    "        if (myArray[i] < myArray[i + 1]) {\n",
    "            int temp = myArray[i];\n",
    "            myArray[i] = myArray[i + 1];\n",
    "            myArray[i + 1] = temp;\n",
    "        }\n",
    "    }\n",
    "}"
   ]
  },
  {
   "cell_type": "code",
   "execution_count": null,
   "id": "fcdc4086",
   "metadata": {},
   "outputs": [],
   "source": []
  },
  {
   "cell_type": "code",
   "execution_count": null,
   "id": "8da59ce1",
   "metadata": {},
   "outputs": [],
   "source": []
  },
  {
   "cell_type": "markdown",
   "id": "14f60570",
   "metadata": {},
   "source": [
    "**4: https://leetcode.com/problems/trapping-rain-water/**"
   ]
  },
  {
   "cell_type": "code",
   "execution_count": null,
   "id": "8fcf8609",
   "metadata": {},
   "outputs": [],
   "source": [
    "# Solution -1\n",
    "# SC: O(N)\n",
    "# TC: O(N)\n",
    "public int trap(int[] height) {\n",
    "        int size = height.length;\n",
    "        int maxl[] = new int[size];\n",
    "        int maxR[] = new int[size];\n",
    "    \n",
    "        maxl[0] = height[0];\n",
    "        maxR[size-1] = height[size-1];\n",
    "        for(int i =1;i<size;i++){\n",
    "            maxl[i] = Math.max(maxl[i-1],height[i]);\n",
    "        }\n",
    "        for(int i =size-2;i>=0;i--){\n",
    "            maxR[i] = Math.max(maxR[i+1],height[i]);\n",
    "        }\n",
    "        int water[] = new int[size];\n",
    "        for(int i=0;i<size;i++){\n",
    "            water[i] = Math.min(maxR[i],maxl[i]) - height[i];\n",
    "        }\n",
    "        int sum = 0;\n",
    "        for(int i =0;i<size;i++){\n",
    "            sum = sum+water[i];\n",
    "        }\n",
    "        return sum;\n",
    "    }\n"
   ]
  },
  {
   "cell_type": "code",
   "execution_count": 2,
   "id": "1ca4d569",
   "metadata": {},
   "outputs": [],
   "source": [
    "# Solution-2\n",
    "# TC: O(N)\n",
    "# SC: O(1)\n",
    "\n",
    "\n",
    "# include <algorithm>\n",
    "\n",
    "class Solution {\n",
    "public:\n",
    "    int trap(vector<int>& height) {\n",
    "        \n",
    "        int water = 0;;\n",
    "        if (height.size() <= 1) {\n",
    "            return water;\n",
    "        }\n",
    "        \n",
    "        int mountains = 0;\n",
    "        int prevMaxPos = 0;\n",
    "        int distance = 0;\n",
    "        \n",
    "        for(int i = 1; i < height.size(); i++) {\n",
    "            if (height[i] >= height[prevMaxPos]) {\n",
    "                water = water + min(height[i], height[prevMaxPos]) * distance - mountains;\n",
    "                distance = 0;\n",
    "                mountains = 0;\n",
    "                prevMaxPos = i;\n",
    "            } else {\n",
    "                distance++;\n",
    "                mountains += height[i];\n",
    "            }  \n",
    "        }\n",
    "        \n",
    "        mountains = distance = 0;\n",
    "        int temp = prevMaxPos;\n",
    "        prevMaxPos = height.size()- 1;\n",
    "        for( int i = height.size() - 2; i >= temp; i--){\n",
    "            if (height[i] >= height[prevMaxPos]) {\n",
    "                water = water + min(height[i], height[prevMaxPos]) * distance - mountains;\n",
    "                distance = 0;\n",
    "                mountains = 0;\n",
    "                prevMaxPos = i;\n",
    "            } else {\n",
    "                distance++;\n",
    "                mountains += height[i];\n",
    "            }\n",
    "        }\n",
    "        \n",
    "        return water;\n",
    "    }\n",
    "};\n",
    "    \n"
   ]
  },
  {
   "cell_type": "markdown",
   "id": "777705f7",
   "metadata": {},
   "source": [
    "**5: https://leetcode.com/problems/intersection-of-two-arrays/**"
   ]
  },
  {
   "cell_type": "code",
   "execution_count": null,
   "id": "e4daaa40",
   "metadata": {},
   "outputs": [],
   "source": []
  },
  {
   "cell_type": "code",
   "execution_count": null,
   "id": "bd0c46ae",
   "metadata": {},
   "outputs": [],
   "source": []
  },
  {
   "cell_type": "code",
   "execution_count": null,
   "id": "c5dd7335",
   "metadata": {},
   "outputs": [],
   "source": []
  }
 ],
 "metadata": {
  "kernelspec": {
   "display_name": "Python 3",
   "language": "python",
   "name": "python3"
  },
  "language_info": {
   "codemirror_mode": {
    "name": "ipython",
    "version": 3
   },
   "file_extension": ".py",
   "mimetype": "text/x-python",
   "name": "python",
   "nbconvert_exporter": "python",
   "pygments_lexer": "ipython3",
   "version": "3.8.8"
  }
 },
 "nbformat": 4,
 "nbformat_minor": 5
}
