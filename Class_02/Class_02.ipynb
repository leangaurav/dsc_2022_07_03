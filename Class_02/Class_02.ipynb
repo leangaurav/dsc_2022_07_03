{
 "cells": [
  {
   "cell_type": "markdown",
   "id": "716c760a",
   "metadata": {},
   "source": [
    "# Warmup Part-1"
   ]
  },
  {
   "cell_type": "code",
   "execution_count": null,
   "id": "02eb4996",
   "metadata": {},
   "outputs": [],
   "source": [
    "https://pad.ouvaton.coop/dsc_tutort_2022_07_03"
   ]
  },
  {
   "cell_type": "markdown",
   "id": "f4984960",
   "metadata": {},
   "source": [
    "How to submit answers to leetcode"
   ]
  },
  {
   "cell_type": "code",
   "execution_count": null,
   "id": "5a1698df",
   "metadata": {},
   "outputs": [],
   "source": [
    "- always write solution in the form of functions\n",
    "- naming convention\n",
    "    - snake case: python\n",
    "    - camelCase in C++, JAVA, javascript and other similar OO languages\n",
    "    - golang\n"
   ]
  },
  {
   "cell_type": "markdown",
   "id": "5ef708bf",
   "metadata": {},
   "source": [
    "1. **Find max element is an array**"
   ]
  },
  {
   "cell_type": "code",
   "execution_count": null,
   "id": "3a25d887",
   "metadata": {},
   "outputs": [],
   "source": [
    "[10,2,3,4,60,60]\n",
    "60\n",
    "\n",
    "function : getMax(array) -> value\n",
    "    \n",
    "getMax([])\n",
    "getMax([])\n"
   ]
  },
  {
   "cell_type": "code",
   "execution_count": null,
   "id": "0554b7da",
   "metadata": {},
   "outputs": [],
   "source": [
    "\n",
    "def get_max(arr):\n",
    "    max = 0\n",
    "    for num in arr:\n",
    "        if max >= num:\n",
    "            max = num\n",
    "    return max\n"
   ]
  },
  {
   "cell_type": "code",
   "execution_count": null,
   "id": "f4be1853",
   "metadata": {},
   "outputs": [],
   "source": [
    "#include <iostream>\n",
    "#include<bits/stdc++.h>\n",
    "using namespace std;\n",
    "\n",
    "int getMax(vector<int> &arr){\n",
    "    int maxEle=INT_MIN;\n",
    "    for(int i=0;i<arr.size();i++){\n",
    "        maxEle=max(maxEle,arr[i]);\n",
    "    }\n",
    "    return maxEle;\n",
    "}\n",
    "\n",
    "int main() {\n",
    "    {\n",
    "        vector<int> arr{1,2,15,5};\n",
    "        int ans=getMax(arr);\n",
    "        cout<<ans;\n",
    "    }\n",
    "    {\n",
    "        vector<int> arr{1};\n",
    "        int ans=getMax(arr);\n",
    "        cout<<ans;\n",
    "    }\n",
    "    {\n",
    "        vector<int> arr{};\n",
    "        int ans=getMax(arr);\n",
    "        cout<<ans;\n",
    "    }\n",
    "    return 0;\n",
    "}"
   ]
  },
  {
   "cell_type": "code",
   "execution_count": null,
   "id": "48e4abb9",
   "metadata": {},
   "outputs": [],
   "source": []
  },
  {
   "cell_type": "code",
   "execution_count": null,
   "id": "0e0a5593",
   "metadata": {},
   "outputs": [],
   "source": []
  },
  {
   "cell_type": "markdown",
   "id": "6dfe64cc",
   "metadata": {},
   "source": [
    "2. **Find max element and min element in a single pass**"
   ]
  },
  {
   "cell_type": "markdown",
   "id": "36598268",
   "metadata": {},
   "source": [
    "function which returns both the values or it prints the values"
   ]
  },
  {
   "cell_type": "code",
   "execution_count": null,
   "id": "893851a8",
   "metadata": {},
   "outputs": [],
   "source": [
    "def find_extremes(arr):\n",
    "    if not len(arr):\n",
    "        return None, None\n",
    "    \n",
    "    max_n = min_n = arr[0]\n",
    "    for i in arr[1:]:\n",
    "        if i>max_n:\n",
    "            max_n=i\n",
    "        if i<min_n:\n",
    "            min_n=i\n",
    "    return max_n, min_n"
   ]
  },
  {
   "cell_type": "code",
   "execution_count": null,
   "id": "f1b1f290",
   "metadata": {},
   "outputs": [],
   "source": [
    "public void maxMin(int[]a)\n",
    "{\n",
    "if(a.length>0){\n",
    " Arrays.sort(a)\n",
    " System.out.println(\"Min\"+ a[0]);\n",
    " System.out.println(\"Max\"+ a[a.length])\n",
    "}\n",
    "else{System.out.print(\"Non valid array\");\n",
    "}"
   ]
  },
  {
   "cell_type": "code",
   "execution_count": null,
   "id": "85cae1de",
   "metadata": {},
   "outputs": [],
   "source": [
    "public static void maxminElement(int[] nums)\n",
    "{\n",
    "    int maxElement = int.MinValue;\n",
    "    int minElement = int.MaxValue;\n",
    "    for (int i = 0; i < nums.Length; i++)\n",
    "    {\n",
    "        if (nums[i] > maxElement)\n",
    "        {\n",
    "            maxElement = nums[i];\n",
    "        }\n",
    "\n",
    "        if(nums[i] < minElement)\n",
    "        {\n",
    "            minElement = nums[i];\n",
    "        }\n",
    "    }\n",
    "\n",
    "    Console.WriteLine(maxElement+\" \"+ minElement);\n",
    "}"
   ]
  },
  {
   "cell_type": "code",
   "execution_count": null,
   "id": "9bae84ff",
   "metadata": {},
   "outputs": [],
   "source": []
  },
  {
   "cell_type": "markdown",
   "id": "ca07d37b",
   "metadata": {},
   "source": [
    "3. **Find 2 max elements in a single pass**  \n",
    "\n",
    "Assume all elements are distinct.\n",
    "\n",
    "function -> gives me the two max elements\n",
    "return the 2 max elements\n",
    "\n",
    "return an array of 2 elements."
   ]
  },
  {
   "cell_type": "code",
   "execution_count": null,
   "id": "729c02f3",
   "metadata": {},
   "outputs": [],
   "source": [
    "private static void getMaxElement(int[] arr) {\n",
    "    if(arr.length == 0)\n",
    "        System.out.println(\"Array length is zero\");\n",
    "    int maxElement1 = 0;\n",
    "    int maxElement2 = 0;\n",
    "    for(int i =0;i<arr.length;i++)\n",
    "    {\n",
    "        if(arr[i]>maxElement1)\n",
    "            maxElement1 = arr[i];\n",
    "        if(arr[i]>maxElement2 && maxElement2<maxElement1)\n",
    "            maxElement2 = arr[i];\n",
    "    }\n",
    "    System.out.println(\"maxElement1 :\"+maxElement1+\" \"+\"maxElement2 :\"+maxElement2);\n",
    "}"
   ]
  },
  {
   "cell_type": "code",
   "execution_count": null,
   "id": "22cb6a02",
   "metadata": {},
   "outputs": [],
   "source": []
  },
  {
   "cell_type": "markdown",
   "id": "ad2186f9",
   "metadata": {},
   "source": [
    "4. **Reverse an array of chars**\n",
    "\n",
    "char a[10];\n",
    "\n",
    "\n",
    "- ASCII -> 1 byte : 256 chars only\n",
    "- UNICODE -> Variable length encoding: 1 byte to a max of 4 bytes\n",
    "    - bytes[100];"
   ]
  },
  {
   "cell_type": "code",
   "execution_count": null,
   "id": "120e3721",
   "metadata": {},
   "outputs": [],
   "source": [
    "void reverseV1(int arr[], int n){\n",
    "    int start = 0;\n",
    "    int end = n - 1;\n",
    "    \n",
    "    while (start < end) {\n",
    "        int temp = arr[start];\n",
    "        arr[start] = arr[end];\n",
    "        arr[end] = temp;\n",
    "        \n",
    "        start++;\n",
    "        end--;\n",
    "    }\n",
    "}"
   ]
  },
  {
   "cell_type": "code",
   "execution_count": null,
   "id": "bfddbfde",
   "metadata": {},
   "outputs": [],
   "source": [
    "void reverseCharArr(vector<char> &arr){\n",
    "    if (arr.size()==0 || arr.size() == 1)\n",
    "        return;\n",
    "     \n",
    "    int n=arr.size();\n",
    "    \n",
    "    for(int i=0 ; i < arr.size()/2; i++){\n",
    "        swap(arr[i],arr[n-1-i]);\n",
    "    }\n",
    "}\n",
    "\n",
    "int main() {\n",
    "    \n",
    "    vector<char> arr{'a','b','c','d'};\n",
    "    reverseCharArr(arr);\n",
    "     for(int i=0;i<arr.size();i++){\n",
    "         cout<<arr[i]<<endl;\n",
    " }"
   ]
  },
  {
   "cell_type": "code",
   "execution_count": null,
   "id": "0e76e62d",
   "metadata": {},
   "outputs": [],
   "source": []
  },
  {
   "cell_type": "markdown",
   "id": "0882597d",
   "metadata": {},
   "source": [
    "## Assignment Problem"
   ]
  },
  {
   "cell_type": "markdown",
   "id": "a4ce69bf",
   "metadata": {},
   "source": [
    "Q7. Given an array of length N, at each step it is reduced by 1 element. In the first step the maximum element would be removed, while in the second step minimum element of the remaining array would be removed, in the third step again the maximum and so on. Continue this till the array contains only 1 element. And find the final element remaining in the array. \n",
    "\n",
    "```\n",
    "Example 1:\n",
    "Input: \n",
    "N = 7 \n",
    "A[] = {7, 8, 3, 4, 2, 9, 5}  \n",
    "Ouput: \n",
    "5 \n",
    "```\n",
    "Explanation: In first step '9' would be removed, in 2nd step '2' will be removed, in third step '8' will be removed and so on. So the last remaining element would be '5'. \n",
    "\n",
    "```\n",
    "Example 2: \n",
    "Input: \n",
    "N = 8 \n",
    "A[] = {8, 1, 2, 9, 4, 3, 7, 5} \n",
    "Ouput: \n",
    "4\n",
    "```"
   ]
  },
  {
   "cell_type": "code",
   "execution_count": null,
   "id": "164d720b",
   "metadata": {},
   "outputs": [],
   "source": [
    "# option - 1\n",
    "write a loop with a toggle flag and keep removing elements till 1 is left\n",
    "O(N^2)\n",
    "\n",
    "int getMaxPos(array) {\n",
    "    \n",
    "}\n",
    "\n",
    "int getMinPos(array) {\n",
    "    \n",
    "}\n",
    "\n",
    "\n",
    "void getLastElement(vector<int> &array) {\n",
    "    int toggle = 0;\n",
    "    \n",
    "    // TODO: handle zero length\n",
    "    if array.size() == 0 {\n",
    "        cout << \"size is zero\";\n",
    "        return\n",
    "    }\n",
    "    \n",
    "    for (int i = 0; i < len - 1; i++ ) {\n",
    "        if toggle == 0 {\n",
    "            array.remove(getMaxPos())\n",
    "        } else {\n",
    "            array.remove(getMinPos())\n",
    "        }\n",
    "        toggle = (toggle + 1) % 2;\n",
    "    }\n",
    "    \n",
    "    cout << array[0];\n",
    "}"
   ]
  },
  {
   "cell_type": "code",
   "execution_count": null,
   "id": "aee29c33",
   "metadata": {},
   "outputs": [],
   "source": [
    "# option - 2\n",
    "# Answer: sort the array and get the element at position (N - 1)/2   \n",
    "\n",
    "# a = [1,2,3] -> mid \n",
    "#      0 1 2\n",
    "# a = [1,2,3,4] -> 4/2\n",
    "#      0 1 2 3\n",
    "    \n",
    "# N = length(array)\n",
    "\n",
    "# O(N log N)\n",
    "\n",
    "Array.Sort(numbers);\n",
    "int maxEle = numbers.Length -1;\n",
    "int minEle = 0;\n",
    "\n",
    "for (int i = 0; i < numbers.Length -1; i++)\n",
    "{\n",
    "    if(i%2 == 0)\n",
    "    {\n",
    "        numbers[maxEle] = 0;\n",
    "        maxEle = maxEle -1;\n",
    "    }\n",
    "    else\n",
    "    {\n",
    "        numbers[minEle] =0;\n",
    "        minEle = minEle +1;\n",
    "    }\n",
    "}\n",
    "\n",
    "\n"
   ]
  },
  {
   "cell_type": "markdown",
   "id": "e55f9207",
   "metadata": {},
   "source": [
    "Q10\n",
    "Given a number N. Your task is to check whether it is fascinating or not.\n",
    "Fascinating Number: When a number(should contain 3 digits or more) is multiplied by 2 and 3 ,and when both these products are concatenated with the original number, then it results in all digits from 1 to 9 present exactly once.\n",
    "Example 1:\n",
    "Input:\n",
    "N = 192\n",
    "Output: Fascinating\n",
    "Explanation: After multiplication with 2\n",
    "and 3, and concatenating with original\n",
    "number, number will become 192384576\n",
    "which contains all digits from 1 to 9.\n",
    "\n",
    "\n",
    "\n",
    "\n"
   ]
  },
  {
   "cell_type": "code",
   "execution_count": null,
   "id": "61fdadbe",
   "metadata": {},
   "outputs": [],
   "source": [
    "bool isFascinating(int num) {\n",
    "    \n",
    "    number = string(num) + string(num*2) + string(num*3);\n",
    "    \n",
    "    if number.length != 9 {\n",
    "        return false;\n",
    "    }\n",
    "    \n",
    "    set s = set(number)\n",
    "    \n",
    "    return s.length == 9;\n",
    "}\n"
   ]
  },
  {
   "cell_type": "code",
   "execution_count": 4,
   "id": "36c4a68d",
   "metadata": {},
   "outputs": [
    {
     "name": "stdout",
     "output_type": "stream",
     "text": [
      "ans 193386579 {'8', '6', '1', '3', '7', '5', '9'}\n",
      "False\n"
     ]
    }
   ],
   "source": [
    "def is_fascinating(num):\n",
    "    number = str(num) + str(num*2) + str(num*3)\n",
    "    \n",
    "    if len(number) != 9:\n",
    "        return false\n",
    "    \n",
    "    s = set(number)\n",
    "    print(\"ans\", number, s)\n",
    "    \n",
    "    if '0' in s:\n",
    "        return False\n",
    "    \n",
    "    return len(s) == 9\n",
    "\n",
    "    \n",
    "print(is_fascinating(193))"
   ]
  },
  {
   "cell_type": "code",
   "execution_count": null,
   "id": "ab192f4e",
   "metadata": {},
   "outputs": [],
   "source": [
    "vint productMulByTwo = n * 2;\n",
    "int productMulByThree = n * 3;\n",
    "bool isFascinating = false;\n",
    "\n",
    "string finalNumber = n.ToString() + productMulByTwo.ToString() + productMulByThree.ToString();\n",
    "\n",
    "char[] c1 = finalNumber.ToCharArray().Distinct().ToArray();\n",
    "\n",
    "if (c1.Contains('1') &&\n",
    "c1.Contains('2') &&\n",
    "c1.Contains('3') &&\n",
    "c1.Contains('4') &&\n",
    "c1.Contains('5') &&\n",
    "c1.Contains('6') &&\n",
    "c1.Contains('7') &&\n",
    "c1.Contains('8') &&\n",
    "c1.Contains('9') && !c1.Contains('0')) \n",
    "{\n",
    "    isFascinating = true;\n",
    "}\n",
    "\n",
    "if (isFascinating)\n",
    "{\n",
    "    System.Console.WriteLine(\"Fascinating\");\n",
    "}\n",
    "else\n",
    "{\n",
    "    System.Console.WriteLine(\"Not Fascinating\");\n",
    "}\n"
   ]
  },
  {
   "cell_type": "code",
   "execution_count": null,
   "id": "7073ab77",
   "metadata": {},
   "outputs": [],
   "source": [
    "digit = int(input(\"Enter the at least three digit number:\"))\n",
    "if (digit<=100):\n",
    "    print(\"Please enter a valid three digit number\")\n",
    "hashTable = [0]*9 # [0,0,0....] 9 times\n",
    "\n",
    "fas_number = str(digit)+str(2*digit)+str(3*digit)\n",
    "flag=True\n",
    "#using hashtable to check the digit appear only once\n",
    "for i in range(0,len(fas_number)):\n",
    "    if hashTable[int(fas_number[i])-1]>=1:\n",
    "        flag=False\n",
    "        print(\"The occurence of digit is more than once \")\n",
    "    else:\n",
    "        hashTable[int(fas_number[i])-1]+=1\n",
    "\n",
    "#check if the digit misses\n",
    "for i in range(0,len(hashTable)):\n",
    "    if hashTable[i]==0:\n",
    "        flag=False\n",
    "\n",
    "if flag is True:\n",
    "    print(\"Fascinating\")\n",
    "else:\n",
    "    print(\"Not Fascinating\")\n"
   ]
  },
  {
   "cell_type": "code",
   "execution_count": null,
   "id": "d59f53ef",
   "metadata": {},
   "outputs": [],
   "source": [
    "\n",
    "n=int(input())\n",
    "\n",
    "mul2 = str(n * 2)\n",
    "mul3 = str(n * 3)\n",
    "n = str(n)\n",
    "\n",
    "result = n + mul2 + mul3\n",
    "\n",
    "result = sorted(result)\n",
    "if result == ['1', '2', '3', '4', '5', '6', '7', '8', '9']:\n",
    "    print(\"Fascinating\")\n",
    "else:\n",
    "    print(\"Not Fascinating\")\n"
   ]
  },
  {
   "cell_type": "code",
   "execution_count": null,
   "id": "617418db",
   "metadata": {},
   "outputs": [],
   "source": [
    "\n",
    "private static Boolean FindFasNumber(int n) {\n",
    "    String Num = Integer.toString(n);\n",
    "    \n",
    "    if(Num.length() >= 3){\n",
    "        Num = Num+(n*2)+(n*3);\n",
    "        for(int i =1;i<=9;){\n",
    "            if(Num.contains(Integer.toString(i)))\n",
    "                i++;\n",
    "            else\n",
    "                return false;\n",
    "        }\n",
    "    }\n",
    "    else\n",
    "        return false;\n",
    "    return true;\n",
    "}"
   ]
  }
 ],
 "metadata": {
  "kernelspec": {
   "display_name": "Python 3",
   "language": "python",
   "name": "python3"
  },
  "language_info": {
   "codemirror_mode": {
    "name": "ipython",
    "version": 3
   },
   "file_extension": ".py",
   "mimetype": "text/x-python",
   "name": "python",
   "nbconvert_exporter": "python",
   "pygments_lexer": "ipython3",
   "version": "3.8.8"
  }
 },
 "nbformat": 4,
 "nbformat_minor": 5
}
