{
 "cells": [
  {
   "cell_type": "markdown",
   "id": "4fd18b46",
   "metadata": {},
   "source": [
    "# Priority Queue\n",
    "- ADT: Abstract data type\n",
    "- A queue where each object has an associated priority attached\n",
    "- Operation\n",
    "  - Insert: with a priority value\n",
    "  - Remove: max/min\n",
    "  - Get/Peek: max/min value\n",
    "\n",
    "Can be implemented using simple sorted  array, heap or using balanced BSTs\n",
    "\n",
    "\n",
    "**simple sorted  array**   \n",
    "- Insert O(N)\n",
    "- Remove O(1)\n",
    "- Peek O(1)\n",
    "\n",
    "**HEAP**\n",
    "- Insert O(log N)\n",
    "- Remove O(log N)\n",
    "- Peek O(1)\n",
    "\n",
    "**Balanced BSTs**\n",
    "- Insert O(log N)\n",
    "- Remove O(log N)\n",
    "- Peek O(1)\n",
    "\n",
    "\n",
    "Practically Heap is the prefered implementation over BST as Heap uses an array which gives better locality of reference (caching)\n",
    "Hence better practical performance even though complexity is same."
   ]
  },
  {
   "cell_type": "code",
   "execution_count": null,
   "id": "abb8ed49",
   "metadata": {},
   "outputs": [],
   "source": []
  },
  {
   "cell_type": "code",
   "execution_count": null,
   "id": "13633047",
   "metadata": {},
   "outputs": [],
   "source": []
  },
  {
   "cell_type": "code",
   "execution_count": null,
   "id": "f68fb532",
   "metadata": {},
   "outputs": [],
   "source": []
  },
  {
   "cell_type": "code",
   "execution_count": null,
   "id": "ef9e985b",
   "metadata": {},
   "outputs": [],
   "source": []
  },
  {
   "cell_type": "code",
   "execution_count": null,
   "id": "cde435c1",
   "metadata": {},
   "outputs": [],
   "source": []
  }
 ],
 "metadata": {
  "kernelspec": {
   "display_name": "Python 3",
   "language": "python",
   "name": "python3"
  },
  "language_info": {
   "codemirror_mode": {
    "name": "ipython",
    "version": 3
   },
   "file_extension": ".py",
   "mimetype": "text/x-python",
   "name": "python",
   "nbconvert_exporter": "python",
   "pygments_lexer": "ipython3",
   "version": "3.8.8"
  }
 },
 "nbformat": 4,
 "nbformat_minor": 5
}
