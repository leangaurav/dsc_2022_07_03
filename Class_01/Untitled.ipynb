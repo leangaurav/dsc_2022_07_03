{
 "cells": [
  {
   "cell_type": "markdown",
   "id": "94cb2509",
   "metadata": {},
   "source": [
    "# Class-1: Intro"
   ]
  },
  {
   "cell_type": "code",
   "execution_count": 3,
   "id": "550c21af",
   "metadata": {},
   "outputs": [
    {
     "name": "stdout",
     "output_type": "stream",
     "text": [
      "helooooooo\n"
     ]
    }
   ],
   "source": [
    "print(\"helooooooo\")"
   ]
  },
  {
   "cell_type": "markdown",
   "id": "7a1267eb",
   "metadata": {},
   "source": [
    "**Maximum in 3 Elements**"
   ]
  },
  {
   "cell_type": "code",
   "execution_count": null,
   "id": "52334983",
   "metadata": {},
   "outputs": [],
   "source": [
    "n1\n",
    "n2\n",
    "n3\n",
    "\n"
   ]
  },
  {
   "cell_type": "code",
   "execution_count": 4,
   "id": "9421a0ca",
   "metadata": {},
   "outputs": [
    {
     "ename": "SyntaxError",
     "evalue": "invalid syntax (Temp/ipykernel_15744/800392699.py, line 2)",
     "output_type": "error",
     "traceback": [
      "\u001b[1;36m  File \u001b[1;32m\"C:\\Users\\LEANGA~1\\AppData\\Local\\Temp/ipykernel_15744/800392699.py\"\u001b[1;36m, line \u001b[1;32m2\u001b[0m\n\u001b[1;33m    if(n1 >= n2){\u001b[0m\n\u001b[1;37m                ^\u001b[0m\n\u001b[1;31mSyntaxError\u001b[0m\u001b[1;31m:\u001b[0m invalid syntax\n"
     ]
    }
   ],
   "source": [
    "# 1\n",
    "if(n1 >= n2){ \n",
    "        if(n1 >= n3){\n",
    "                return n1;\n",
    "        }\n",
    "        return n3;        \n",
    "} else {\n",
    "        if(n2 >= n3){\n",
    "                return n2;\n",
    "        }\n",
    "        return n3;\n",
    "}\n",
    "        \n",
    "# 2\n",
    "n1 = n2 = 4\n",
    "n3 = 1\n",
    "if(n1>=n2 && n1>=n3) {\n",
    "    print n1\n",
    "} else if(n2>=n1 && n2 >=n3) {\n",
    "    print n2\n",
    "} else {\n",
    "    print n3\n",
    "}\n",
    "\n",
    "# 3\n",
    "m = n1\n",
    "if n2 > m {\n",
    "    m = n2\n",
    "}\n",
    "if n3 > m {\n",
    "    m = n3\n",
    "}\n",
    "print m\n",
    "\n",
    "# 4\n",
    "int max=0;\n",
    "        if(n1>=n2 && n1>=n3)\n",
    "            max=n1;\n",
    "        else if(n2>=n3 && n2>=3)\n",
    "            max=n2;\n",
    "        else\n",
    "            max=n3;\n",
    "\n",
    "# 5\n",
    "1. temp=a>b?a:b;  \n",
    "2. largest=c>temp?c:temp;\n",
    "\n",
    "    \n",
    "# 6\n",
    "(n1>=n2 && n1>=n3) ?n1:((n2>=n3 && n2 >=n1)?n2:n3);\n"
   ]
  },
  {
   "cell_type": "code",
   "execution_count": null,
   "id": "d8f81779",
   "metadata": {},
   "outputs": [],
   "source": []
  },
  {
   "cell_type": "markdown",
   "id": "51ee4dbf",
   "metadata": {},
   "source": [
    "**Print triangle**\n",
    "```\n",
    "*****\n",
    "****\n",
    "***\n",
    "**\n",
    "*\n",
    "```"
   ]
  },
  {
   "cell_type": "code",
   "execution_count": null,
   "id": "fe23cb2c",
   "metadata": {},
   "outputs": [],
   "source": [
    "for (int i = 0; i < 5; i++) {\n",
    "    cout << i;\n",
    "}\n",
    "01234\n",
    "\n"
   ]
  },
  {
   "cell_type": "code",
   "execution_count": null,
   "id": "baf41167",
   "metadata": {},
   "outputs": [],
   "source": [
    "for (int i = 0; i < 5; i++) {\n",
    "    cout << 5-i;\n",
    "}\n",
    "54321"
   ]
  },
  {
   "cell_type": "code",
   "execution_count": null,
   "id": "e03958f2",
   "metadata": {},
   "outputs": [],
   "source": [
    "for (int i = 0; i < 5; i++) {\n",
    "    cout << i << endl;\n",
    "}\n",
    "0\n",
    "1\n",
    "2\n",
    "3\n",
    "4"
   ]
  },
  {
   "cell_type": "code",
   "execution_count": null,
   "id": "108ed460",
   "metadata": {},
   "outputs": [],
   "source": [
    "for (int i = 0; i < 5; i++) {\n",
    "    for (int j = 0; j < 5; j++) {\n",
    "        cout << i;\n",
    "    }\n",
    "    cout << endl;\n",
    "}\n",
    "i 0 0..0 1\n",
    "j 0 1..5 0\n",
    "\n",
    "00000\n",
    "11111\n",
    "....\n",
    "44444"
   ]
  },
  {
   "cell_type": "code",
   "execution_count": null,
   "id": "b7dcc31e",
   "metadata": {},
   "outputs": [],
   "source": [
    "for (int i = 0; i < 5; i++) {\n",
    "    for (int j = 0; j < 5; j++) {\n",
    "        cout << j;\n",
    "    }\n",
    "    cout << endl;\n",
    "}\n",
    "i 0 0..0 1\n",
    "j 0 1..5 0\n",
    "\n",
    "01234\n",
    "01234\n",
    "....\n",
    "01234"
   ]
  },
  {
   "cell_type": "code",
   "execution_count": null,
   "id": "5ec777a8",
   "metadata": {},
   "outputs": [],
   "source": [
    "for (int i = 0; i < 5; i++) { // how many rows/lines\n",
    "    for (int j = 0; j <= i; j++) { // symbols in a line/row\n",
    "        cout << \"*\";\n",
    "    }\n",
    "    cout << endl;\n",
    "}\n",
    "i 0 0 1 1 2\n",
    "j 0 1 0 1 0 1 2\n",
    "\n",
    "*\n",
    "**\n",
    "***\n",
    "****\n",
    "*****"
   ]
  },
  {
   "cell_type": "code",
   "execution_count": null,
   "id": "db7e7f7b",
   "metadata": {},
   "outputs": [],
   "source": [
    "for (int i = 5; i > 0; i--) { // how many rows/lines\n",
    "    for (int j = 0; j < i; j++) { // symbols in a line/row\n",
    "        cout << \"*\";\n",
    "    }\n",
    "    cout << endl;\n",
    "}\n",
    "\n",
    "i 5          4\n",
    "j 0 1 2 3 4  0 1 2 3 \n",
    "*****\n",
    "****\n",
    "***\n",
    "**\n",
    "*"
   ]
  },
  {
   "cell_type": "code",
   "execution_count": null,
   "id": "5fb2b768",
   "metadata": {},
   "outputs": [],
   "source": [
    "for (int i = 0; i < 5; i++) { // how many rows/lines\n",
    "    for (int j = 0; j < 5-i; j++) { // symbols in a line/row\n",
    "        cout << \"*\";\n",
    "    }\n",
    "    cout << endl;\n",
    "}\n",
    "\n",
    "*****\n",
    "****\n",
    "***\n",
    "**\n",
    "*"
   ]
  },
  {
   "cell_type": "code",
   "execution_count": 8,
   "id": "74ea89f3",
   "metadata": {},
   "outputs": [
    {
     "name": "stdout",
     "output_type": "stream",
     "text": [
      "*****\n",
      "****\n",
      "***\n",
      "**\n",
      "*\n",
      "\n",
      "*****\n",
      "****\n",
      "***\n",
      "**\n",
      "*\n"
     ]
    }
   ],
   "source": [
    "for i in range(5,0,-1):\n",
    "    print(\"*\"*i)\n",
    "    \n",
    "print()\n",
    "for i in range(5,0,-1):\n",
    "    for j in range(i):\n",
    "        print(\"*\", end = '')\n",
    "    print()\n",
    "    "
   ]
  },
  {
   "cell_type": "markdown",
   "id": "1ffc9dfc",
   "metadata": {},
   "source": [
    "**Print Pattern**\n",
    "```\n",
    "1\n",
    "2 3\n",
    "4 5 6\n",
    "7 8 9 10\n",
    "11 12 13 14 15\n",
    "```"
   ]
  },
  {
   "cell_type": "code",
   "execution_count": null,
   "id": "9c7fba48",
   "metadata": {},
   "outputs": [],
   "source": [
    "int count = 1;\n",
    "for (int i = 0; i < 5; i++) { // how many rows/lines\n",
    "    for (int j = 0; j <= i; j++) { // symbols in a line/row\n",
    "        cout << count << \" \";\n",
    "        count += 1;\n",
    "    }\n",
    "    cout << endl;\n",
    "}"
   ]
  },
  {
   "cell_type": "code",
   "execution_count": null,
   "id": "af3f78ec",
   "metadata": {},
   "outputs": [],
   "source": []
  }
 ],
 "metadata": {
  "kernelspec": {
   "display_name": "Python 3",
   "language": "python",
   "name": "python3"
  },
  "language_info": {
   "codemirror_mode": {
    "name": "ipython",
    "version": 3
   },
   "file_extension": ".py",
   "mimetype": "text/x-python",
   "name": "python",
   "nbconvert_exporter": "python",
   "pygments_lexer": "ipython3",
   "version": "3.8.8"
  }
 },
 "nbformat": 4,
 "nbformat_minor": 5
}
