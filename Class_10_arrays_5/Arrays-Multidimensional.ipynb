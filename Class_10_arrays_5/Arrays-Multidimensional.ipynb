{
 "cells": [
  {
   "cell_type": "markdown",
   "id": "53d98f01",
   "metadata": {},
   "source": [
    "# Arrays-5: 2D arrays"
   ]
  },
  {
   "cell_type": "markdown",
   "id": "f8184ba3",
   "metadata": {},
   "source": [
    "- 2D arrays\n",
    "- Indexing 2D arrays\n",
    "- Time complexity\n",
    "- Matrix"
   ]
  },
  {
   "cell_type": "markdown",
   "id": "35617bac",
   "metadata": {},
   "source": [
    "**Question 1:**  \n",
    "https://leetcode.com/problems/max-consecutive-ones/ \n"
   ]
  },
  {
   "cell_type": "code",
   "execution_count": null,
   "id": "7c6cceed",
   "metadata": {},
   "outputs": [],
   "source": [
    "func findMaxConsecutiveOnes(_ nums: [Int]) -> Int {\n",
    "        var max = 0 , count = 0\n",
    "        for i in 0..<nums.count {\n",
    "            if nums[i] == 1 {\n",
    "                count += 1\n",
    "            }\n",
    "            else {\n",
    "                count = 0\n",
    "            }\n",
    "            \n",
    "            if max < count{\n",
    "                max = countt\n",
    "            }\n",
    "        }\n",
    "        \n",
    "        return max\n",
    "    }\n"
   ]
  },
  {
   "cell_type": "code",
   "execution_count": null,
   "id": "17da5af0",
   "metadata": {},
   "outputs": [],
   "source": [
    "public int findMaxConsecutiveOnes(int[] nums) {\n",
    "        int count = 0;\n",
    "        int max = 0;\n",
    "        for (int i = 0; i < nums.length; i++) {\n",
    "            if(nums[i] == 1){\n",
    "                count ++;\n",
    "                \n",
    "            }\n",
    "            if(nums[i] == 0 || i == nums.length-1){\n",
    "                max = Math.max(count, max);\n",
    "                count = 0;\n",
    "            }\n",
    "        }\n",
    "        return max;\n",
    "    }\n",
    "}\n"
   ]
  },
  {
   "cell_type": "code",
   "execution_count": null,
   "id": "f0a64489",
   "metadata": {},
   "outputs": [],
   "source": [
    "def findMaxConsecutiveOnes(self, nums: List[int]) -> int:\n",
    "        count = 0\n",
    "        i = 0\n",
    "        max = 0\n",
    "        while i < (len(nums)):\n",
    "            if nums[i] == 1:\n",
    "                count = count + 1\n",
    "                i = i+1\n",
    "                if count > max:\n",
    "                    max = count\n",
    "            else:\n",
    "                count = 0\n",
    "                i = i+1\n",
    "        return count\n"
   ]
  },
  {
   "cell_type": "markdown",
   "id": "52dbaf49",
   "metadata": {},
   "source": [
    "### diagonals\n",
    "- main : i == j\n",
    "- off: (i + j) == (n-1)\n",
    "\n",
    "triangles:  \n",
    "- main: i <= j  or i >=j \n",
    "- off: (i+j) <= (n-1) or (i+j) >= (n-1)"
   ]
  },
  {
   "cell_type": "code",
   "execution_count": null,
   "id": "d3d9a002",
   "metadata": {},
   "outputs": [],
   "source": [
    "void traverse(int M[][], int n) {\n",
    "    for (int i=0; i < n; i++){\n",
    "        for(int j=0; j < n; j++) {\n",
    "            if (i <= j)\n",
    "                cout << M[i][j] << \" \";\n",
    "        }\n",
    "        cout << endl;\n",
    "    }\n",
    "}\n",
    "#    0  1  2  3\n",
    "# 0 10 20 30 40\n",
    "# 1 50 60 70 80\n",
    "# 2 90 91 92 93\n",
    "# 3 94 95 96 97"
   ]
  },
  {
   "cell_type": "markdown",
   "id": "c0c3af9e",
   "metadata": {},
   "source": [
    "**Question 2**  \n",
    "https://leetcode.com/problems/max-consecutive-ones-ii/ \n"
   ]
  },
  {
   "cell_type": "code",
   "execution_count": null,
   "id": "efb97f4f",
   "metadata": {},
   "outputs": [],
   "source": [
    "You are given an array of 0s and 1s and you have to count max no. of consecutive ones in the array. \n",
    "You are allowed to flip a 0 to 1 while computing the max.\n",
    "\n",
    "\n",
    "int maxConsecutiveZeros(int nums[], int n){\n",
    "    \n",
    "}"
   ]
  },
  {
   "cell_type": "code",
   "execution_count": null,
   "id": "582a1b97",
   "metadata": {},
   "outputs": [],
   "source": [
    "\n",
    "int maxConsecutiveZeros(int nums[], int n, int k){\n",
    "    \n",
    "    ones = 0 \n",
    "    zeros = 0;\n",
    "    j = 0;\n",
    "    maxOnes = 0;\n",
    "    \n",
    "    for (int i = 0; i < n; i++) {\n",
    "        if (nums[i] == 0) {\n",
    "            zeros ++;\n",
    "        } \n",
    "        \n",
    "        // fix you precondition\n",
    "        while(j <=i && zeros > 1) {\n",
    "            if (nums[j] == 0) {\n",
    "                zeros--;\n",
    "            } \n",
    "            j++;\n",
    "        }\n",
    "        \n",
    "        if (i-j+1 > maxOnes) {\n",
    "            maxOnes = i-j+1;\n",
    "        }\n",
    "        \n",
    "    }\n",
    "}\n",
    "\n",
    "# maxOnes  1 2 3 4\n",
    "# zeros    0 1 1 1 [2 1]   2\n",
    "# i        0 1 2 3 4       5          6\n",
    "# j        0 0 0 0 [0 1 2] [2 3 4 5]\n",
    "\n",
    "#  1 0 1 1 0 0 1 1\n",
    "#  0 1 2 3 4 5 6 7\n"
   ]
  },
  {
   "cell_type": "code",
   "execution_count": null,
   "id": "f03c5e29",
   "metadata": {},
   "outputs": [],
   "source": [
    "\n",
    "    int j = 0, i;\n",
    "    int k = 1;\n",
    "    for (i = 0; i < nums.Length; i++) {\n",
    "        if (nums[i] == 0) {\n",
    "            k--;\n",
    "        }  \n",
    "        if (k < 0) {\n",
    "            k = k + 1 - nums[j];\n",
    "            j++;\n",
    "        }\n",
    "    }     \n",
    "    return i - j;\n",
    "\n",
    "\n",
    "i 0 1 2 3  4  5\n",
    "k 1 0 0 0 -1 -2\n",
    "j 0        1  2\n",
    "\n",
    "#  1 0 1 1 0 0 1 1\n",
    "#  0 1 2 3 4 5 6 7"
   ]
  },
  {
   "cell_type": "code",
   "execution_count": null,
   "id": "7bd242dd",
   "metadata": {},
   "outputs": [],
   "source": []
  },
  {
   "cell_type": "markdown",
   "id": "f81ad9d2",
   "metadata": {},
   "source": [
    "**Question 3**  \n",
    "https://leetcode.com/problems/rotate-image/\n"
   ]
  },
  {
   "cell_type": "code",
   "execution_count": 5,
   "id": "31fa6c80",
   "metadata": {},
   "outputs": [
    {
     "name": "stdout",
     "output_type": "stream",
     "text": [
      "[1, 2, 3]\n",
      "[4, 5, 6]\n",
      "[7, 8, 9]\n",
      "0\n",
      "1\n",
      "[7, 8, 1]\n",
      "[6, 5, 2]\n",
      "[9, 8, 3]\n"
     ]
    }
   ],
   "source": [
    "\n",
    "Solution-1\n",
    "\n",
    "public void Rotate(int[][] matrix) {\n",
    "        \n",
    "        int l = matrix[0].Length;\n",
    "        for(int i=0;i< (l+1)/2;i++)\n",
    "        {\n",
    "            for(int j=0;j<l/2;j++)\n",
    "            {\n",
    "                int a = matrix[i][j];\n",
    "                int b = matrix[l-1-j][i];\n",
    "                int c = matrix[l-1-i][l-j-1];\n",
    "                int d = matrix[j][l-1-i];\n",
    "                matrix[i][j] = b;\n",
    "                matrix[l-1-j][i] = c;\n",
    "                matrix[l-1-i][l-j-1] = d;\n",
    "                matrix[j][l-1-i] =a;                \n",
    "            }\n",
    "        }\n",
    "    }\n"
   ]
  },
  {
   "cell_type": "code",
   "execution_count": null,
   "id": "7fcd4580",
   "metadata": {},
   "outputs": [],
   "source": [
    "Solution-2\n",
    "\n",
    "1. Transpose\n",
    "2. Flip 180 along the columns"
   ]
  },
  {
   "cell_type": "code",
   "execution_count": null,
   "id": "3c41a177",
   "metadata": {},
   "outputs": [],
   "source": []
  },
  {
   "cell_type": "markdown",
   "id": "a395e7b9",
   "metadata": {},
   "source": [
    "**Question 4**   \n",
    "https://leetcode.com/problems/spiral-matrix-ii/\n"
   ]
  },
  {
   "cell_type": "code",
   "execution_count": null,
   "id": "b1132beb",
   "metadata": {},
   "outputs": [],
   "source": [
    "// TC: O(N^2)\n",
    "    \n",
    "class Solution {\n",
    "public:\n",
    "    vector<vector<int>> generateMatrix(int n) {\n",
    "        \n",
    "        vector<vector<int>> res(n, vector<int>(n));\n",
    "        \n",
    "        // verify shallow copy        res[0][0] = 10;\n",
    "        int value = 1;\n",
    "        for (int i = 0; i < n/2; i++){\n",
    "            \n",
    "            // first row\n",
    "            for (int j = i; j < n-i-1; j++) {\n",
    "                res[i][j] = value;\n",
    "                value++;\n",
    "            }\n",
    "            // last col\n",
    "            for (int j = i; j < n-i-1; j++) {\n",
    "                res[j][n-1-i] = value;\n",
    "                value++;\n",
    "            }\n",
    "            // last row\n",
    "            for (int j = n-i-1; j > i ; j--) {\n",
    "                res[n-1-i][j] = value;\n",
    "                value++;\n",
    "            }\n",
    "            // first col\n",
    "            for (int j = n-i-1; j > i ; j--) {\n",
    "                res[j][i] = value;\n",
    "                value++;\n",
    "            }\n",
    "            \n",
    "        }\n",
    "        \n",
    "        // fill the middle value in case of odd size\n",
    "        if (n%2 == 1){\n",
    "            res[n/2][n/2] = value;\n",
    "        }\n",
    "        \n",
    "        return res;\n",
    "    }\n",
    "};"
   ]
  },
  {
   "cell_type": "code",
   "execution_count": null,
   "id": "ac4a9263",
   "metadata": {},
   "outputs": [],
   "source": []
  },
  {
   "cell_type": "markdown",
   "id": "4b92190a",
   "metadata": {},
   "source": [
    "**Question 5**  \n",
    "https://leetcode.com/problems/max-consecutive-ones-iii/"
   ]
  },
  {
   "cell_type": "code",
   "execution_count": null,
   "id": "74e61392",
   "metadata": {},
   "outputs": [],
   "source": []
  },
  {
   "cell_type": "code",
   "execution_count": null,
   "id": "d7361713",
   "metadata": {},
   "outputs": [],
   "source": []
  },
  {
   "cell_type": "code",
   "execution_count": null,
   "id": "2c592ca3",
   "metadata": {},
   "outputs": [],
   "source": []
  }
 ],
 "metadata": {
  "kernelspec": {
   "display_name": "Python 3",
   "language": "python",
   "name": "python3"
  },
  "language_info": {
   "codemirror_mode": {
    "name": "ipython",
    "version": 3
   },
   "file_extension": ".py",
   "mimetype": "text/x-python",
   "name": "python",
   "nbconvert_exporter": "python",
   "pygments_lexer": "ipython3",
   "version": "3.8.8"
  }
 },
 "nbformat": 4,
 "nbformat_minor": 5
}
