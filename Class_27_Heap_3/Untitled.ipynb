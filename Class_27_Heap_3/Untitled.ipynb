{
 "cells": [
  {
   "cell_type": "markdown",
   "id": "de54b6e9",
   "metadata": {},
   "source": [
    "# Heaps Again"
   ]
  },
  {
   "cell_type": "code",
   "execution_count": null,
   "id": "08683afe",
   "metadata": {},
   "outputs": [],
   "source": [
    "\n",
    "4,3,2,1\n",
    "\n",
    "    4\n",
    "   /  \\\n",
    "   3  2\n",
    "  /\n",
    " 1\n",
    "\n",
    "\n",
    "    4\n",
    "   /  \\\n",
    "   1  2\n",
    "  /\n",
    " 3\n",
    "\n",
    "\n",
    "\n",
    "    1\n",
    "   /  \\\n",
    "   4  2\n",
    "  /\n",
    " 3\n",
    "\n",
    "    1\n",
    "   /  \\\n",
    "   3  2\n",
    "  /\n",
    " 4 "
   ]
  },
  {
   "cell_type": "code",
   "execution_count": 22,
   "id": "da6c59ac",
   "metadata": {},
   "outputs": [
    {
     "name": "stdout",
     "output_type": "stream",
     "text": [
      "[1, 2, 3, 4]\n",
      "[1, 3, 2, 4]\n",
      "\n",
      "pop 1 [2, 3, 4]\n",
      "pop 2 [3, 4]\n",
      "pop 3 [4]\n",
      "pop 4 []\n",
      "\n",
      "[10]\n",
      "[1, 10]\n",
      "1\n"
     ]
    }
   ],
   "source": [
    "import heapq\n",
    "\n",
    "data = [1,2,3,4]\n",
    "heapq.heapify(data)\n",
    "print(data)\n",
    "\n",
    "# min heap max heap? min heap\n",
    "print\n",
    "data = [4,3,2,1]\n",
    "heapq.heapify(data)\n",
    "print(data)\n",
    "\n",
    "\n",
    "\n",
    "print()\n",
    "for _ in range(4): # i = 0, 1, 2 3\n",
    "    r = heapq.heappop(data)\n",
    "    print(\"pop\", r, data)\n",
    "    \n",
    "print()\n",
    "h = []\n",
    "heapq.heappush(h, 10)\n",
    "print(h)\n",
    "heapq.heappush(h, 1)\n",
    "print(h)\n",
    "print(h[0])\n"
   ]
  },
  {
   "cell_type": "code",
   "execution_count": 21,
   "id": "d95cba82",
   "metadata": {},
   "outputs": [
    {
     "name": "stdout",
     "output_type": "stream",
     "text": [
      "pop 5 [1, 3, 4]\n",
      "pop 1 [3, 4]\n",
      "pop 3 [4]\n",
      "pop 4 []\n",
      "\n",
      "[1, 3, 4, 5]\n",
      "pop 1 [3, 5, 4]\n",
      "pop 3 [4, 5]\n",
      "pop 4 [5]\n",
      "pop 5 []\n"
     ]
    }
   ],
   "source": [
    "\n",
    "tata = [5,3,4,1]\n",
    "for _ in range(4): # i = 0, 1, 2 3\n",
    "    r = heapq.heappop(tata)\n",
    "    print(\"pop\", r, tata)\n",
    "    \n",
    "    \n",
    "print()\n",
    "tata = [5,3,4,1]\n",
    "heapq.heapify(tata)\n",
    "print(tata)\n",
    "for _ in range(4): # i = 0, 1, 2 3\n",
    "    r = heapq.heappop(tata)\n",
    "    print(\"pop\", r, tata)"
   ]
  },
  {
   "cell_type": "code",
   "execution_count": null,
   "id": "e153cfd2",
   "metadata": {},
   "outputs": [],
   "source": []
  },
  {
   "cell_type": "code",
   "execution_count": 23,
   "id": "5208c89a",
   "metadata": {},
   "outputs": [
    {
     "name": "stdout",
     "output_type": "stream",
     "text": [
      "['a', 'b', 'd', 'c', 'e']\n",
      "pop a ['b', 'c', 'd', 'e']\n",
      "pop b ['c', 'e', 'd']\n",
      "pop c ['d', 'e']\n",
      "pop d ['e']\n"
     ]
    }
   ],
   "source": [
    "data = [\"a\", \"c\", \"d\", \"b\",  \"e\"]\n",
    "heapq.heapify(data)\n",
    "print(data)\n",
    "for _ in range(4): # i = 0, 1, 2 3\n",
    "    r = heapq.heappop(data)\n",
    "    print(\"pop\", r, data)\n",
    "    "
   ]
  },
  {
   "cell_type": "code",
   "execution_count": 26,
   "id": "fe1d49d8",
   "metadata": {},
   "outputs": [
    {
     "name": "stdout",
     "output_type": "stream",
     "text": [
      "[(gaurav, 1), (Niraj, 4), (manu, 2), (abhishek, 7)]\n",
      "pop (gaurav, 1) [(manu, 2), (Niraj, 4), (abhishek, 7)]\n",
      "pop (manu, 2) [(Niraj, 4), (abhishek, 7)]\n",
      "pop (Niraj, 4) [(abhishek, 7)]\n",
      "pop (abhishek, 7) []\n"
     ]
    }
   ],
   "source": [
    "# min heap example using age for priority\n",
    "class Person:\n",
    "    def __init__(self, name, age):\n",
    "        self.name = name\n",
    "        self.age =  age\n",
    "        \n",
    "    def __lt__(self, other): # less than\n",
    "        return self.age < other.age\n",
    "    \n",
    "    def __str__(self):\n",
    "        return f\"({self.name}, {self.age})\"\n",
    "    \n",
    "    def __repr__(self):\n",
    "        return self.__str__()\n",
    "\n",
    "\n",
    "data = [Person(\"gaurav\",1), Person(\"abhishek\",7), Person(\"manu\",2), Person(\"Niraj\",4)]\n",
    "\n",
    "heapq.heapify(data)\n",
    "print(data)\n",
    "for _ in range(4): # i = 0, 1, 2 3\n",
    "    r = heapq.heappop(data)\n",
    "    print(\"pop\", r, data)\n",
    "    \n"
   ]
  },
  {
   "cell_type": "code",
   "execution_count": null,
   "id": "c7a7155e",
   "metadata": {},
   "outputs": [],
   "source": []
  },
  {
   "cell_type": "code",
   "execution_count": 27,
   "id": "9b4321c5",
   "metadata": {},
   "outputs": [
    {
     "name": "stdout",
     "output_type": "stream",
     "text": [
      "[(abhishek, 7), (Niraj, 4), (manu, 2), (gaurav, 1)]\n",
      "pop (abhishek, 7) [(Niraj, 4), (gaurav, 1), (manu, 2)]\n",
      "pop (Niraj, 4) [(manu, 2), (gaurav, 1)]\n",
      "pop (manu, 2) [(gaurav, 1)]\n",
      "pop (gaurav, 1) []\n"
     ]
    }
   ],
   "source": [
    "# max heap example using age for priority\n",
    "class Person:\n",
    "    def __init__(self, name, age):\n",
    "        self.name = name\n",
    "        self.age =  age\n",
    "        \n",
    "    def __lt__(self, other): # less than\n",
    "        return self.age > other.age\n",
    "    \n",
    "    def __str__(self):\n",
    "        return f\"({self.name}, {self.age})\"\n",
    "    \n",
    "    def __repr__(self):\n",
    "        return self.__str__()\n",
    "\n",
    "# use age for priority\n",
    "data = [Person(\"gaurav\",1), Person(\"abhishek\",7), Person(\"manu\",2), Person(\"Niraj\",4)]\n",
    "\n",
    "heapq.heapify(data)\n",
    "print(data)\n",
    "for _ in range(4): # i = 0, 1, 2 3\n",
    "    r = heapq.heappop(data)\n",
    "    print(\"pop\", r, data)"
   ]
  },
  {
   "cell_type": "code",
   "execution_count": 31,
   "id": "5878d487",
   "metadata": {},
   "outputs": [
    {
     "name": "stdout",
     "output_type": "stream",
     "text": [
      "[(abhishek, 7), (gaurav, 1), (manu, 2), (niraj, 4)]\n",
      "pop (abhishek, 7) [(gaurav, 1), (niraj, 4), (manu, 2)]\n",
      "pop (gaurav, 1) [(manu, 2), (niraj, 4)]\n",
      "pop (manu, 2) [(niraj, 4)]\n",
      "pop (niraj, 4) []\n"
     ]
    }
   ],
   "source": [
    "# min heap example using name for priority\n",
    "class Person:\n",
    "    def __init__(self, name, age):\n",
    "        self.name = name\n",
    "        self.age =  age\n",
    "        \n",
    "    def __lt__(self, other): # less than\n",
    "        return self.name < other.name\n",
    "    \n",
    "    def __str__(self):\n",
    "        return f\"({self.name}, {self.age})\"\n",
    "    \n",
    "    def __repr__(self):\n",
    "        return self.__str__()\n",
    "\n",
    "# use age for priority\n",
    "data = [Person(\"gaurav\",1), Person(\"abhishek\",7), Person(\"manu\",2), Person(\"niraj\",4)]\n",
    "\n",
    "heapq.heapify(data)\n",
    "print(data)\n",
    "for _ in range(4): # i = 0, 1, 2 3\n",
    "    r = heapq.heappop(data)\n",
    "    print(\"pop\", r, data)"
   ]
  },
  {
   "cell_type": "code",
   "execution_count": 32,
   "id": "b478a0df",
   "metadata": {},
   "outputs": [
    {
     "name": "stdout",
     "output_type": "stream",
     "text": [
      "[12, 11, 2, 6]\n"
     ]
    }
   ],
   "source": [
    "import heapq\n",
    "heap=[]\n",
    "heapq.heappush(heap,11)\n",
    "heapq.heappush(heap,2)\n",
    "heapq.heappush(heap,12)\n",
    "heapq.heappush(heap,6)\n",
    "heapq._heapify_max(heap)\n",
    "print(heap)\n"
   ]
  },
  {
   "cell_type": "code",
   "execution_count": null,
   "id": "b62cf944",
   "metadata": {},
   "outputs": [],
   "source": []
  },
  {
   "cell_type": "markdown",
   "id": "5625cbbf",
   "metadata": {},
   "source": [
    "# JAVA\n",
    "\n",
    "**default min heap**\n",
    "\n",
    "```Java\n",
    "    PriorityQueue<Integer> pq=new PriorityQueue<>();\n",
    "\n",
    "    for(int i=5; i>= 1;i--)\n",
    "    {\n",
    "      pq.add(i);\n",
    "    }\n",
    "\n",
    "    while(!pq.isEmpty())\n",
    "    {\n",
    "      System.out.println(pq.poll());\n",
    "    }\n",
    "``` \n",
    "\n",
    "\n",
    "**default min heap**\n",
    "```Java\n",
    "    int data[]={1,2,3,5,4};\n",
    "\n",
    "    PriorityQueue<Integer> pq=new PriorityQueue<>();\n",
    "\n",
    "    // copy data\n",
    "    for(int i=0;i< data.length;i++)\n",
    "    {\n",
    "      pq.add(data[i]);\n",
    "    }\n",
    "\n",
    "    while(!pq.isEmpty())\n",
    "    {\n",
    "      System.out.println(pq.poll());\n",
    "    }\n",
    "```    \n",
    "    \n",
    "**max heap using comparator**\n",
    " ```Java\n",
    "    int data[]={1,2,3,5,4};\n",
    "\n",
    "    PriorityQueue<Integer> pq=new PriorityQueue<Integer>((o1,o2)->  o2-o1);\n",
    "    for(int i=0;i< data.length;i++)\n",
    "    {\n",
    "      pq.add(data[i]);\n",
    "    }\n",
    "\n",
    "    while(!pq.isEmpty())\n",
    "    {\n",
    "      System.out.println(pq.poll());\n",
    "    }\n",
    "\n",
    "```\n"
   ]
  },
  {
   "cell_type": "markdown",
   "id": "c7cddf0f",
   "metadata": {},
   "source": [
    "```\n",
    "#include <iostream>\n",
    "#include <queue>\n",
    "using namespace std;\n",
    "  \n",
    "int main()\n",
    "{\n",
    "      int arr[]={1,2,3,4,5};\n",
    "    \n",
    "    priority_queue<int> pq(arr, arr+5);     \n",
    "    cout<<\"Max priority queue: \";\n",
    "      while(!pq.empty()){\n",
    "      cout<<pq.top()<<endl;\n",
    "      pq.pop();\n",
    "    }\n",
    "      \n",
    "    \n",
    "    priority_queue <int, vector<int>, greater<int> > pq1(arr,arr+5);\n",
    "    cout<<\"Min priority queue: \";\n",
    "    while(!pq1.empty()){\n",
    "    cout<<pq1.top()<<endl;\n",
    "    pq1.pop();\n",
    "    }\n",
    "      \n",
    "}\n",
    "```"
   ]
  },
  {
   "cell_type": "markdown",
   "id": "66b7bccb",
   "metadata": {},
   "source": [
    "# C#\n",
    "\n",
    "**min heap**\n",
    "```\n",
    "PriorityQueue<string, int> queue = new PriorityQueue<string, int>();\n",
    "queue.Enqueue(\"Item A\", 1);\n",
    "queue.Enqueue(\"Item B\", 2);\n",
    "queue.Enqueue(\"Item C\", 3);\n",
    "queue.Enqueue(\"Item D\", 5);\n",
    "queue.Enqueue(\"Item E\", 4);\n",
    "\n",
    "while (queue.TryDequeue(out string item, out int priority))\n",
    "{\n",
    "    Console.WriteLine($\"Popped Item : {item}. Priority Was : {priority}\");\n",
    "}\n",
    "\n",
    "```"
   ]
  },
  {
   "cell_type": "markdown",
   "id": "4cee41bb",
   "metadata": {},
   "source": [
    "# Javascript\n",
    "\n"
   ]
  },
  {
   "cell_type": "code",
   "execution_count": null,
   "id": "4385b7e1",
   "metadata": {},
   "outputs": [],
   "source": []
  },
  {
   "cell_type": "markdown",
   "id": "c3868363",
   "metadata": {},
   "source": [
    "- heapify -> convert a sequence/array to satisfy heap property: O(N)\n",
    "- heappop: assumes data is in heap format/heapified: O(log N)\n",
    "- heappush: assumes data is in heap format/heapified: O(log N)\n",
    "- peek: O(1)"
   ]
  },
  {
   "cell_type": "code",
   "execution_count": null,
   "id": "d765880a",
   "metadata": {},
   "outputs": [],
   "source": []
  },
  {
   "cell_type": "markdown",
   "id": "b6a7f132",
   "metadata": {},
   "source": [
    "https://leetcode.com/problems/kth-largest-element-in-an-array/\n",
    "    \n",
    "    \n",
    "**Solution-1:**\n",
    "- sort data : O( n log n )\n",
    "- get kth element from end: O(1)\n",
    "    \n",
    "TC:O( n log n)  \n",
    "SC: O(1)  \n",
    "    \n",
    "**Solution-2:**\n",
    "- Max heap of entire data: O(N)\n",
    "- Heappop(k-1 times) : O(k log n)\n",
    "- Top: O(1)\n",
    "\n",
    "TC: O(N) + O(k log n)   \n",
    "    if n >> k  O(N)  \n",
    "    if k ~ n   O(N log N)  \n",
    "SC: O(N)  \n",
    "\n",
    "**Solution-3:**\n",
    "- Make a min heap of first k elements: O(k)\n",
    "- For each remaining element pop if current current element > heap.top() and push(current element): (N-k) log k\n",
    "- get top of heap O(1)\n",
    "\n",
    "TC: O(n log k): \n",
    "    O(n log n) if k ~n \n",
    "SC: O(k)  "
   ]
  },
  {
   "cell_type": "markdown",
   "id": "006ae52e",
   "metadata": {},
   "source": [
    "### Python \n",
    "```Python\n",
    "def findKthLargest(self, nums: List[int], k: int) -> int:\n",
    "        \n",
    "        return heapq.nlargest(k, nums)[-1]\n",
    "    \n",
    "    \n",
    "        data = nums[:k]\n",
    "        heapq.heapify(data) # min  heap\n",
    "        \n",
    "        for i in range(k,len(nums)):\n",
    "            if data[0] < nums[i]:\n",
    "                heapq.heappop(data)\n",
    "                heapq.heappush(data,nums[i])\n",
    "        return data[0]\n",
    "    \n",
    "def findKthLargest(self, nums: List[int], k: int) -> int:\n",
    "        heap = nums[0:k]\n",
    "        heapq.heapify(heap)\n",
    "        for i in range(k, len(nums)):\n",
    "            if nums[i] > heap[0]:\n",
    "                heapq.heapreplace(heap, nums[i])\n",
    "        return heap[0]\n",
    "\n",
    "```\n",
    "\n",
    "### Java\n",
    "```Java\n",
    "public int findKthLargest(int[] nums, int k) {\n",
    "\n",
    "\t\tPriorityQueue<Integer> minHeap = new PriorityQueue<>();\n",
    "\t\t// minHeap.addAll(list);\n",
    "\t\tfor (int i = 0; i < k; i++)\n",
    "\t\t\tminHeap.add(nums[i]);\n",
    "\n",
    "\t\tfor (int i = k; i < nums.length; i++) {\n",
    "\t\t\tif (minHeap.peek() < nums[i]) {\n",
    "\t\t\t\tminHeap.poll();\n",
    "\t\t\t\tminHeap.add(nums[i]);\n",
    "\t\t\t}\n",
    "\t\t}\n",
    "\n",
    "\t\t//for (int i = 0; i < k-1; i++)\n",
    "\t\t//\tminHeap.poll();\n",
    "\n",
    "\t\treturn minHeap.peek();\n",
    "\t}\n",
    "\n",
    "```\n",
    "\n",
    "\n",
    "### C++\n",
    "```C++\n",
    "class Solution {\n",
    "public:\n",
    "    int findKthLargest(vector<int>& nums, int k) {\n",
    "        priority_queue<int,vector<int>,greater<int> > pq;\n",
    "      \n",
    "        for(int i=0;i<k;i++){\n",
    "            pq.push(nums[i]);\n",
    "        }\n",
    "        for(int i=k;i<nums.size();i++){\n",
    "            if(nums[i] > pq.top()){\n",
    "                pq.pop();\n",
    "                pq.push(nums[i]);\n",
    "            }\n",
    "        }\n",
    "        return pq.top();\n",
    "    }\n",
    "};\n",
    "\n",
    "```"
   ]
  },
  {
   "cell_type": "code",
   "execution_count": null,
   "id": "f575cee8",
   "metadata": {},
   "outputs": [],
   "source": []
  },
  {
   "cell_type": "markdown",
   "id": "ccb82a9f",
   "metadata": {},
   "source": [
    "https://leetcode.com/problems/merge-k-sorted-lists/\n",
    "\n",
    "K lists.  \n",
    "Each of size N.  \n",
    "    \n",
    "**Solution-1**\n",
    "- Merge all lists pair wise till we have only one list left\n",
    "\n",
    "TC: O(nk log k)\n",
    "SC: O(k)\n",
    "\n",
    "**Solution-2**\n",
    "- Join all list: O(nk)\n",
    "- Sort all data(size is now nk): O(nk log nk)\n",
    "\n",
    "TC: (nk log nk)\n",
    "    \n",
    "**Solution-3**: based on merging 2 sorted arrays: pick the smallest element from k lists\n",
    "- Maintain a list of current index for all lists\n",
    "- Pick the smallest element  from all lists. Increment the pointer/index for the list where min element is picked O(k)\n",
    "- repeat above step for all data elements/ till all lists are exhausted.\n",
    "\n",
    "TC: O(n * k^2)\n",
    "\n",
    "**Solution-4**\n",
    "- use a heap to maintain the minimum of value from all the k lists.\n",
    "Similar to solution-3\n",
    "\n",
    "TC: O( nk log k)\n",
    "SC: O(k)"
   ]
  },
  {
   "cell_type": "markdown",
   "id": "8eb50ddf",
   "metadata": {},
   "source": [
    "Solution-4\n",
    "```Python\n",
    "\n",
    "import heapq\n",
    "class Solution:\n",
    "    def mergeKLists(self, lists: List[Optional[ListNode]]) -> Optional[ListNode]:\n",
    "\n",
    "        ListNode.__lt__ = lambda x,y: x.val < y.val\n",
    "\n",
    "        heap = []\n",
    "        for list in lists:\n",
    "            if list is not None:\n",
    "                heapq.heappush(heap, list)\n",
    "\n",
    "        res = None\n",
    "        prev = None\n",
    "        while (len(heap) != 0 ):\n",
    "            \n",
    "            curr = heapq.heappop(heap)\n",
    "            if res is None:\n",
    "                res = curr\n",
    "\n",
    "            if curr.next != None:\n",
    "                heapq.heappush(heap, curr.next)\n",
    "\n",
    "            if prev is not None:\n",
    "                prev.next = curr\n",
    "            prev = curr\n",
    "\n",
    "        return res\n",
    "```"
   ]
  },
  {
   "cell_type": "code",
   "execution_count": 39,
   "id": "97e602fc",
   "metadata": {},
   "outputs": [
    {
     "name": "stdout",
     "output_type": "stream",
     "text": [
      "False\n"
     ]
    }
   ],
   "source": [
    "# Definition for singly-linked list.\n",
    "class ListNode:\n",
    "    def __init__(self, val=0, next=None):\n",
    "        self.val = val\n",
    "        self.next = next\n",
    "\n",
    "ListNode.__lt__ = lambda x,y: x.val < y.val\n",
    "\n",
    "l1 = ListNode(10)\n",
    "l2 = ListNode(20)\n",
    "\n",
    "print(l2 < l1)"
   ]
  },
  {
   "cell_type": "code",
   "execution_count": 37,
   "id": "e92bf532",
   "metadata": {},
   "outputs": [
    {
     "name": "stdout",
     "output_type": "stream",
     "text": [
      "1\n",
      "2\n",
      "3\n",
      "5\n",
      "7\n",
      "10\n",
      "15\n",
      "20\n",
      "30\n"
     ]
    }
   ],
   "source": [
    "import itertools\n",
    "res = [d for d in sorted(itertools.chain([1,2,3], [10, 20,30], [5,7,15]))]\n",
    "    print(d)"
   ]
  },
  {
   "cell_type": "markdown",
   "id": "37124451",
   "metadata": {},
   "source": [
    "\n",
    "Sort nearly k sorted array:  \n",
    "Skyline: https://leetcode.com/problems/the-skyline-problem/\n"
   ]
  },
  {
   "cell_type": "code",
   "execution_count": null,
   "id": "9e66984d",
   "metadata": {},
   "outputs": [],
   "source": []
  },
  {
   "cell_type": "code",
   "execution_count": null,
   "id": "3e50db91",
   "metadata": {},
   "outputs": [],
   "source": []
  }
 ],
 "metadata": {
  "kernelspec": {
   "display_name": "Python 3",
   "language": "python",
   "name": "python3"
  },
  "language_info": {
   "codemirror_mode": {
    "name": "ipython",
    "version": 3
   },
   "file_extension": ".py",
   "mimetype": "text/x-python",
   "name": "python",
   "nbconvert_exporter": "python",
   "pygments_lexer": "ipython3",
   "version": "3.8.8"
  }
 },
 "nbformat": 4,
 "nbformat_minor": 5
}
