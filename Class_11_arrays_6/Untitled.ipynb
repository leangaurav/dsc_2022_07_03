{
 "cells": [
  {
   "cell_type": "markdown",
   "id": "5522206f",
   "metadata": {},
   "source": [
    "## Arrays-6"
   ]
  },
  {
   "cell_type": "markdown",
   "id": "48002c2d",
   "metadata": {},
   "source": [
    "We'll close at sharp 11:00 today :D"
   ]
  },
  {
   "cell_type": "code",
   "execution_count": null,
   "id": "9f75f97b",
   "metadata": {},
   "outputs": [],
   "source": []
  },
  {
   "cell_type": "code",
   "execution_count": null,
   "id": "02f7e153",
   "metadata": {},
   "outputs": [],
   "source": []
  },
  {
   "cell_type": "markdown",
   "id": "b0c68998",
   "metadata": {},
   "source": [
    "**Question 1:**  \n",
    "https://leetcode.com/problems/first-unique-character-in-a-string/\n",
    "**Question 2:**  \n",
    "https://leetcode.com/problems/valid-anagram/"
   ]
  },
  {
   "cell_type": "code",
   "execution_count": null,
   "id": "5adc9984",
   "metadata": {},
   "outputs": [],
   "source": []
  },
  {
   "cell_type": "code",
   "execution_count": null,
   "id": "0db16dea",
   "metadata": {},
   "outputs": [],
   "source": []
  },
  {
   "cell_type": "markdown",
   "id": "28ad4399",
   "metadata": {},
   "source": [
    "**Question 5:**  \n",
    "https://leetcode.com/problems/longest-palindrome/"
   ]
  },
  {
   "cell_type": "code",
   "execution_count": null,
   "id": "4ac59e28",
   "metadata": {},
   "outputs": [],
   "source": [
    "class Solution {\n",
    "public:\n",
    "    int longestPalindrome(string s) {\n",
    "        map<char, int> freq;\n",
    "        \n",
    "        // Count frequency of each character\n",
    "        for(auto c: s) {\n",
    "            if (freq.count(c) == 0) {\n",
    "                freq[c] = 0;\n",
    "            }\n",
    "            freq[c] += 1;\n",
    "        }\n",
    "        \n",
    "        \n",
    "        int count = 0;\n",
    "        bool hasOddCount = false;\n",
    "        for (auto it : freq) {\n",
    "            \n",
    "            if (it.second%2 == 0) {\n",
    "                count += it.second;\n",
    "            } else {\n",
    "                count += (it.second - 1);\n",
    "                hasOddCount = true;\n",
    "            }\n",
    "            \n",
    "        }\n",
    "        \n",
    "        return count + hasOddCount;\n",
    "    }\n",
    "};\n",
    "\n",
    "// TC: O(n)\n",
    "// SC: O(n)"
   ]
  },
  {
   "cell_type": "code",
   "execution_count": null,
   "id": "ec30742e",
   "metadata": {},
   "outputs": [],
   "source": []
  },
  {
   "cell_type": "markdown",
   "id": "56c70301",
   "metadata": {},
   "source": [
    "**Question 4:**  \n",
    "https://leetcode.com/problems/longest-substring-without-repeating-characters/ \n"
   ]
  },
  {
   "cell_type": "code",
   "execution_count": null,
   "id": "100dace7",
   "metadata": {},
   "outputs": [],
   "source": [
    "// JAVA\n",
    "    Map<Character,Integer> dat = new HashMap<>();\n",
    "\n",
    "    int left=0;\n",
    "    int max_so_far=0;\n",
    "    // String res = \"\";\n",
    "    // slide the right pointer\n",
    "    for(int right=0;right<s.length();right++)\n",
    "    {\n",
    "      dat.put(s.charAt(right),  dat.getOrDefault(s.charAt(right),0)+1);\n",
    "\n",
    "     // slide the left pointer till the time duplicate is not removed\n",
    "      while(dat.get(s.charAt(right))>1)\n",
    "      {\n",
    "        char c=s.charAt(left);\n",
    "        if ( dat.get(c) > 1 ) {\n",
    "          dat.put(c,dat.get(c)-1);\n",
    "        }\n",
    "        else {\n",
    "          dat.remove(c);\n",
    "        }\n",
    "        left++;\n",
    "      }\n",
    "\n",
    "    // if (res.length() < right-left+1) {\n",
    "    //     res = s.substring(left, right+1);\n",
    "    // }\n",
    "      max_so_far=Math.max(max_so_far,right-left+1);\n",
    "\n",
    "    }\n",
    "\n",
    "// TC: O(N)\n",
    "// SC: O(N)\n",
    "# s = acbdbaca\n",
    "#     01234567\n",
    "#           lr\n",
    "    \n",
    "\n",
    "# left  0 0   0        0              0                0                 1             2          3          3\n",
    "# right 0 0   1        2              3                4                 4             4                     5\n",
    "# max   0 1   2        3              4                     \n",
    "\n",
    "# m    (a:1) (a:1,c:1) (a:1,c:1,b:1) (a:1,c:1,b:1,d:1) (a:1,c:1,b:2,d:1) (c:1,b:2,d:1) (b:2,d:1) (b:1,d:1)  (a:1,b:1,d:1)\n",
    " \n",
    "    "
   ]
  },
  {
   "cell_type": "code",
   "execution_count": null,
   "id": "e9c79d9e",
   "metadata": {},
   "outputs": [],
   "source": []
  },
  {
   "cell_type": "markdown",
   "id": "b78bf3fa",
   "metadata": {},
   "source": [
    "**Question 3:**  \n",
    "https://leetcode.com/problems/rank-teams-by-votes/"
   ]
  },
  {
   "cell_type": "code",
   "execution_count": null,
   "id": "ba33e3b8",
   "metadata": {},
   "outputs": [],
   "source": [
    "# WAP to sort a matrix\n",
    "# solution\n",
    "# TC ?"
   ]
  },
  {
   "cell_type": "code",
   "execution_count": 2,
   "id": "a20d0866",
   "metadata": {},
   "outputs": [
    {
     "name": "stdout",
     "output_type": "stream",
     "text": [
      "['abc', 'abda', 'pqr']\n",
      "['abda', 'abc', 'pqr']\n"
     ]
    }
   ],
   "source": [
    "a = [\"abc\",\"pqr\", \"abda\"]\n",
    "\n",
    "a.sort()\n",
    "print(a)\n",
    "\n",
    "a.sort(key=lambda x: x[-1])\n",
    "print(a)"
   ]
  },
  {
   "cell_type": "code",
   "execution_count": 5,
   "id": "561f64fc",
   "metadata": {},
   "outputs": [
    {
     "name": "stdout",
     "output_type": "stream",
     "text": [
      "True\n",
      "False\n"
     ]
    }
   ],
   "source": [
    "class Team:\n",
    "    def __init__(self, ranks, name):\n",
    "        self.ranks = ranks\n",
    "        self.name = name\n",
    "        \n",
    "    # less than\n",
    "    def __lt__(self, other):\n",
    "        \n",
    "        for i in range(len(self.ranks)):\n",
    "            if self.ranks[i] < other.ranks[i]:\n",
    "                return True\n",
    "            elif self.ranks[i] > other.ranks[i]\n",
    "                return False\n",
    "\n",
    "        return self.name < other.name\n",
    "\n",
    "//            1 2 3\n",
    "//         A  1 0 1\n",
    "//         B  0 2\n",
    "//         C  1 0 1\n",
    "\n",
    "\n",
    "//         A  1 0 2\n",
    "//         B  1 2 1\n",
    "\n",
    "t1 = Team([],\"A\")\n",
    "t2 = Team([],\"B\")\n",
    "\n",
    "print(t1<t2)\n",
    "print(t2<t1)"
   ]
  },
  {
   "cell_type": "code",
   "execution_count": null,
   "id": "bc85d7c2",
   "metadata": {},
   "outputs": [],
   "source": []
  }
 ],
 "metadata": {
  "kernelspec": {
   "display_name": "Python 3",
   "language": "python",
   "name": "python3"
  },
  "language_info": {
   "codemirror_mode": {
    "name": "ipython",
    "version": 3
   },
   "file_extension": ".py",
   "mimetype": "text/x-python",
   "name": "python",
   "nbconvert_exporter": "python",
   "pygments_lexer": "ipython3",
   "version": "3.8.8"
  }
 },
 "nbformat": 4,
 "nbformat_minor": 5
}
